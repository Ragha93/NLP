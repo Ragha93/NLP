{
  "nbformat": 4,
  "nbformat_minor": 0,
  "metadata": {
    "colab": {
      "name": "Project1_NLP.ipynb",
      "provenance": [],
      "collapsed_sections": []
    },
    "kernelspec": {
      "display_name": "Python 3",
      "name": "python3"
    },
    "language_info": {
      "name": "python"
    }
  },
  "cells": [
    {
      "cell_type": "markdown",
      "metadata": {
        "id": "DdOnVL6l1eo-"
      },
      "source": [
        "# Part1\n",
        "\n",
        "* Importing libraries"
      ]
    },
    {
      "cell_type": "code",
      "metadata": {
        "colab": {
          "base_uri": "https://localhost:8080/"
        },
        "id": "Qkzssc-yjicI",
        "outputId": "88661ebe-0ff6-4ea4-abc7-63d52fdf4101"
      },
      "source": [
        "from google.colab import drive\n",
        "import numpy as np\n",
        "import pandas as pd\n",
        "import matplotlib.pyplot as plt\n",
        "import seaborn as sns\n",
        "%matplotlib inline\n",
        "import string,nltk,re,pickle\n",
        "from string import punctuation\n",
        "nltk.download(['punkt','stopwords','wordnet'])\n",
        "from nltk.corpus import stopwords\n",
        "from nltk.stem import PorterStemmer,WordNetLemmatizer\n",
        "from sklearn.model_selection import train_test_split,GridSearchCV\n",
        "from sklearn.feature_extraction.text import TfidfVectorizer,CountVectorizer\n",
        "from sklearn.naive_bayes import MultinomialNB\n",
        "from sklearn.preprocessing import MultiLabelBinarizer,LabelEncoder\n",
        "from sklearn.metrics import classification_report,confusion_matrix,accuracy_score,f1_score\n",
        "from sklearn.multiclass import OneVsRestClassifier\n",
        "from sklearn.tree import DecisionTreeClassifier\n",
        "from sklearn.ensemble import RandomForestClassifier\n",
        "from sklearn.pipeline import Pipeline\n",
        "import warnings\n",
        "warnings.filterwarnings(\"ignore\")\n",
        "import tensorflow as tf\n",
        "from tensorflow.keras.models import Sequential,load_model\n",
        "from tensorflow.keras.layers import Dense,Dropout,Activation\n",
        "from tensorflow.keras.callbacks import EarlyStopping\n",
        "from tensorflow.keras import regularizers, optimizers\n",
        "from tensorflow.keras.utils import to_categorical\n",
        "from tensorflow.keras.optimizers import RMSprop\n",
        "drive.mount('/content/drive/')\n",
        "project_path = '/content/drive/My Drive/Data Science/NLP/Project1/'"
      ],
      "execution_count": 1,
      "outputs": [
        {
          "output_type": "stream",
          "name": "stdout",
          "text": [
            "[nltk_data] Downloading package punkt to /root/nltk_data...\n",
            "[nltk_data]   Unzipping tokenizers/punkt.zip.\n",
            "[nltk_data] Downloading package stopwords to /root/nltk_data...\n",
            "[nltk_data]   Unzipping corpora/stopwords.zip.\n",
            "[nltk_data] Downloading package wordnet to /root/nltk_data...\n",
            "[nltk_data]   Unzipping corpora/wordnet.zip.\n",
            "Mounted at /content/drive/\n"
          ]
        }
      ]
    },
    {
      "cell_type": "markdown",
      "metadata": {
        "id": "tcyUZL44k20u"
      },
      "source": [
        "# **Part 1: PROJECT OBJECTIVE**: The need is to build a NLP classifier which can use input text parameters to determine the label/s of the blog.\n",
        "\n",
        "\n",
        "### 1. Import and analyse the data set."
      ]
    },
    {
      "cell_type": "code",
      "metadata": {
        "id": "O72WM4tgj580"
      },
      "source": [
        "df = pd.read_csv(project_path + \"blogtext.csv\")"
      ],
      "execution_count": 2,
      "outputs": []
    },
    {
      "cell_type": "code",
      "metadata": {
        "colab": {
          "base_uri": "https://localhost:8080/",
          "height": 206
        },
        "id": "903azVMLlw6K",
        "outputId": "02533456-8429-4cc6-ab48-e64b7f348b32"
      },
      "source": [
        "df.head()"
      ],
      "execution_count": null,
      "outputs": [
        {
          "output_type": "execute_result",
          "data": {
            "text/html": [
              "<div>\n",
              "<style scoped>\n",
              "    .dataframe tbody tr th:only-of-type {\n",
              "        vertical-align: middle;\n",
              "    }\n",
              "\n",
              "    .dataframe tbody tr th {\n",
              "        vertical-align: top;\n",
              "    }\n",
              "\n",
              "    .dataframe thead th {\n",
              "        text-align: right;\n",
              "    }\n",
              "</style>\n",
              "<table border=\"1\" class=\"dataframe\">\n",
              "  <thead>\n",
              "    <tr style=\"text-align: right;\">\n",
              "      <th></th>\n",
              "      <th>id</th>\n",
              "      <th>gender</th>\n",
              "      <th>age</th>\n",
              "      <th>topic</th>\n",
              "      <th>sign</th>\n",
              "      <th>date</th>\n",
              "      <th>text</th>\n",
              "    </tr>\n",
              "  </thead>\n",
              "  <tbody>\n",
              "    <tr>\n",
              "      <th>0</th>\n",
              "      <td>2059027</td>\n",
              "      <td>male</td>\n",
              "      <td>15</td>\n",
              "      <td>Student</td>\n",
              "      <td>Leo</td>\n",
              "      <td>14,May,2004</td>\n",
              "      <td>Info has been found (+/- 100 pages,...</td>\n",
              "    </tr>\n",
              "    <tr>\n",
              "      <th>1</th>\n",
              "      <td>2059027</td>\n",
              "      <td>male</td>\n",
              "      <td>15</td>\n",
              "      <td>Student</td>\n",
              "      <td>Leo</td>\n",
              "      <td>13,May,2004</td>\n",
              "      <td>These are the team members:   Drewe...</td>\n",
              "    </tr>\n",
              "    <tr>\n",
              "      <th>2</th>\n",
              "      <td>2059027</td>\n",
              "      <td>male</td>\n",
              "      <td>15</td>\n",
              "      <td>Student</td>\n",
              "      <td>Leo</td>\n",
              "      <td>12,May,2004</td>\n",
              "      <td>In het kader van kernfusie op aarde...</td>\n",
              "    </tr>\n",
              "    <tr>\n",
              "      <th>3</th>\n",
              "      <td>2059027</td>\n",
              "      <td>male</td>\n",
              "      <td>15</td>\n",
              "      <td>Student</td>\n",
              "      <td>Leo</td>\n",
              "      <td>12,May,2004</td>\n",
              "      <td>testing!!!  testing!!!</td>\n",
              "    </tr>\n",
              "    <tr>\n",
              "      <th>4</th>\n",
              "      <td>3581210</td>\n",
              "      <td>male</td>\n",
              "      <td>33</td>\n",
              "      <td>InvestmentBanking</td>\n",
              "      <td>Aquarius</td>\n",
              "      <td>11,June,2004</td>\n",
              "      <td>Thanks to Yahoo!'s Toolbar I can ...</td>\n",
              "    </tr>\n",
              "  </tbody>\n",
              "</table>\n",
              "</div>"
            ],
            "text/plain": [
              "        id  ...                                               text\n",
              "0  2059027  ...             Info has been found (+/- 100 pages,...\n",
              "1  2059027  ...             These are the team members:   Drewe...\n",
              "2  2059027  ...             In het kader van kernfusie op aarde...\n",
              "3  2059027  ...                   testing!!!  testing!!!          \n",
              "4  3581210  ...               Thanks to Yahoo!'s Toolbar I can ...\n",
              "\n",
              "[5 rows x 7 columns]"
            ]
          },
          "metadata": {},
          "execution_count": 4
        }
      ]
    },
    {
      "cell_type": "code",
      "metadata": {
        "colab": {
          "base_uri": "https://localhost:8080/"
        },
        "id": "1Vi5w9xWly7N",
        "outputId": "71c9f752-adb7-4e4b-fbdd-456b18ceb065"
      },
      "source": [
        "df.info()\n",
        "# There are 681284 rows of data"
      ],
      "execution_count": null,
      "outputs": [
        {
          "output_type": "stream",
          "name": "stdout",
          "text": [
            "<class 'pandas.core.frame.DataFrame'>\n",
            "RangeIndex: 681284 entries, 0 to 681283\n",
            "Data columns (total 7 columns):\n",
            " #   Column  Non-Null Count   Dtype \n",
            "---  ------  --------------   ----- \n",
            " 0   id      681284 non-null  int64 \n",
            " 1   gender  681284 non-null  object\n",
            " 2   age     681284 non-null  int64 \n",
            " 3   topic   681284 non-null  object\n",
            " 4   sign    681284 non-null  object\n",
            " 5   date    681284 non-null  object\n",
            " 6   text    681284 non-null  object\n",
            "dtypes: int64(2), object(5)\n",
            "memory usage: 36.4+ MB\n"
          ]
        }
      ]
    },
    {
      "cell_type": "code",
      "metadata": {
        "colab": {
          "base_uri": "https://localhost:8080/",
          "height": 424
        },
        "id": "0muhnVuMl_kd",
        "outputId": "47eb748e-244a-4c63-d504-ada90639c099"
      },
      "source": [
        "df[df['id']==3581210]"
      ],
      "execution_count": null,
      "outputs": [
        {
          "output_type": "execute_result",
          "data": {
            "text/html": [
              "<div>\n",
              "<style scoped>\n",
              "    .dataframe tbody tr th:only-of-type {\n",
              "        vertical-align: middle;\n",
              "    }\n",
              "\n",
              "    .dataframe tbody tr th {\n",
              "        vertical-align: top;\n",
              "    }\n",
              "\n",
              "    .dataframe thead th {\n",
              "        text-align: right;\n",
              "    }\n",
              "</style>\n",
              "<table border=\"1\" class=\"dataframe\">\n",
              "  <thead>\n",
              "    <tr style=\"text-align: right;\">\n",
              "      <th></th>\n",
              "      <th>id</th>\n",
              "      <th>gender</th>\n",
              "      <th>age</th>\n",
              "      <th>topic</th>\n",
              "      <th>sign</th>\n",
              "      <th>date</th>\n",
              "      <th>text</th>\n",
              "    </tr>\n",
              "  </thead>\n",
              "  <tbody>\n",
              "    <tr>\n",
              "      <th>4</th>\n",
              "      <td>3581210</td>\n",
              "      <td>male</td>\n",
              "      <td>33</td>\n",
              "      <td>InvestmentBanking</td>\n",
              "      <td>Aquarius</td>\n",
              "      <td>11,June,2004</td>\n",
              "      <td>Thanks to Yahoo!'s Toolbar I can ...</td>\n",
              "    </tr>\n",
              "    <tr>\n",
              "      <th>5</th>\n",
              "      <td>3581210</td>\n",
              "      <td>male</td>\n",
              "      <td>33</td>\n",
              "      <td>InvestmentBanking</td>\n",
              "      <td>Aquarius</td>\n",
              "      <td>10,June,2004</td>\n",
              "      <td>I had an interesting conversation...</td>\n",
              "    </tr>\n",
              "    <tr>\n",
              "      <th>6</th>\n",
              "      <td>3581210</td>\n",
              "      <td>male</td>\n",
              "      <td>33</td>\n",
              "      <td>InvestmentBanking</td>\n",
              "      <td>Aquarius</td>\n",
              "      <td>10,June,2004</td>\n",
              "      <td>Somehow Coca-Cola has a way of su...</td>\n",
              "    </tr>\n",
              "    <tr>\n",
              "      <th>7</th>\n",
              "      <td>3581210</td>\n",
              "      <td>male</td>\n",
              "      <td>33</td>\n",
              "      <td>InvestmentBanking</td>\n",
              "      <td>Aquarius</td>\n",
              "      <td>10,June,2004</td>\n",
              "      <td>If anything, Korea is a country o...</td>\n",
              "    </tr>\n",
              "    <tr>\n",
              "      <th>8</th>\n",
              "      <td>3581210</td>\n",
              "      <td>male</td>\n",
              "      <td>33</td>\n",
              "      <td>InvestmentBanking</td>\n",
              "      <td>Aquarius</td>\n",
              "      <td>10,June,2004</td>\n",
              "      <td>Take a read of this news article ...</td>\n",
              "    </tr>\n",
              "    <tr>\n",
              "      <th>...</th>\n",
              "      <td>...</td>\n",
              "      <td>...</td>\n",
              "      <td>...</td>\n",
              "      <td>...</td>\n",
              "      <td>...</td>\n",
              "      <td>...</td>\n",
              "      <td>...</td>\n",
              "    </tr>\n",
              "    <tr>\n",
              "      <th>69</th>\n",
              "      <td>3581210</td>\n",
              "      <td>male</td>\n",
              "      <td>33</td>\n",
              "      <td>InvestmentBanking</td>\n",
              "      <td>Aquarius</td>\n",
              "      <td>10,August,2004</td>\n",
              "      <td>Korea's pretty funny sometimes.  ...</td>\n",
              "    </tr>\n",
              "    <tr>\n",
              "      <th>70</th>\n",
              "      <td>3581210</td>\n",
              "      <td>male</td>\n",
              "      <td>33</td>\n",
              "      <td>InvestmentBanking</td>\n",
              "      <td>Aquarius</td>\n",
              "      <td>09,August,2004</td>\n",
              "      <td>Ya, I'm off to Canada/Vancouver a...</td>\n",
              "    </tr>\n",
              "    <tr>\n",
              "      <th>71</th>\n",
              "      <td>3581210</td>\n",
              "      <td>male</td>\n",
              "      <td>33</td>\n",
              "      <td>InvestmentBanking</td>\n",
              "      <td>Aquarius</td>\n",
              "      <td>09,August,2004</td>\n",
              "      <td>Ah, finally...someone else I know...</td>\n",
              "    </tr>\n",
              "    <tr>\n",
              "      <th>72</th>\n",
              "      <td>3581210</td>\n",
              "      <td>male</td>\n",
              "      <td>33</td>\n",
              "      <td>InvestmentBanking</td>\n",
              "      <td>Aquarius</td>\n",
              "      <td>08,August,2004</td>\n",
              "      <td>I think if I'm going to claim 여의도...</td>\n",
              "    </tr>\n",
              "    <tr>\n",
              "      <th>73</th>\n",
              "      <td>3581210</td>\n",
              "      <td>male</td>\n",
              "      <td>33</td>\n",
              "      <td>InvestmentBanking</td>\n",
              "      <td>Aquarius</td>\n",
              "      <td>08,August,2004</td>\n",
              "      <td>Being gay in Korea is like being ...</td>\n",
              "    </tr>\n",
              "  </tbody>\n",
              "</table>\n",
              "<p>70 rows × 7 columns</p>\n",
              "</div>"
            ],
            "text/plain": [
              "         id  ...                                               text\n",
              "4   3581210  ...               Thanks to Yahoo!'s Toolbar I can ...\n",
              "5   3581210  ...               I had an interesting conversation...\n",
              "6   3581210  ...               Somehow Coca-Cola has a way of su...\n",
              "7   3581210  ...               If anything, Korea is a country o...\n",
              "8   3581210  ...               Take a read of this news article ...\n",
              "..      ...  ...                                                ...\n",
              "69  3581210  ...               Korea's pretty funny sometimes.  ...\n",
              "70  3581210  ...               Ya, I'm off to Canada/Vancouver a...\n",
              "71  3581210  ...               Ah, finally...someone else I know...\n",
              "72  3581210  ...               I think if I'm going to claim 여의도...\n",
              "73  3581210  ...               Being gay in Korea is like being ...\n",
              "\n",
              "[70 rows x 7 columns]"
            ]
          },
          "metadata": {},
          "execution_count": 6
        }
      ]
    },
    {
      "cell_type": "code",
      "metadata": {
        "colab": {
          "base_uri": "https://localhost:8080/",
          "height": 92
        },
        "id": "6FkxEfb_mL_T",
        "outputId": "ffa2e142-0bb9-4f10-8f35-10bb575d26cd"
      },
      "source": [
        "df[df['id']==3581210]['text'].iloc[0]"
      ],
      "execution_count": null,
      "outputs": [
        {
          "output_type": "execute_result",
          "data": {
            "application/vnd.google.colaboratory.intrinsic+json": {
              "type": "string"
            },
            "text/plain": [
              "\"             Thanks to Yahoo!'s Toolbar I can now 'capture' the URLs of popups...which means now I can show you some cool links to Korean Pop (K-Pop) audio and video without the need to relate instructions like: 'go to the site, click on the pop-audio button then choose...'.  So, without further ado here is the link to 24-hour K-Pop  urlLink audio  and the  urlLink video  streaming.  Enjoy.         \""
            ]
          },
          "metadata": {},
          "execution_count": 7
        }
      ]
    },
    {
      "cell_type": "code",
      "metadata": {
        "colab": {
          "base_uri": "https://localhost:8080/",
          "height": 516
        },
        "id": "yrfSINmoRnqk",
        "outputId": "d73c6c8b-dc82-4b46-c502-6a91345e6e9f"
      },
      "source": [
        "plt.figure(figsize=(10,8))\n",
        "plt.grid()\n",
        "sns.distplot(df['age'])\n",
        "\n",
        "#We notice a multimodal distribution, it has 3 peaks as mentioned in the project PDF.\n",
        "# 8240 \"10s\" blogs (ages 13-17) - Peak1\n",
        "# 8086 \"20s\" blogs(ages 23-27) - Peak2\n",
        "# 2994 \"30s\" blogs (ages 33-47)- Peak3 - less number of people"
      ],
      "execution_count": null,
      "outputs": [
        {
          "output_type": "execute_result",
          "data": {
            "text/plain": [
              "<matplotlib.axes._subplots.AxesSubplot at 0x7fb686225f10>"
            ]
          },
          "metadata": {},
          "execution_count": 8
        },
        {
          "output_type": "display_data",
          "data": {
            "image/png": "[encoded data removed]",
            "text/plain": [
              "<Figure size 720x576 with 1 Axes>"
            ]
          },
          "metadata": {
            "needs_background": "light"
          }
        }
      ]
    },
    {
      "cell_type": "code",
      "metadata": {
        "colab": {
          "base_uri": "https://localhost:8080/",
          "height": 298
        },
        "id": "rM0-cldNS9_M",
        "outputId": "41b9fa8c-0119-4c25-a67b-e147ccfd79fe"
      },
      "source": [
        "#We notice 9 outliers \n",
        "plt.grid()\n",
        "sns.boxplot(df['age'])"
      ],
      "execution_count": null,
      "outputs": [
        {
          "output_type": "execute_result",
          "data": {
            "text/plain": [
              "<matplotlib.axes._subplots.AxesSubplot at 0x7fb6856c8390>"
            ]
          },
          "metadata": {},
          "execution_count": 9
        },
        {
          "output_type": "display_data",
          "data": {
            "image/png": "[encoded data removed]",
            "text/plain": [
              "<Figure size 432x288 with 1 Axes>"
            ]
          },
          "metadata": {
            "needs_background": "light"
          }
        }
      ]
    },
    {
      "cell_type": "markdown",
      "metadata": {
        "id": "krgFzrUHVdqB"
      },
      "source": [
        "**Although it looks clear that the data is multimodal, lets prove it with the help of statistical evidence**\n",
        "\n",
        "* Ha = The data is not normally distributed\n",
        "* Ho = The data is normally distributed\n",
        "\n",
        "**The p-value is less than alpha (P<0.5) considering we take the 95% confidence, so we reject the null hypothesis**"
      ]
    },
    {
      "cell_type": "code",
      "metadata": {
        "colab": {
          "base_uri": "https://localhost:8080/"
        },
        "id": "uizDDAZjVc7M",
        "outputId": "7929300c-119a-497c-a8e6-847c9d515bb8"
      },
      "source": [
        "from scipy.stats import shapiro\n",
        "Stat,P_value = shapiro(df['age'])\n",
        "print(P_value)"
      ],
      "execution_count": null,
      "outputs": [
        {
          "output_type": "stream",
          "name": "stdout",
          "text": [
            "0.0\n"
          ]
        }
      ]
    },
    {
      "cell_type": "code",
      "metadata": {
        "colab": {
          "base_uri": "https://localhost:8080/",
          "height": 516
        },
        "id": "ZsVp6kdfRtQM",
        "outputId": "5dd585cc-003d-4bef-d31a-e3cdd065a51e"
      },
      "source": [
        "plt.figure(figsize=(10,8))\n",
        "plt.grid()\n",
        "sns.countplot(x=df['gender'])\n",
        "#Almost equal number of Male and Female"
      ],
      "execution_count": null,
      "outputs": [
        {
          "data": {
            "text/plain": [
              "<matplotlib.axes._subplots.AxesSubplot at 0x7f57e53d8510>"
            ]
          },
          "execution_count": 17,
          "metadata": {},
          "output_type": "execute_result"
        },
        {
          "data": {
            "image/png": "[encoded data removed]",
            "text/plain": [
              "<Figure size 720x576 with 1 Axes>"
            ]
          },
          "metadata": {},
          "output_type": "display_data"
        }
      ]
    },
    {
      "cell_type": "code",
      "metadata": {
        "colab": {
          "base_uri": "https://localhost:8080/",
          "height": 625
        },
        "id": "akCkPBEsTS7w",
        "outputId": "a6a7123b-48b6-4e94-8709-758aec8ac40e"
      },
      "source": [
        "plt.figure(figsize=(16,10))\n",
        "plt.grid()\n",
        "sns.countplot(y = df['topic'],orient=\"H\")\n",
        "#Here we notice a lot of mismatch (ie) imbalanced data, the student and indUnk contribute the most. This will lead to\n",
        "#an imblance in dataset"
      ],
      "execution_count": null,
      "outputs": [
        {
          "data": {
            "text/plain": [
              "<matplotlib.axes._subplots.AxesSubplot at 0x7f57db07ba10>"
            ]
          },
          "execution_count": 28,
          "metadata": {},
          "output_type": "execute_result"
        },
        {
          "data": {
            "image/png": "[encoded data removed]",
            "text/plain": [
              "<Figure size 1152x720 with 1 Axes>"
            ]
          },
          "metadata": {},
          "output_type": "display_data"
        }
      ]
    },
    {
      "cell_type": "code",
      "metadata": {
        "colab": {
          "base_uri": "https://localhost:8080/",
          "height": 625
        },
        "id": "E2iGPpP0Uiiq",
        "outputId": "75036c9d-7589-4b01-9ee8-73da11f39c8c"
      },
      "source": [
        "plt.figure(figsize=(16,10))\n",
        "plt.grid(axis=\"both\")\n",
        "sns.countplot(y = df['sign'])\n",
        "#These classes are still imbalanced but compared to topic they look little better"
      ],
      "execution_count": null,
      "outputs": [
        {
          "data": {
            "text/plain": [
              "<matplotlib.axes._subplots.AxesSubplot at 0x7f57dadcaa50>"
            ]
          },
          "execution_count": 31,
          "metadata": {},
          "output_type": "execute_result"
        },
        {
          "data": {
            "image/png": "[encoded data removed]",
            "text/plain": [
              "<Figure size 1152x720 with 1 Axes>"
            ]
          },
          "metadata": {},
          "output_type": "display_data"
        }
      ]
    },
    {
      "cell_type": "markdown",
      "metadata": {
        "id": "KNAJX-H9nKkb"
      },
      "source": [
        "# 2. Perform data pre-processing on the data:\n",
        "\n",
        "*   **Data cleansing by removing unwanted characters, spaces, stop words etc. Convert text to lowercase.<-**\n",
        "*   Target/label merger and transformation\n",
        "*   Train and test split\n",
        "*   Vectorisation, etc.\n",
        "\n"
      ]
    },
    {
      "cell_type": "markdown",
      "metadata": {
        "id": "YvMKVQWw-KrH"
      },
      "source": [
        "#Operations performed:\n",
        "### 1. Lowering the words\n",
        "### 2. Remove html, 2 or more spaces, numbers, non-english words & punctuation symbols out\n",
        "### 3. Remove stopwords and give a list of words\n",
        "\n",
        "# **Raw form of coding**"
      ]
    },
    {
      "cell_type": "code",
      "metadata": {
        "id": "RmxCgtIf-KAX"
      },
      "source": [
        "for t in df['text']:\n",
        "  t = t.lower()\n",
        "  t = re.sub(\"<.*>|[\\s]{2,}| [.0-9]+| [.0-9]{2,10}|[^a-zA-Z]\",\" \",t)\n",
        "  t = [i for i in t if i not in string.punctuation]\n",
        "  t = \"\".join(t)\n",
        "  b = []\n",
        "  for i in nltk.word_tokenize(t):\n",
        "    if i not in stopwords.words('english'):\n",
        "      b.append(i)\n",
        "\n",
        "# Simplified coding\n",
        "# cleaned_text = [[i for i in nltk.word_tokenize(\"\".join([i for i in re.sub(\"<.*>|[\\s]{2,}| [.0-9]+| [.0-9]{2,10}|[^a-zA-Z]\",\" \",t.lower()) if i not in string.punctuation])) if i not in stopwords.words('english')] for t in df['text']]"
      ],
      "execution_count": null,
      "outputs": []
    },
    {
      "cell_type": "markdown",
      "metadata": {
        "id": "1zkcUP-n-aiJ"
      },
      "source": [
        "# **Simplified coding** - Using List comprehension and eliminating multiple list, variable declaration, appending methods etc etc which might save some memory and time\n"
      ]
    },
    {
      "cell_type": "code",
      "metadata": {
        "id": "bWIz5TMI_RND"
      },
      "source": [
        "cleaned_text = [[i for i in nltk.word_tokenize(\"\".join([i for i in re.sub(\"<.*>|[\\s]{2,}| [.0-9]+| [.0-9]{2,10}|[^a-zA-Z]\",\" \",t.lower()) if i not in string.punctuation])) if i not in stopwords.words('english')] for t in df['text']]\n",
        "\n",
        "\n",
        "#Saving it in the form of array so that the above function is not run multiple times.\n",
        "# np.save('/content/drive/My Drive/Data Science/NLP/Project1/cleaned_text.npy',np.array(cleaned_text))\n",
        "# cleaned_text = np.load('/content/drive/My Drive/Data Science/NLP/Project1/cleaned_text.npy',allow_pickle=True)"
      ],
      "execution_count": 3,
      "outputs": []
    },
    {
      "cell_type": "code",
      "metadata": {
        "colab": {
          "base_uri": "https://localhost:8080/"
        },
        "id": "-fA1gvmN-KF5",
        "outputId": "5b5830ab-1575-4d7a-dbc0-c5499e2f9d14"
      },
      "source": [
        "len(cleaned_text)"
      ],
      "execution_count": null,
      "outputs": [
        {
          "data": {
            "text/plain": [
              "681284"
            ]
          },
          "execution_count": 4,
          "metadata": {},
          "output_type": "execute_result"
        }
      ]
    },
    {
      "cell_type": "code",
      "metadata": {
        "colab": {
          "base_uri": "https://localhost:8080/"
        },
        "id": "LCadesrc-KIj",
        "outputId": "702f1ed2-9308-4acf-f85c-15387bc45670"
      },
      "source": [
        "len(df['text'])"
      ],
      "execution_count": null,
      "outputs": [
        {
          "data": {
            "text/plain": [
              "681284"
            ]
          },
          "execution_count": 13,
          "metadata": {},
          "output_type": "execute_result"
        }
      ]
    },
    {
      "cell_type": "markdown",
      "metadata": {
        "id": "o8w1CtG7vKv8"
      },
      "source": [
        "*  **Target/label merger and transformation**  <--\n",
        "\n",
        "  * In this case we see that there is Age, Gender, Topic and Zodiac sign which needs to be merged to create a target.\n",
        "  * Once merged in the form of list, we will try to convert it into binary form of list that we usually use in neural networks with softmax\n",
        "  * Now, this becomes 1 input vs multiple targets\n",
        "  * In order to convert the target in the form of text to one hot bits we try to understand all the contents of target in the form of dictionary\n",
        "  * Post this use that to convert target to binary encoded form"
      ]
    },
    {
      "cell_type": "code",
      "metadata": {
        "id": "VZv7Ps6F1neK"
      },
      "source": [
        "def target(x):\n",
        "  return x['gender'],x['age'],x['topic'],x['sign']\n",
        "\n",
        "df['age1'] = df['age'].apply(str)\n",
        "df['Target_labels'] = df.apply(lambda col : [col['gender'],col['age1'],col['topic'],col['sign']], axis=1)"
      ],
      "execution_count": 4,
      "outputs": []
    },
    {
      "cell_type": "code",
      "metadata": {
        "id": "lWlZKakb-KOc"
      },
      "source": [
        "target_count=dict()\n",
        "\n",
        "for tl in df['Target_labels'].values:\n",
        "  for t in tl:\n",
        "    if t in target_count:\n",
        "      target_count[t]+=1\n",
        "    else:\n",
        "      target_count[t]=1"
      ],
      "execution_count": 5,
      "outputs": []
    },
    {
      "cell_type": "markdown",
      "metadata": {
        "id": "AnmEsvhOTR6A"
      },
      "source": [
        "* **Train test split** <--"
      ]
    },
    {
      "cell_type": "code",
      "metadata": {
        "id": "uDuzxxly-KXz"
      },
      "source": [
        "X_train, X_test, y_train, y_test = train_test_split(cleaned_text, df['Target_labels'], test_size=0.3, random_state=11)"
      ],
      "execution_count": 6,
      "outputs": []
    },
    {
      "cell_type": "markdown",
      "metadata": {
        "id": "TR1DTAkXYzbX"
      },
      "source": [
        "## **We use Multilabel binarizer as we have have Age, Gender, Topic and Sign to predict per each row of data**"
      ]
    },
    {
      "cell_type": "code",
      "metadata": {
        "id": "ml9YU5xn-KU9"
      },
      "source": [
        "binarizer=MultiLabelBinarizer(classes=sorted(target_count.keys()))\n",
        "y_train = binarizer.fit_transform(y_train)\n",
        "y_test = binarizer.transform(y_test)"
      ],
      "execution_count": 7,
      "outputs": []
    },
    {
      "cell_type": "markdown",
      "metadata": {
        "id": "23XCbjkWtTyL"
      },
      "source": [
        "* **Vectorisation** <--\n",
        "  * Before vectorization we will try to stem or lemmatize the data so that we will get to know the models performance on both the data.(We dont try both Stemming and Lemmatization as the data is too huge to be run on any platform)\n",
        "  * Post this we convert the text to vectors using both TF-IDF method and also Count vectorization(BOW).We stop only with stemming as Lemmatization takes more time.\n",
        "\n",
        "  * I am personally not trying Word2Vec as it is crashing the Colab's memory and continues to run for more than 5 hrs in jupyter notebook and sometimes crashes with memory error message"
      ]
    },
    {
      "cell_type": "code",
      "metadata": {
        "id": "KwZYrfJKTn9A"
      },
      "source": [
        "  #Using Stemming & Lemmatization techinique\n",
        "PS = PorterStemmer()\n",
        "LM = WordNetLemmatizer()\n",
        "\n",
        "#Vectorization done using both TF-IDF and BOW\n",
        "tfidf = TfidfVectorizer()\n",
        "cv = CountVectorizer()\n"
      ],
      "execution_count": 15,
      "outputs": []
    },
    {
      "cell_type": "code",
      "metadata": {
        "id": "YpELT7xWoLsB"
      },
      "source": [
        " X_train_s = []\n",
        "for i in X_train:\n",
        "  m = []\n",
        "  for j in i:\n",
        "    m.append(PS.stem(j))\n",
        "  X_train_s.append(m)\n",
        "\n",
        "\n",
        "X_test_s = []\n",
        "for i in X_test:\n",
        "  m = []\n",
        "  for j in i:\n",
        "    m.append(PS.stem(j))\n",
        "  X_test_s.append(m)"
      ],
      "execution_count": null,
      "outputs": []
    },
    {
      "cell_type": "code",
      "metadata": {
        "id": "cycbsB4w8INF"
      },
      "source": [
        "X_train_1 = [\" \".join(i) for i in X_train_s]\n",
        "X_test_1 = [\" \".join(i) for i in X_test_s]\n",
        "X_train_1 = tfidf.fit_transform(X_train_1)\n",
        "X_test_1 = tfidf.transform(X_test_1)"
      ],
      "execution_count": null,
      "outputs": []
    },
    {
      "cell_type": "markdown",
      "metadata": {
        "id": "cN38IXR_I02T"
      },
      "source": [
        "# 3. Design, train, tune and test the best text classifier. \n",
        "\n",
        "## **Naive Bayes Theorem**\n",
        "  * Currently stopping with Naive bayes theorem as the data is too big to be processed (6,81,284 rows of data)\n",
        "  * Difficulty faced while Lowering the words, Removing html, more spaces, numbers, non-english words, stop words & punctuation symbols out. It took around 3+hours to complete this.\n",
        "  * Post this the idea was to apply stemming or Lemmatization but even Stemming couldnt be done with ease due to RAM restrictions and high data hence i have stopped only with stem. It took around 2+ hours to complete this.\n",
        "  * Instead of using Stemming or Lemmatization, i can explain what it does. For eg: if we have a total of 10000 words in vocabulary then applying a count vectorizer or TF-IDF might bring in a matrix with too many features, a matrix with 10000 rows and columns but if we apply stemming or lemmatization some of the words can be made into single word, for eg: Running, Runs, Ran and Run can be displayed as Run and similary for all the words which will reduce the complexity.\n",
        "  * Running Naive Bayes theorem took around 40+ minutes and Similarly i can try out Logistic Regression, Support Vector Classifier,  Decision Tree Classifier etc but due to enormous data, i am stopping with Naive Bayes theorem. \n",
        "  * During this time my laptop crashed multiple times and Google colab also crashed multiple times so i had to store all the data in the form of numpy array to reload and process it for applying in a single ML model. The other way to solve this is by taking only 50,000 rows of data which can be pre-processed quickly and we can try applying multiple algorithms as well.\n",
        "\n",
        "**Hint: The aim here Is to import the text, process it such a way that it can be taken as an inout to the ML/NN classifiers. Be analytical and experimental here in trying new\n",
        "approaches to design the best model.**\n",
        "\n",
        "* As the hint states the aim here is to import text, preprocess it so that it can fed to ML, post noticing this i focused only on applying a singl ML model."
      ]
    },
    {
      "cell_type": "code",
      "metadata": {
        "colab": {
          "base_uri": "https://localhost:8080/"
        },
        "id": "flDDGhUj9QO9",
        "outputId": "dd4e3f9f-1fa3-417d-f5c0-e26a64c6a90b"
      },
      "source": [
        "model= MultinomialNB(alpha=1.5)\n",
        "model=OneVsRestClassifier(model)\n",
        "model.fit(X_train_1,y_train)"
      ],
      "execution_count": null,
      "outputs": [
        {
          "data": {
            "text/plain": [
              "OneVsRestClassifier(estimator=MultinomialNB(alpha=1.5, class_prior=None,\n",
              "                                            fit_prior=True),\n",
              "                    n_jobs=None)"
            ]
          },
          "execution_count": 11,
          "metadata": {},
          "output_type": "execute_result"
        }
      ]
    },
    {
      "cell_type": "code",
      "metadata": {
        "id": "CE2i95BR9R9Z"
      },
      "source": [
        "pred = model.predict(X_test_1)"
      ],
      "execution_count": null,
      "outputs": []
    },
    {
      "cell_type": "code",
      "metadata": {
        "colab": {
          "base_uri": "https://localhost:8080/"
        },
        "id": "t5TCVSHmSdD4",
        "outputId": "b9eb11e4-ae83-403c-fc20-c6f936a16937"
      },
      "source": [
        "model.score(X_train_1,y_train)"
      ],
      "execution_count": null,
      "outputs": [
        {
          "data": {
            "text/plain": [
              "0.001157480215895223"
            ]
          },
          "execution_count": 13,
          "metadata": {},
          "output_type": "execute_result"
        }
      ]
    },
    {
      "cell_type": "code",
      "metadata": {
        "colab": {
          "base_uri": "https://localhost:8080/"
        },
        "id": "Vm84nchPSjQQ",
        "outputId": "5683a8c4-8e92-45ed-aa4d-24eeb2444f01"
      },
      "source": [
        "model.score(X_test_1,y_test)"
      ],
      "execution_count": null,
      "outputs": [
        {
          "data": {
            "text/plain": [
              "0.0016145919974949361"
            ]
          },
          "execution_count": 31,
          "metadata": {},
          "output_type": "execute_result"
        }
      ]
    },
    {
      "cell_type": "code",
      "metadata": {
        "colab": {
          "base_uri": "https://localhost:8080/"
        },
        "id": "ucOPpQagPPHP",
        "outputId": "f7fcb1d3-3a51-48c1-f44d-80af42660f65"
      },
      "source": [
        "print(classification_report(y_test,pred))"
      ],
      "execution_count": null,
      "outputs": [
        {
          "name": "stderr",
          "output_type": "stream",
          "text": [
            "/usr/local/lib/python3.7/dist-packages/sklearn/metrics/_classification.py:1272: UndefinedMetricWarning: Precision and F-score are ill-defined and being set to 0.0 in labels with no predicted samples. Use `zero_division` parameter to control this behavior.\n",
            "  _warn_prf(average, modifier, msg_start, len(result))\n"
          ]
        },
        {
          "name": "stdout",
          "output_type": "stream",
          "text": [
            "              precision    recall  f1-score   support\n",
            "\n",
            "           0       0.00      0.00      0.00      3983\n",
            "           1       0.60      0.01      0.01      8324\n",
            "           2       0.15      0.00      0.00     12504\n",
            "           3       0.51      0.00      0.01     21776\n",
            "           4       0.40      0.00      0.01     24282\n",
            "           5       0.46      0.00      0.01     21811\n",
            "           6       0.72      0.00      0.01     24115\n",
            "           7       0.33      0.00      0.00     20038\n",
            "           8       0.28      0.00      0.00     16665\n",
            "           9       0.35      0.00      0.00     13817\n",
            "          10       0.00      0.00      0.00      5220\n",
            "          11       0.14      0.00      0.00      6216\n",
            "          12       0.00      0.00      0.00      5305\n",
            "          13       0.00      0.00      0.00      4269\n",
            "          14       0.00      0.00      0.00      2750\n",
            "          15       0.00      0.00      0.00      2285\n",
            "          16       0.00      0.00      0.00      1701\n",
            "          17       0.00      0.00      0.00      1552\n",
            "          18       0.00      0.00      0.00      1126\n",
            "          19       0.00      0.00      0.00       883\n",
            "          20       0.00      0.00      0.00      1271\n",
            "          21       0.00      0.00      0.00       621\n",
            "          22       0.00      0.00      0.00      1358\n",
            "          23       0.00      0.00      0.00       812\n",
            "          24       0.00      0.00      0.00       650\n",
            "          25       0.00      0.00      0.00      1052\n",
            "          26       0.00      0.00      0.00      1141\n",
            "          27       0.09      0.00      0.00      1394\n",
            "          28       0.00      0.00      0.00       390\n",
            "          29       0.23      0.00      0.00     15073\n",
            "          30       0.00      0.00      0.00       506\n",
            "          31       0.22      0.00      0.00     19387\n",
            "          32       0.23      0.00      0.00      9708\n",
            "          33       0.00      0.00      0.00       381\n",
            "          34       0.00      0.00      0.00      1263\n",
            "          35       0.17      0.00      0.00       665\n",
            "          36       0.00      0.00      0.00      1385\n",
            "          37       0.72      0.01      0.02     19290\n",
            "          38       0.26      0.00      0.00     14604\n",
            "          39       0.00      0.00      0.00      1205\n",
            "          40       0.26      0.00      0.00      5957\n",
            "          41       0.00      0.00      0.00       327\n",
            "          42       0.00      0.00      0.00      1728\n",
            "          43       0.15      0.00      0.00      8917\n",
            "          44       0.00      0.00      0.00      3520\n",
            "          45       0.00      0.00      0.00       170\n",
            "          46       0.00      0.00      0.00      1456\n",
            "          47       0.33      0.00      0.00     15657\n",
            "          48       0.27      0.00      0.00      2071\n",
            "          49       0.00      0.00      0.00       846\n",
            "          50       0.00      0.00      0.00      4873\n",
            "          51       0.00      0.00      0.00       396\n",
            "          52       0.00      0.00      0.00      2664\n",
            "          53       0.00      0.00      0.00       539\n",
            "          54       0.04      0.00      0.00     16305\n",
            "          55       0.30      0.00      0.00     18576\n",
            "          56       0.00      0.00      0.00       686\n",
            "          57       0.00      0.00      0.00        93\n",
            "          58       0.00      0.00      0.00      1415\n",
            "          59       0.00      0.00      0.00       909\n",
            "          60       0.00      0.00      0.00       948\n",
            "          61       0.11      0.00      0.00      4393\n",
            "          62       0.54      0.00      0.01     16108\n",
            "          63       0.09      0.00      0.00      2283\n",
            "          64       0.00      0.00      0.00       877\n",
            "          65       0.00      0.00      0.00      1614\n",
            "          66       0.31      0.00      0.00     14937\n",
            "          67       0.00      0.00      0.00      2228\n",
            "          68       0.18      0.00      0.00     17290\n",
            "          69       0.00      0.00      0.00       901\n",
            "          70       0.69      0.03      0.05     46116\n",
            "          71       0.72      0.01      0.01     18900\n",
            "          72       0.29      0.00      0.00     12483\n",
            "          73       0.00      0.00      0.00      1146\n",
            "          74       0.00      0.00      0.00       583\n",
            "          75       0.00      0.00      0.00       750\n",
            "          76       0.28      0.00      0.00     18259\n",
            "          77       0.66      0.75      0.70    100842\n",
            "          78       0.90      0.03      0.06     75459\n",
            "          79       0.72      0.62      0.67    103544\n",
            "\n",
            "   micro avg       0.68      0.18      0.28    817544\n",
            "   macro avg       0.16      0.02      0.02    817544\n",
            "weighted avg       0.48      0.18      0.18    817544\n",
            " samples avg       0.69      0.18      0.28    817544\n",
            "\n"
          ]
        }
      ]
    },
    {
      "cell_type": "markdown",
      "metadata": {
        "id": "cP0dwtbQJMPy"
      },
      "source": [
        "### **4. Display and explain detail the classification report**\n",
        "\n",
        "* As we can see above the model behaves very badly and gives a poor Accuracy metric. We dont touch even 10% of Accuracy probably because we have a wide variety of classes (80 classes) which is completely imbalanced, the data is too big to be processed and we have tried only one ML model without any hyperparameter tuning considering the hardware restrictions.\n",
        "\n",
        "* The classes 77,78 & 79 constitute almost 30% of total data due to which we notice a better Precision, Recall and F1 score on those classes. The rest of the classes have a bad score and in this case we try to focus only on F1 Score since we want both the Precision and Recall to be high.\n",
        "\n",
        "* Since we prefer overall data and not just any one class we look into micro average of F1 score which is 29%, i.e: aggregation of all classes to compute the 1 average metric.\n",
        "\n",
        "* The data is completely imbalanced as we have around 80 classes, we need atleast equal classes but if we were to use the Upsampling, Downsampling, SMOTE or Class weights in RFC or DTC we need computational power and hence i am dropping it to single model."
      ]
    },
    {
      "cell_type": "markdown",
      "metadata": {
        "id": "fGpRWeTdYQvt"
      },
      "source": [
        "# 5. Print the true vs predicted labels for any 5 entries from the dataset. <--\n",
        "* Since we have used the MultiLabelBinarizer to convert multiple fields in 1 prediction, we can inverse transform the predicted values using same Multilabelbinarizer\n",
        "\n",
        "* We try to pick the best 5 predicitons and display them for reference."
      ]
    },
    {
      "cell_type": "code",
      "metadata": {
        "id": "EjWgYU1-H954"
      },
      "source": [
        "prediction = binarizer.inverse_transform(pred)\n",
        "Actual = binarizer.inverse_transform(y_test)"
      ],
      "execution_count": null,
      "outputs": []
    },
    {
      "cell_type": "code",
      "metadata": {
        "colab": {
          "base_uri": "https://localhost:8080/"
        },
        "id": "isp4n538cadE",
        "outputId": "f71869a6-bfde-4b3a-d220-0ec763ed32fa"
      },
      "source": [
        "for i,j in enumerate(prediction):\n",
        "  if len(j) == 3 and i!= 1358 and i!= 1684 and i!= 2395:\n",
        "    print(i)\n",
        "    break\n",
        "  else:\n",
        "    pass"
      ],
      "execution_count": null,
      "outputs": [
        {
          "name": "stdout",
          "output_type": "stream",
          "text": [
            "2983\n"
          ]
        }
      ]
    },
    {
      "cell_type": "markdown",
      "metadata": {
        "id": "nx5TOZBjgLc3"
      },
      "source": [
        "* Prediction 1 - Perfecly aligned with the actual test data"
      ]
    },
    {
      "cell_type": "code",
      "metadata": {
        "colab": {
          "base_uri": "https://localhost:8080/"
        },
        "id": "4O9tjHVQcnZy",
        "outputId": "5e735f35-dba4-410a-cf12-680016eac65e"
      },
      "source": [
        "prediction[1581]"
      ],
      "execution_count": null,
      "outputs": [
        {
          "data": {
            "text/plain": [
              "('16', 'Libra', 'female', 'indUnk')"
            ]
          },
          "execution_count": 35,
          "metadata": {},
          "output_type": "execute_result"
        }
      ]
    },
    {
      "cell_type": "code",
      "metadata": {
        "colab": {
          "base_uri": "https://localhost:8080/"
        },
        "id": "0udFd1aHe4YB",
        "outputId": "2d7cd24e-a6a2-42cc-dc0d-902e45834efc"
      },
      "source": [
        "Actual[1581]"
      ],
      "execution_count": null,
      "outputs": [
        {
          "data": {
            "text/plain": [
              "('16', 'Libra', 'female', 'indUnk')"
            ]
          },
          "execution_count": 39,
          "metadata": {},
          "output_type": "execute_result"
        }
      ]
    },
    {
      "cell_type": "markdown",
      "metadata": {
        "id": "WSbb4UQRgQDY"
      },
      "source": [
        "* Prediction 2 - Missing the age"
      ]
    },
    {
      "cell_type": "code",
      "metadata": {
        "colab": {
          "base_uri": "https://localhost:8080/"
        },
        "id": "7DzweKFwfoyu",
        "outputId": "7f6a5b0d-8954-403a-a472-ec05a2eee7c2"
      },
      "source": [
        "prediction[1358]"
      ],
      "execution_count": null,
      "outputs": [
        {
          "data": {
            "text/plain": [
              "('Cancer', 'female', 'indUnk')"
            ]
          },
          "execution_count": 43,
          "metadata": {},
          "output_type": "execute_result"
        }
      ]
    },
    {
      "cell_type": "code",
      "metadata": {
        "colab": {
          "base_uri": "https://localhost:8080/"
        },
        "id": "WyLGCe48gHoy",
        "outputId": "46f12319-833e-422f-b8b0-37f40264b9b4"
      },
      "source": [
        "Actual[1358]"
      ],
      "execution_count": null,
      "outputs": [
        {
          "data": {
            "text/plain": [
              "('40', 'Cancer', 'female', 'indUnk')"
            ]
          },
          "execution_count": 44,
          "metadata": {},
          "output_type": "execute_result"
        }
      ]
    },
    {
      "cell_type": "markdown",
      "metadata": {
        "id": "3J_6vDDGgdCg"
      },
      "source": [
        "* Prediction 3 - Missing the age"
      ]
    },
    {
      "cell_type": "code",
      "metadata": {
        "colab": {
          "base_uri": "https://localhost:8080/"
        },
        "id": "_bRA-eDDgJtH",
        "outputId": "602d6748-384a-4ba1-d0aa-d573acbfc2bb"
      },
      "source": [
        "prediction[1684]"
      ],
      "execution_count": null,
      "outputs": [
        {
          "data": {
            "text/plain": [
              "('Cancer', 'female', 'indUnk')"
            ]
          },
          "execution_count": 46,
          "metadata": {},
          "output_type": "execute_result"
        }
      ]
    },
    {
      "cell_type": "code",
      "metadata": {
        "colab": {
          "base_uri": "https://localhost:8080/"
        },
        "id": "WSyCXKxcgYfI",
        "outputId": "b3773b3e-6edd-4893-991c-a56a3e5cfcd1"
      },
      "source": [
        "Actual[1684]"
      ],
      "execution_count": null,
      "outputs": [
        {
          "data": {
            "text/plain": [
              "('40', 'Cancer', 'female', 'indUnk')"
            ]
          },
          "execution_count": 47,
          "metadata": {},
          "output_type": "execute_result"
        }
      ]
    },
    {
      "cell_type": "markdown",
      "metadata": {
        "id": "ExGre-t-ge2r"
      },
      "source": [
        "* Prediction 4 - Missing the age"
      ]
    },
    {
      "cell_type": "code",
      "metadata": {
        "colab": {
          "base_uri": "https://localhost:8080/"
        },
        "id": "AOtbisE-gZjl",
        "outputId": "30fc411b-809c-4688-9b47-fb7993326f40"
      },
      "source": [
        "prediction[2395]"
      ],
      "execution_count": null,
      "outputs": [
        {
          "data": {
            "text/plain": [
              "('Taurus', 'female', 'indUnk')"
            ]
          },
          "execution_count": 50,
          "metadata": {},
          "output_type": "execute_result"
        }
      ]
    },
    {
      "cell_type": "code",
      "metadata": {
        "colab": {
          "base_uri": "https://localhost:8080/"
        },
        "id": "yHhdAMyAggp6",
        "outputId": "85cfbb85-50f8-46b1-849c-5f07dc7d5eac"
      },
      "source": [
        "Actual[2395]"
      ],
      "execution_count": null,
      "outputs": [
        {
          "data": {
            "text/plain": [
              "('14', 'Taurus', 'female', 'indUnk')"
            ]
          },
          "execution_count": 51,
          "metadata": {},
          "output_type": "execute_result"
        }
      ]
    },
    {
      "cell_type": "markdown",
      "metadata": {
        "id": "JlLVLRQ2ghOR"
      },
      "source": [
        "* Prediction 5 - Missing the age"
      ]
    },
    {
      "cell_type": "code",
      "metadata": {
        "colab": {
          "base_uri": "https://localhost:8080/"
        },
        "id": "tbKOkAiJgiD7",
        "outputId": "f0d41310-17ab-4347-e04e-73ebbc857f1a"
      },
      "source": [
        "prediction[2983]"
      ],
      "execution_count": null,
      "outputs": [
        {
          "data": {
            "text/plain": [
              "('Cancer', 'female', 'indUnk')"
            ]
          },
          "execution_count": 52,
          "metadata": {},
          "output_type": "execute_result"
        }
      ]
    },
    {
      "cell_type": "code",
      "metadata": {
        "colab": {
          "base_uri": "https://localhost:8080/"
        },
        "id": "8LpcoAkMgyY_",
        "outputId": "55bbc090-5405-4fc8-af4f-0242d89c096f"
      },
      "source": [
        "Actual[2983]"
      ],
      "execution_count": null,
      "outputs": [
        {
          "data": {
            "text/plain": [
              "('40', 'Cancer', 'female', 'indUnk')"
            ]
          },
          "execution_count": 53,
          "metadata": {},
          "output_type": "execute_result"
        }
      ]
    },
    {
      "cell_type": "markdown",
      "metadata": {
        "id": "roU9rzhj_7rg"
      },
      "source": [
        "## **For a change, lets take only 100000rows of data and try to build a model using that**"
      ]
    },
    {
      "cell_type": "code",
      "metadata": {
        "id": "SLPuAie7hqbQ"
      },
      "source": [
        "df1 = df[:100000]\n",
        "#Picking only 100000 rows of data\n",
        "\n",
        "cleaned_text1 = [[i for i in nltk.word_tokenize(\"\".join([i for i in re.sub(\"<.*>|[\\s]{2,}| [.0-9]+| [.0-9]{2,10}|[^a-zA-Z]\",\" \",t.lower()) if i not in string.punctuation])) if i not in stopwords.words('english')] for t in df1['text']]\n",
        "#Cleaning the text from Stopwords, punctuations, nonenglish words, HTML tags, unnecessary spaces etc.\n",
        "\n",
        "df1['age1'] = df1['age'].apply(str)\n",
        "df1['Target_labels'] = df1.apply(lambda col : [col['gender'],col['age1'],col['topic'],col['sign']], axis=1)\n",
        "#Creating Target labels\n",
        "\n",
        "\n",
        "target_count1=dict()\n",
        "\n",
        "for tl in df1['Target_labels'].values:\n",
        "  for t in tl:\n",
        "    if t in target_count1:\n",
        "      target_count1[t]+=1\n",
        "    else:\n",
        "      target_count1[t]=1\n",
        "#Collecting the target counts      \n",
        "\n",
        "X_train, X_test, y_train, y_test = train_test_split(cleaned_text1, df1['Target_labels'], test_size=0.3, random_state=11)\n",
        "#performing Train test split\n",
        "\n",
        "binarizer=MultiLabelBinarizer(classes=sorted(target_count1.keys()))\n",
        "y_train = binarizer.fit_transform(y_train)\n",
        "y_test = binarizer.transform(y_test)\n",
        "#Converting the target to multilabel onehot encoded values\n",
        "\n",
        "#Using Stemming & Lemmatization techinique\n",
        "PS = PorterStemmer()\n",
        "LM = WordNetLemmatizer()\n",
        "\n",
        "#Vectorization done using both TF-IDF and BOW\n",
        "tfidf = TfidfVectorizer()\n",
        "cv = CountVectorizer()"
      ],
      "execution_count": 17,
      "outputs": []
    },
    {
      "cell_type": "code",
      "metadata": {
        "id": "gllcjJH5aXNo"
      },
      "source": [
        "X_train_h = []\n",
        "for i in X_train:\n",
        "  m = []\n",
        "  for j in i:\n",
        "    m.append(PS.stem(j))\n",
        "  X_train_h.append(m)\n",
        "\n",
        "\n",
        "X_test_h = []\n",
        "for i in X_test:\n",
        "  m = []\n",
        "  for j in i:\n",
        "    m.append(PS.stem(j))\n",
        "  X_test_h.append(m)\n",
        "\n",
        "#Using Stem  "
      ],
      "execution_count": null,
      "outputs": []
    },
    {
      "cell_type": "code",
      "metadata": {
        "id": "WXbryVFhae1L"
      },
      "source": [
        "X_train_L = []\n",
        "for i in X_train:\n",
        "  m = []\n",
        "  for j in i:\n",
        "    m.append(LM.lemmatize(j))\n",
        "  X_train_L.append(m)\n",
        "\n",
        "\n",
        "X_test_L = []\n",
        "for i in X_test:\n",
        "  m = []\n",
        "  for j in i:\n",
        "    m.append(LM.lemmatize(j))\n",
        "  X_test_L.append(m)\n",
        "\n",
        "#Using Lemmatization"
      ],
      "execution_count": null,
      "outputs": []
    },
    {
      "cell_type": "code",
      "metadata": {
        "id": "bRaXWvdAa7R2"
      },
      "source": [
        "X_train_1 = [\" \".join(i) for i in X_train_h]\n",
        "X_test_1 = [\" \".join(i) for i in X_test_h]\n",
        "\n",
        "X_train_1 = tfidf.fit_transform(X_train_1)\n",
        "X_test_1 = tfidf.transform(X_test_1)\n",
        "\n",
        "#X_train & X_test prepared for Stemmed data"
      ],
      "execution_count": null,
      "outputs": []
    },
    {
      "cell_type": "code",
      "metadata": {
        "id": "YkmIXiT9mHHR"
      },
      "source": [
        "X_train_2 = [\" \".join(i) for i in X_train_L]\n",
        "X_test_2 = [\" \".join(i) for i in X_test_L]\n",
        "\n",
        "X_train_2L = tfidf.fit_transform(X_train_2)\n",
        "X_test_2L = tfidf.transform(X_test_2)\n",
        "\n",
        "#X_train & X_test prepared for Lemmatized data"
      ],
      "execution_count": null,
      "outputs": []
    },
    {
      "cell_type": "markdown",
      "metadata": {
        "id": "kKDBEwUwCvy5"
      },
      "source": [
        "## 1. Using Decision Tree classifier using Stemmed data\n",
        " * This model gives a 21% of F1 score with the stemmed data"
      ]
    },
    {
      "cell_type": "code",
      "metadata": {
        "colab": {
          "base_uri": "https://localhost:8080/"
        },
        "id": "GPp8xyjTbC9P",
        "outputId": "db6bdf0f-e831-4e68-c1d3-030016f48489"
      },
      "source": [
        "model= DecisionTreeClassifier(max_depth=5)\n",
        "model= OneVsRestClassifier(model)\n",
        "model.fit(X_train_1,y_train)"
      ],
      "execution_count": null,
      "outputs": [
        {
          "data": {
            "text/plain": [
              "OneVsRestClassifier(estimator=DecisionTreeClassifier(ccp_alpha=0.0,\n",
              "                                                     class_weight=None,\n",
              "                                                     criterion='gini',\n",
              "                                                     max_depth=5,\n",
              "                                                     max_features=None,\n",
              "                                                     max_leaf_nodes=None,\n",
              "                                                     min_impurity_decrease=0.0,\n",
              "                                                     min_impurity_split=None,\n",
              "                                                     min_samples_leaf=1,\n",
              "                                                     min_samples_split=2,\n",
              "                                                     min_weight_fraction_leaf=0.0,\n",
              "                                                     presort='deprecated',\n",
              "                                                     random_state=None,\n",
              "                                                     splitter='best'),\n",
              "                    n_jobs=None)"
            ]
          },
          "execution_count": 42,
          "metadata": {},
          "output_type": "execute_result"
        }
      ]
    },
    {
      "cell_type": "code",
      "metadata": {
        "id": "iNG1PE9lbQPY"
      },
      "source": [
        "pred = model.predict(X_test_1)"
      ],
      "execution_count": null,
      "outputs": []
    },
    {
      "cell_type": "code",
      "metadata": {
        "colab": {
          "base_uri": "https://localhost:8080/"
        },
        "id": "6qm9nb1F7cJ9",
        "outputId": "5cc485a2-6283-4cfc-ecb1-68e0338dea0f"
      },
      "source": [
        "print(classification_report(y_test,pred))"
      ],
      "execution_count": null,
      "outputs": [
        {
          "name": "stdout",
          "output_type": "stream",
          "text": [
            "              precision    recall  f1-score   support\n",
            "\n",
            "           0       0.93      0.15      0.26       432\n",
            "           1       0.83      0.04      0.08      1017\n",
            "           2       0.95      0.05      0.10      1942\n",
            "           3       0.96      0.11      0.20      2532\n",
            "           4       0.70      0.07      0.12      3766\n",
            "           5       0.86      0.05      0.09      3214\n",
            "           6       0.97      0.06      0.12      3596\n",
            "           7       0.94      0.05      0.09      2577\n",
            "           8       0.90      0.11      0.19      2440\n",
            "           9       0.98      0.05      0.10      2404\n",
            "          10       0.93      0.06      0.11       834\n",
            "          11       0.92      0.42      0.57       742\n",
            "          12       0.96      0.15      0.26      1427\n",
            "          13       0.86      0.26      0.40       943\n",
            "          14       0.65      0.07      0.12       253\n",
            "          15       0.97      0.28      0.43       259\n",
            "          16       0.69      0.10      0.18       177\n",
            "          17       0.64      0.09      0.15       164\n",
            "          18       0.77      0.10      0.17       236\n",
            "          19       0.70      0.13      0.22        55\n",
            "          20       0.94      0.09      0.17       160\n",
            "          21       1.00      0.20      0.33        25\n",
            "          22       0.76      0.17      0.28       250\n",
            "          23       0.74      0.09      0.16       288\n",
            "          24       0.88      0.30      0.45       119\n",
            "          25       0.76      0.21      0.33       148\n",
            "          26       0.86      0.08      0.14       159\n",
            "          27       0.86      0.17      0.28       223\n",
            "          28       0.80      0.09      0.16        44\n",
            "          29       0.94      0.09      0.16      2691\n",
            "          30       1.00      0.04      0.07        28\n",
            "          31       0.96      0.11      0.19      3236\n",
            "          32       0.73      0.04      0.08      1530\n",
            "          33       0.00      0.00      0.00        36\n",
            "          34       0.90      0.18      0.30       102\n",
            "          35       0.73      0.17      0.28       110\n",
            "          36       0.78      0.12      0.22       168\n",
            "          37       0.97      0.05      0.09      2781\n",
            "          38       0.84      0.05      0.09      2608\n",
            "          39       0.93      0.15      0.26        85\n",
            "          40       0.80      0.04      0.08       882\n",
            "          41       0.44      0.05      0.09        79\n",
            "          42       0.88      0.13      0.23       286\n",
            "          43       0.99      0.12      0.22      1669\n",
            "          44       0.75      0.11      0.19       657\n",
            "          45       0.00      0.00      0.00         3\n",
            "          46       0.87      0.40      0.55       558\n",
            "          47       0.87      0.03      0.06      2854\n",
            "          48       0.94      0.25      0.40       654\n",
            "          49       1.00      0.17      0.29        72\n",
            "          50       0.87      0.06      0.12       633\n",
            "          51       0.93      0.36      0.52        74\n",
            "          52       0.43      0.03      0.06        97\n",
            "          53       0.83      0.18      0.29       114\n",
            "          54       0.94      0.04      0.08      2456\n",
            "          55       0.97      0.09      0.16      2152\n",
            "          56       0.74      0.14      0.24       159\n",
            "          57       0.00      0.00      0.00        25\n",
            "          58       0.77      0.15      0.26       221\n",
            "          59       0.79      0.11      0.20       228\n",
            "          60       0.93      0.38      0.54        97\n",
            "          61       0.77      0.07      0.12       408\n",
            "          62       0.97      0.12      0.22      2268\n",
            "          63       0.62      0.12      0.20       317\n",
            "          64       0.33      0.02      0.04        48\n",
            "          65       0.61      0.06      0.11       329\n",
            "          66       0.75      0.10      0.18      2248\n",
            "          67       0.88      0.17      0.28       308\n",
            "          68       0.82      0.03      0.06      2070\n",
            "          69       0.71      0.10      0.18       120\n",
            "          70       0.79      0.06      0.11      6597\n",
            "          71       0.90      0.10      0.18      2566\n",
            "          72       0.81      0.05      0.09      2531\n",
            "          73       0.17      0.02      0.04        47\n",
            "          74       0.57      0.16      0.25        79\n",
            "          75       0.99      0.56      0.72       246\n",
            "          76       0.79      0.04      0.07      2070\n",
            "          77       0.61      0.38      0.46     14027\n",
            "          78       0.84      0.05      0.09      9977\n",
            "          79       0.59      0.79      0.68     15973\n",
            "\n",
            "   micro avg       0.66      0.21      0.32    120000\n",
            "   macro avg       0.78      0.13      0.21    120000\n",
            "weighted avg       0.80      0.21      0.25    120000\n",
            " samples avg       0.62      0.21      0.30    120000\n",
            "\n"
          ]
        },
        {
          "name": "stderr",
          "output_type": "stream",
          "text": [
            "/usr/local/lib/python3.7/dist-packages/sklearn/metrics/_classification.py:1272: UndefinedMetricWarning: Precision and F-score are ill-defined and being set to 0.0 in labels with no predicted samples. Use `zero_division` parameter to control this behavior.\n",
            "  _warn_prf(average, modifier, msg_start, len(result))\n"
          ]
        }
      ]
    },
    {
      "cell_type": "markdown",
      "metadata": {
        "id": "GsDCY1H7C2F5"
      },
      "source": [
        "## 2. Using Lemmatized data for Decision Tree Classifier\n",
        "* This model gives a 21% of F1 score with the Lemmatized data\n",
        "\n",
        "Both the Stemmed and Lemmatized data give the same F1score since we took very few data maybe if we take entire data Stemming might give us better prediction."
      ]
    },
    {
      "cell_type": "code",
      "metadata": {
        "colab": {
          "base_uri": "https://localhost:8080/"
        },
        "id": "86df98zN7fua",
        "outputId": "ef5a57bf-4bfd-49c2-85a4-38eae328c4ab"
      },
      "source": [
        "model1= DecisionTreeClassifier(max_depth=5)\n",
        "model2= OneVsRestClassifier(model1)\n",
        "model2.fit(X_train_2L,y_train)"
      ],
      "execution_count": null,
      "outputs": [
        {
          "data": {
            "text/plain": [
              "OneVsRestClassifier(estimator=DecisionTreeClassifier(ccp_alpha=0.0,\n",
              "                                                     class_weight=None,\n",
              "                                                     criterion='gini',\n",
              "                                                     max_depth=5,\n",
              "                                                     max_features=None,\n",
              "                                                     max_leaf_nodes=None,\n",
              "                                                     min_impurity_decrease=0.0,\n",
              "                                                     min_impurity_split=None,\n",
              "                                                     min_samples_leaf=1,\n",
              "                                                     min_samples_split=2,\n",
              "                                                     min_weight_fraction_leaf=0.0,\n",
              "                                                     presort='deprecated',\n",
              "                                                     random_state=None,\n",
              "                                                     splitter='best'),\n",
              "                    n_jobs=None)"
            ]
          },
          "execution_count": 49,
          "metadata": {},
          "output_type": "execute_result"
        }
      ]
    },
    {
      "cell_type": "code",
      "metadata": {
        "id": "-8FU7x3l7o9z"
      },
      "source": [
        "pred1 = model2.predict(X_test_2L)"
      ],
      "execution_count": null,
      "outputs": []
    },
    {
      "cell_type": "code",
      "metadata": {
        "colab": {
          "base_uri": "https://localhost:8080/"
        },
        "id": "QtO9E3pU7sc8",
        "outputId": "7ecf0fb1-b21a-4623-b417-6e99a3529926"
      },
      "source": [
        "print(classification_report(y_test,pred1))"
      ],
      "execution_count": null,
      "outputs": [
        {
          "name": "stdout",
          "output_type": "stream",
          "text": [
            "              precision    recall  f1-score   support\n",
            "\n",
            "           0       0.89      0.16      0.28       432\n",
            "           1       0.77      0.04      0.08      1017\n",
            "           2       0.96      0.05      0.10      1942\n",
            "           3       0.97      0.11      0.20      2532\n",
            "           4       0.72      0.07      0.13      3766\n",
            "           5       0.96      0.05      0.09      3214\n",
            "           6       0.90      0.07      0.13      3596\n",
            "           7       0.96      0.05      0.09      2577\n",
            "           8       0.96      0.09      0.16      2440\n",
            "           9       0.78      0.06      0.11      2404\n",
            "          10       0.94      0.06      0.10       834\n",
            "          11       0.92      0.42      0.58       742\n",
            "          12       0.91      0.16      0.27      1427\n",
            "          13       0.87      0.27      0.41       943\n",
            "          14       0.67      0.06      0.10       253\n",
            "          15       0.89      0.29      0.44       259\n",
            "          16       0.80      0.11      0.20       177\n",
            "          17       0.64      0.09      0.15       164\n",
            "          18       0.61      0.08      0.15       236\n",
            "          19       0.70      0.13      0.22        55\n",
            "          20       0.94      0.09      0.17       160\n",
            "          21       1.00      0.24      0.39        25\n",
            "          22       0.80      0.21      0.34       250\n",
            "          23       0.73      0.08      0.15       288\n",
            "          24       0.93      0.31      0.47       119\n",
            "          25       0.94      0.20      0.33       148\n",
            "          26       0.80      0.08      0.14       159\n",
            "          27       0.86      0.19      0.31       223\n",
            "          28       0.86      0.14      0.24        44\n",
            "          29       0.97      0.09      0.16      2691\n",
            "          30       1.00      0.04      0.07        28\n",
            "          31       0.96      0.11      0.19      3236\n",
            "          32       0.80      0.04      0.08      1530\n",
            "          33       0.00      0.00      0.00        36\n",
            "          34       0.95      0.19      0.31       102\n",
            "          35       0.78      0.16      0.27       110\n",
            "          36       0.81      0.12      0.22       168\n",
            "          37       0.94      0.05      0.09      2781\n",
            "          38       0.89      0.05      0.10      2608\n",
            "          39       0.89      0.19      0.31        85\n",
            "          40       0.82      0.04      0.08       882\n",
            "          41       0.29      0.03      0.05        79\n",
            "          42       0.89      0.12      0.20       286\n",
            "          43       0.99      0.12      0.22      1669\n",
            "          44       0.74      0.11      0.19       657\n",
            "          45       0.00      0.00      0.00         3\n",
            "          46       0.87      0.41      0.56       558\n",
            "          47       0.89      0.03      0.06      2854\n",
            "          48       0.95      0.27      0.43       654\n",
            "          49       1.00      0.18      0.31        72\n",
            "          50       0.78      0.06      0.11       633\n",
            "          51       0.96      0.34      0.50        74\n",
            "          52       0.67      0.04      0.08        97\n",
            "          53       0.77      0.15      0.25       114\n",
            "          54       0.95      0.04      0.08      2456\n",
            "          55       0.98      0.09      0.16      2152\n",
            "          56       0.85      0.18      0.29       159\n",
            "          57       0.00      0.00      0.00        25\n",
            "          58       0.95      0.18      0.30       221\n",
            "          59       0.79      0.11      0.20       228\n",
            "          60       0.90      0.38      0.54        97\n",
            "          61       0.75      0.05      0.10       408\n",
            "          62       0.97      0.12      0.22      2268\n",
            "          63       0.70      0.13      0.21       317\n",
            "          64       0.50      0.02      0.04        48\n",
            "          65       0.73      0.09      0.16       329\n",
            "          66       0.75      0.10      0.18      2248\n",
            "          67       0.90      0.19      0.31       308\n",
            "          68       0.90      0.03      0.06      2070\n",
            "          69       0.65      0.12      0.21       120\n",
            "          70       0.80      0.06      0.10      6597\n",
            "          71       0.92      0.10      0.18      2566\n",
            "          72       0.73      0.06      0.10      2531\n",
            "          73       0.44      0.09      0.14        47\n",
            "          74       0.57      0.16      0.25        79\n",
            "          75       0.99      0.56      0.71       246\n",
            "          76       0.89      0.04      0.07      2070\n",
            "          77       0.61      0.33      0.43     14027\n",
            "          78       0.94      0.04      0.07      9977\n",
            "          79       0.58      0.82      0.68     15973\n",
            "\n",
            "   micro avg       0.65      0.21      0.32    120000\n",
            "   macro avg       0.80      0.14      0.21    120000\n",
            "weighted avg       0.81      0.21      0.25    120000\n",
            " samples avg       0.61      0.21      0.29    120000\n",
            "\n"
          ]
        }
      ]
    },
    {
      "cell_type": "code",
      "metadata": {
        "id": "4cT10qUYExPe"
      },
      "source": [
        "pred1 = binarizer.inverse_transform(pred1)"
      ],
      "execution_count": null,
      "outputs": []
    },
    {
      "cell_type": "code",
      "metadata": {
        "id": "lWVW66W5FPhj"
      },
      "source": [
        "y_test = binarizer.inverse_transform(y_test)"
      ],
      "execution_count": null,
      "outputs": []
    },
    {
      "cell_type": "code",
      "metadata": {
        "colab": {
          "base_uri": "https://localhost:8080/"
        },
        "id": "DVNL974iGQV_",
        "outputId": "0b302173-641d-42ec-9572-836b6e87c77d"
      },
      "source": [
        "pred1[38]"
      ],
      "execution_count": null,
      "outputs": [
        {
          "data": {
            "text/plain": [
              "('36', 'Aries', 'Fashion', 'male')"
            ]
          },
          "execution_count": 68,
          "metadata": {},
          "output_type": "execute_result"
        }
      ]
    },
    {
      "cell_type": "code",
      "metadata": {
        "colab": {
          "base_uri": "https://localhost:8080/"
        },
        "id": "BlIeTZzeGX9D",
        "outputId": "048c6494-286a-4a01-d05c-e6114dd8cf57"
      },
      "source": [
        "y_test[38]"
      ],
      "execution_count": null,
      "outputs": [
        {
          "data": {
            "text/plain": [
              "('36', 'Aries', 'Fashion', 'male')"
            ]
          },
          "execution_count": 69,
          "metadata": {},
          "output_type": "execute_result"
        }
      ]
    },
    {
      "cell_type": "code",
      "metadata": {
        "colab": {
          "base_uri": "https://localhost:8080/"
        },
        "id": "C9yhT0RyGZaA",
        "outputId": "edba8b26-f8d4-4b2d-f246-a440928289dc"
      },
      "source": [
        "pred1[78]"
      ],
      "execution_count": null,
      "outputs": [
        {
          "data": {
            "text/plain": [
              "('34', 'Sagittarius', 'female', 'indUnk')"
            ]
          },
          "execution_count": 71,
          "metadata": {},
          "output_type": "execute_result"
        }
      ]
    },
    {
      "cell_type": "code",
      "metadata": {
        "colab": {
          "base_uri": "https://localhost:8080/"
        },
        "id": "e38V3Fh1H8aO",
        "outputId": "d59cf5be-2931-4004-be79-eb4ba201f1cf"
      },
      "source": [
        "y_test[78]"
      ],
      "execution_count": null,
      "outputs": [
        {
          "data": {
            "text/plain": [
              "('34', 'Sagittarius', 'female', 'indUnk')"
            ]
          },
          "execution_count": 73,
          "metadata": {},
          "output_type": "execute_result"
        }
      ]
    },
    {
      "cell_type": "markdown",
      "metadata": {
        "id": "uqsfoLwiPnq4"
      },
      "source": [
        "# Part 2 - Great Learning Chatbot"
      ]
    },
    {
      "cell_type": "code",
      "metadata": {
        "id": "IvFNqJ72Po5-"
      },
      "source": [
        "mm = pd.read_json('/content/drive/My Drive/Data Science/NLP/Project1/GL Bot.json')"
      ],
      "execution_count": null,
      "outputs": []
    },
    {
      "cell_type": "markdown",
      "metadata": {
        "id": "fVhxap5jmi56"
      },
      "source": [
        "* We first need to create a Dataframe using the Json input:\n",
        "1. Normalize the Json input to generate a Dataframe (df1)"
      ]
    },
    {
      "cell_type": "code",
      "metadata": {
        "id": "Bl0CMQa9Xnde"
      },
      "source": [
        "df1 = pd.json_normalize(mm['intents'])\n",
        "#We normalize the json to convert it into a Dataframe"
      ],
      "execution_count": null,
      "outputs": []
    },
    {
      "cell_type": "code",
      "metadata": {
        "colab": {
          "base_uri": "https://localhost:8080/",
          "height": 206
        },
        "id": "czU1YhwYnVGf",
        "outputId": "5cbf34ff-4cea-4ccb-e4e7-61719a91b4c5"
      },
      "source": [
        "df1.head()"
      ],
      "execution_count": null,
      "outputs": [
        {
          "output_type": "execute_result",
          "data": {
            "text/html": [
              "<div>\n",
              "<style scoped>\n",
              "    .dataframe tbody tr th:only-of-type {\n",
              "        vertical-align: middle;\n",
              "    }\n",
              "\n",
              "    .dataframe tbody tr th {\n",
              "        vertical-align: top;\n",
              "    }\n",
              "\n",
              "    .dataframe thead th {\n",
              "        text-align: right;\n",
              "    }\n",
              "</style>\n",
              "<table border=\"1\" class=\"dataframe\">\n",
              "  <thead>\n",
              "    <tr style=\"text-align: right;\">\n",
              "      <th></th>\n",
              "      <th>tag</th>\n",
              "      <th>patterns</th>\n",
              "      <th>responses</th>\n",
              "      <th>context_set</th>\n",
              "    </tr>\n",
              "  </thead>\n",
              "  <tbody>\n",
              "    <tr>\n",
              "      <th>0</th>\n",
              "      <td>Intro</td>\n",
              "      <td>[hi, how are you, is anyone there, hello, what...</td>\n",
              "      <td>[Hello! how can i help you ?]</td>\n",
              "      <td></td>\n",
              "    </tr>\n",
              "    <tr>\n",
              "      <th>1</th>\n",
              "      <td>Exit</td>\n",
              "      <td>[thank you, thanks, cya, see you, later, see y...</td>\n",
              "      <td>[I hope I was able to assist you, Good Bye]</td>\n",
              "      <td></td>\n",
              "    </tr>\n",
              "    <tr>\n",
              "      <th>2</th>\n",
              "      <td>Olympus</td>\n",
              "      <td>[olympus, explain me how olympus works, I am n...</td>\n",
              "      <td>[Link: Olympus wiki]</td>\n",
              "      <td></td>\n",
              "    </tr>\n",
              "    <tr>\n",
              "      <th>3</th>\n",
              "      <td>SL</td>\n",
              "      <td>[i am not able to understand svm, explain me h...</td>\n",
              "      <td>[Link: Machine Learning wiki ]</td>\n",
              "      <td></td>\n",
              "    </tr>\n",
              "    <tr>\n",
              "      <th>4</th>\n",
              "      <td>NN</td>\n",
              "      <td>[what is deep learning, unable to understand d...</td>\n",
              "      <td>[Link: Neural Nets wiki]</td>\n",
              "      <td></td>\n",
              "    </tr>\n",
              "  </tbody>\n",
              "</table>\n",
              "</div>"
            ],
            "text/plain": [
              "       tag  ... context_set\n",
              "0    Intro  ...            \n",
              "1     Exit  ...            \n",
              "2  Olympus  ...            \n",
              "3       SL  ...            \n",
              "4       NN  ...            \n",
              "\n",
              "[5 rows x 4 columns]"
            ]
          },
          "metadata": {},
          "execution_count": 13
        }
      ]
    },
    {
      "cell_type": "markdown",
      "metadata": {
        "id": "soskmhEenLh5"
      },
      "source": [
        "2. Iterate over the Json to generate a Dataframe (df2)"
      ]
    },
    {
      "cell_type": "code",
      "metadata": {
        "id": "o-Fi-2iadNNV"
      },
      "source": [
        "df2 = pd.DataFrame()\n",
        "for i in mm['intents']:\n",
        "  for j in i['patterns']:\n",
        "    df2 = df2.append({'Tag':i['tag'],'Responses':i['responses'][0],'Pattern':j},ignore_index=True)"
      ],
      "execution_count": null,
      "outputs": []
    },
    {
      "cell_type": "code",
      "metadata": {
        "colab": {
          "base_uri": "https://localhost:8080/",
          "height": 206
        },
        "id": "pZDdgTeHjeFb",
        "outputId": "527963de-4c7f-4004-cec1-b7d62ad4890a"
      },
      "source": [
        "df2.head()"
      ],
      "execution_count": null,
      "outputs": [
        {
          "output_type": "execute_result",
          "data": {
            "text/html": [
              "<div>\n",
              "<style scoped>\n",
              "    .dataframe tbody tr th:only-of-type {\n",
              "        vertical-align: middle;\n",
              "    }\n",
              "\n",
              "    .dataframe tbody tr th {\n",
              "        vertical-align: top;\n",
              "    }\n",
              "\n",
              "    .dataframe thead th {\n",
              "        text-align: right;\n",
              "    }\n",
              "</style>\n",
              "<table border=\"1\" class=\"dataframe\">\n",
              "  <thead>\n",
              "    <tr style=\"text-align: right;\">\n",
              "      <th></th>\n",
              "      <th>Pattern</th>\n",
              "      <th>Responses</th>\n",
              "      <th>Tag</th>\n",
              "    </tr>\n",
              "  </thead>\n",
              "  <tbody>\n",
              "    <tr>\n",
              "      <th>0</th>\n",
              "      <td>hi</td>\n",
              "      <td>Hello! how can i help you ?</td>\n",
              "      <td>Intro</td>\n",
              "    </tr>\n",
              "    <tr>\n",
              "      <th>1</th>\n",
              "      <td>how are you</td>\n",
              "      <td>Hello! how can i help you ?</td>\n",
              "      <td>Intro</td>\n",
              "    </tr>\n",
              "    <tr>\n",
              "      <th>2</th>\n",
              "      <td>is anyone there</td>\n",
              "      <td>Hello! how can i help you ?</td>\n",
              "      <td>Intro</td>\n",
              "    </tr>\n",
              "    <tr>\n",
              "      <th>3</th>\n",
              "      <td>hello</td>\n",
              "      <td>Hello! how can i help you ?</td>\n",
              "      <td>Intro</td>\n",
              "    </tr>\n",
              "    <tr>\n",
              "      <th>4</th>\n",
              "      <td>whats up</td>\n",
              "      <td>Hello! how can i help you ?</td>\n",
              "      <td>Intro</td>\n",
              "    </tr>\n",
              "  </tbody>\n",
              "</table>\n",
              "</div>"
            ],
            "text/plain": [
              "           Pattern                    Responses    Tag\n",
              "0               hi  Hello! how can i help you ?  Intro\n",
              "1      how are you  Hello! how can i help you ?  Intro\n",
              "2  is anyone there  Hello! how can i help you ?  Intro\n",
              "3            hello  Hello! how can i help you ?  Intro\n",
              "4         whats up  Hello! how can i help you ?  Intro"
            ]
          },
          "metadata": {},
          "execution_count": 15
        }
      ]
    },
    {
      "cell_type": "markdown",
      "metadata": {
        "id": "NlW_NWrHnm1K"
      },
      "source": [
        "## We have 8 unique responses that the chat bot is limited to give as a response for any input. **The idea is to create a proper ML model that can take any input and share one of these responses as output and we have to make sure the response is relevant and not Irrelevant.**\n",
        "\n",
        "* In this we notice a lot of stopwords used as an input and hence we will not work on eliminating the stopwords and also we have very few input"
      ]
    },
    {
      "cell_type": "code",
      "metadata": {
        "colab": {
          "base_uri": "https://localhost:8080/"
        },
        "id": "tX4GjxqtOw68",
        "outputId": "94d52843-34f3-45e9-b267-c8f967799670"
      },
      "source": [
        "le = LabelEncoder()\n",
        "df2['Target'] = le.fit_transform(df2['Responses'])\n",
        "df2['Target'].value_counts()\n",
        "\n",
        "#We see there is a complete imbalance in the dataset, we need to find a way to balance them out.\n",
        "#We will manually try to fillin the values to balance the dataset"
      ],
      "execution_count": null,
      "outputs": [
        {
          "output_type": "execute_result",
          "data": {
            "text/plain": [
              "3    29\n",
              "4    24\n",
              "0    20\n",
              "2    16\n",
              "5    13\n",
              "7     9\n",
              "6     9\n",
              "1     8\n",
              "Name: Target, dtype: int64"
            ]
          },
          "metadata": {},
          "execution_count": 16
        }
      ]
    },
    {
      "cell_type": "code",
      "metadata": {
        "id": "DC5DYqiHX9_Y"
      },
      "source": [
        "#Manually pushing some inputs to balance the classes\n",
        "df2 = df2.append([{'Pattern':\"Ok, i am good\",\"Responses\":\"I hope I was able to assist you, Good Bye\",\"Tag\":\"Exit\",\"Target\":2 },\n",
        "                  {'Pattern':\"Alright, i'm good\",\"Responses\":\"I hope I was able to assist you, Good Bye\",\"Tag\":\"Exit\",\"Target\":2},\n",
        "                  {'Pattern':\"Thanks for help\",\"Responses\":\"I hope I was able to assist you, Good Bye\",\"Tag\":\"Exit\",\"Target\":2 },\n",
        "                  {'Pattern':\"Doubt cleared\",\"Responses\":\"I hope I was able to assist you, Good Bye\",\"Tag\":\"Exit\",\"Target\":2},\n",
        "                  {'Pattern':\"Exit\",\"Responses\":\"I hope I was able to assist you, Good Bye\",\"Tag\":\"Exit\",\"Target\":2},\n",
        "                  {'Pattern':\"quit cleared\",\"Responses\":\"I hope I was able to assist you, Good Bye\",\"Tag\":\"Exit\",\"Target\":2},\n",
        "                  {'Pattern':\"Portal not working\",\"Responses\":\"Link: Olympus wiki\",\"Tag\":\"Olympus\",\"Target\":5 },\n",
        "                  {'Pattern':\"Give me portal link\",\"Responses\":\"Link: Olympus wiki\",\"Tag\":\"Olympus\",\"Target\":5},\n",
        "                  {'Pattern':\"Olympus Portal\",\"Responses\":\"Link: Olympus wiki\",\"Tag\":\"Olympus\",\"Target\":5 },\n",
        "                  {'Pattern':\"PG portal\",\"Responses\":\"Link: Olympus wiki\",\"Tag\":\"Olympus\",\"Target\":5},\n",
        "                  {'Pattern':\"Course portal\",\"Responses\":\"Link: Olympus wiki\",\"Tag\":\"Olympus\",\"Target\":5},\n",
        "                  {'Pattern':\"Poc for olympus portal\",\"Responses\":\"Link: Olympus wiki\",\"Tag\":\"Olympus\",\"Target\":5},\n",
        "                  {'Pattern':\"Help me on olympus portal\",\"Responses\":\"Link: Olympus wiki\",\"Tag\":\"Olympus\",\"Target\":5},\n",
        "                  {'Pattern':\"I dont see a solution\",\"Responses\":\"Tarnsferring the request to your PM\",\"Tag\":\"Ticket\",\"Target\":7 },\n",
        "                  {'Pattern':\"Where is the solution\",\"Responses\":\"Tarnsferring the request to your PM\",\"Tag\":\"Ticket\",\"Target\":7 },\n",
        "                  {'Pattern':\"connect me to a human\",\"Responses\":\"Tarnsferring the request to your PM\",\"Tag\":\"Ticket\",\"Target\":7 },\n",
        "                  {'Pattern':\"Want to talk to a person\",\"Responses\":\"Tarnsferring the request to your PM\",\"Tag\":\"Ticket\",\"Target\":7 },\n",
        "                  {'Pattern':\"This is not an answer\",\"Responses\":\"Tarnsferring the request to your PM\",\"Tag\":\"Ticket\",\"Target\":7 },\n",
        "                  {'Pattern':\"Its not a solution\",\"Responses\":\"Tarnsferring the request to your PM\",\"Tag\":\"Ticket\",\"Target\":7 },\n",
        "                  {'Pattern':\"This is not a solution\",\"Responses\":\"Tarnsferring the request to your PM\",\"Tag\":\"Ticket\",\"Target\":7 },\n",
        "                  {'Pattern':\"Please push it to a human\",\"Responses\":\"Tarnsferring the request to your PM\",\"Tag\":\"Ticket\",\"Target\":7 },\n",
        "                  {'Pattern':\"I do not want to talk to a bot\",\"Responses\":\"Tarnsferring the request to your PM\",\"Tag\":\"Ticket\",\"Target\":7 },\n",
        "                  {'Pattern':\"Do not connect to a bot\",\"Responses\":\"Tarnsferring the request to your PM\",\"Tag\":\"Ticket\",\"Target\":7 },\n",
        "                  {'Pattern':\"Someone please answer my question\",\"Responses\":\"Tarnsferring the request to your PM\",\"Tag\":\"Ticket\",\"Target\":7 },\n",
        "                  {'Pattern':\"Get lost\",\"Responses\":\"Please use respectful words\",\"Tag\":\"Profane\",\"Target\":6 },\n",
        "                  {'Pattern':\"You stupid\",\"Responses\":\"Please use respectful words\",\"Tag\":\"Profane\",\"Target\":6 },\n",
        "                  {'Pattern':\"Useless bot\",\"Responses\":\"Please use respectful words\",\"Tag\":\"Profane\",\"Target\":6 },\n",
        "                  {'Pattern':\"Get lost\",\"Responses\":\"Please use respectful words\",\"Tag\":\"Profane\",\"Target\":6 },\n",
        "                  {'Pattern':\"Dont talk like an idiot\",\"Responses\":\"Please use respectful words\",\"Tag\":\"Profane\",\"Target\":6 },\n",
        "                  {'Pattern':\"Do you have sense\",\"Responses\":\"Please use respectful words\",\"Tag\":\"Profane\",\"Target\":6 },\n",
        "                  {'Pattern':\"Senseless creature\",\"Responses\":\"Please use respectful words\",\"Tag\":\"Profane\",\"Target\":6 },\n",
        "                  {'Pattern':\"Shut your mouth\",\"Responses\":\"Please use respectful words\",\"Tag\":\"Profane\",\"Target\":6 },\n",
        "                  {'Pattern':\"Dont speak like a dummy\",\"Responses\":\"Please use respectful words\",\"Tag\":\"Profane\",\"Target\":6 },\n",
        "                  {'Pattern':\"You stupid dummy\",\"Responses\":\"Please use respectful words\",\"Tag\":\"Profane\",\"Target\":6 },\n",
        "                  {'Pattern':\"Shut up\",\"Responses\":\"Please use respectful words\",\"Tag\":\"Profane\",\"Target\":6 },\n",
        "                  {'Pattern':\"Do i know you\",\"Responses\":\"I am your virtual learning assistant\",\"Tag\":\"Bot\",\"Target\":1 },\n",
        "                  {'Pattern':\"Is anyone there\",\"Responses\":\"I am your virtual learning assistant\",\"Tag\":\"Bot\",\"Target\":1 },\n",
        "                  {'Pattern':\"Who is there\",\"Responses\":\"I am your virtual learning assistant\",\"Tag\":\"Bot\",\"Target\":1 },\n",
        "                  {'Pattern':\"Who is you\",\"Responses\":\"I am your virtual learning assistant\",\"Tag\":\"Bot\",\"Target\":1 },\n",
        "                  {'Pattern':\"Your name please\",\"Responses\":\"I am your virtual learning assistant\",\"Tag\":\"Bot\",\"Target\":1 },\n",
        "                  {'Pattern':\"name please\",\"Responses\":\"I am your virtual learning assistant\",\"Tag\":\"Bot\",\"Target\":1 },\n",
        "                  {'Pattern':\"Speak up\",\"Responses\":\"I am your virtual learning assistant\",\"Tag\":\"Bot\",\"Target\":1 },\n",
        "                  {'Pattern':\"Are you a human\",\"Responses\":\"I am your virtual learning assistant\",\"Tag\":\"Bot\",\"Target\":1 },\n",
        "                  {'Pattern':\"Do you answer questions\",\"Responses\":\"I am your virtual learning assistant\",\"Tag\":\"Bot\",\"Target\":1 },\n",
        "                  {'Pattern':\"Who is learning assistant\",\"Responses\":\"I am your virtual learning assistant\",\"Tag\":\"Bot\",\"Target\":1 },\n",
        "                  {'Pattern':\"who is supporting assistant\",\"Responses\":\"I am your virtual learning assistant\",\"Tag\":\"Bot\",\"Target\":1 },\n",
        "                  {'Pattern':\"Any assistant\",\"Responses\":\"I am your virtual learning assistant\",\"Tag\":\"Bot\",\"Target\":1 }],ignore_index=True)"
      ],
      "execution_count": null,
      "outputs": []
    },
    {
      "cell_type": "code",
      "metadata": {
        "colab": {
          "base_uri": "https://localhost:8080/"
        },
        "id": "b7yMwqM2Y4jQ",
        "outputId": "87b0c15d-c85c-40ca-a1b5-a3560921b191"
      },
      "source": [
        "df2['Target'].value_counts()"
      ],
      "execution_count": null,
      "outputs": [
        {
          "output_type": "execute_result",
          "data": {
            "text/plain": [
              "3    29\n",
              "4    24\n",
              "2    22\n",
              "7    20\n",
              "6    20\n",
              "5    20\n",
              "1    20\n",
              "0    20\n",
              "Name: Target, dtype: int64"
            ]
          },
          "metadata": {},
          "execution_count": 18
        }
      ]
    },
    {
      "cell_type": "code",
      "metadata": {
        "colab": {
          "base_uri": "https://localhost:8080/"
        },
        "id": "w34oKSUSmB8V",
        "outputId": "ebd9b1f1-145f-4cdf-dda0-dc688bc5258a"
      },
      "source": [
        "df2['Responses'].nunique()"
      ],
      "execution_count": null,
      "outputs": [
        {
          "output_type": "execute_result",
          "data": {
            "text/plain": [
              "8"
            ]
          },
          "metadata": {},
          "execution_count": 19
        }
      ]
    },
    {
      "cell_type": "markdown",
      "metadata": {
        "id": "VVSUH41qkopi"
      },
      "source": [
        "## Data Cleaning"
      ]
    },
    {
      "cell_type": "code",
      "metadata": {
        "id": "CbzCIRyVoKUT"
      },
      "source": [
        "cleaned_text1 = [[i for i in nltk.word_tokenize(\"\".join([i for i in re.sub(\"<.*>|[\\s]{2,}| [.0-9]+| [.0-9]{2,10}|[^a-zA-Z]\",\" \",t.lower()) if i not in string.punctuation]))] for t in df2['Pattern']]"
      ],
      "execution_count": null,
      "outputs": []
    },
    {
      "cell_type": "code",
      "metadata": {
        "id": "-UpGDClpoOdL"
      },
      "source": [
        "PS = PorterStemmer()\n",
        "WNL = WordNetLemmatizer()\n",
        "X_train, X_test, y_train, y_test = train_test_split(cleaned_text1, df2['Target'], test_size=0.3, random_state=11)\n",
        "\n",
        "X_train_L = []\n",
        "for i in X_train:\n",
        "  m = []\n",
        "  for j in i:\n",
        "    m.append(WNL.lemmatize(j,pos='v'))\n",
        "  X_train_L.append(m)\n",
        "\n",
        "\n",
        "X_test_L = []\n",
        "for i in X_test:\n",
        "  m = []\n",
        "  for j in i:\n",
        "    m.append(WNL.lemmatize(j,pos='v'))\n",
        "  X_test_L.append(m)\n",
        "\n",
        "#Using Lemmatization\n",
        "\n",
        "X_train_S = []\n",
        "for i in X_train:\n",
        "  m = []\n",
        "  for j in i:\n",
        "    m.append(PS.stem(j))\n",
        "  X_train_S.append(m)\n",
        "\n",
        "\n",
        "X_test_S = []\n",
        "for i in X_test:\n",
        "  m = []\n",
        "  for j in i:\n",
        "    m.append(PS.stem(j))\n",
        "  X_test_S.append(m)\n",
        "\n",
        "#Using Stemmer\n",
        "\n",
        "X_train_S = [\" \".join(i) for i in X_train_S]\n",
        "X_test_S = [\" \".join(i) for i in X_test_S]\n",
        "tfs = TfidfVectorizer()\n",
        "X_train_S_tf = tfs.fit_transform(X_train_S)\n",
        "X_test_S_tf = tfs.transform(X_test_S)\n",
        "\n",
        "X_train_L = [\" \".join(i) for i in X_train_L]\n",
        "X_test_L = [\" \".join(i) for i in X_test_L]\n",
        "tfL = TfidfVectorizer()\n",
        "X_train_L_tf = tfL.fit_transform(X_train_L)\n",
        "X_test_L_tf = tfL.transform(X_test_L)"
      ],
      "execution_count": null,
      "outputs": []
    },
    {
      "cell_type": "markdown",
      "metadata": {
        "id": "I2vMTSBYNexa"
      },
      "source": [
        "1. Naive Bayes theorem using Lemmatization"
      ]
    },
    {
      "cell_type": "code",
      "metadata": {
        "id": "DZquSKvUuUiC"
      },
      "source": [
        "model_nb = MultinomialNB()\n",
        "model_nb.fit(X_train_L_tf,y_train)\n",
        "pred_L_tf = model_nb.predict(X_test_L_tf)\n",
        "\n",
        "#using LEmma data"
      ],
      "execution_count": null,
      "outputs": []
    },
    {
      "cell_type": "code",
      "metadata": {
        "colab": {
          "base_uri": "https://localhost:8080/"
        },
        "id": "TNXB5d1jv_FO",
        "outputId": "c0fd238f-0f39-416b-a66b-b0b81b40bce0"
      },
      "source": [
        "model_nb.predict(X_test_L_tf[0])"
      ],
      "execution_count": null,
      "outputs": [
        {
          "output_type": "execute_result",
          "data": {
            "text/plain": [
              "array([3])"
            ]
          },
          "metadata": {},
          "execution_count": 26
        }
      ]
    },
    {
      "cell_type": "code",
      "metadata": {
        "colab": {
          "base_uri": "https://localhost:8080/"
        },
        "id": "OXd0RFXCwhbF",
        "outputId": "7d6f4625-39b1-49a3-8602-a0368df9387c"
      },
      "source": [
        "X_test_L_tf[0].shape"
      ],
      "execution_count": null,
      "outputs": [
        {
          "output_type": "execute_result",
          "data": {
            "text/plain": [
              "(1, 157)"
            ]
          },
          "metadata": {},
          "execution_count": 27
        }
      ]
    },
    {
      "cell_type": "code",
      "metadata": {
        "colab": {
          "base_uri": "https://localhost:8080/"
        },
        "id": "HQY3k_wAMWml",
        "outputId": "507d845c-8087-45aa-b95d-de8e4d2645d7"
      },
      "source": [
        "print(classification_report(y_test,pred_L_tf))"
      ],
      "execution_count": null,
      "outputs": [
        {
          "output_type": "stream",
          "name": "stdout",
          "text": [
            "              precision    recall  f1-score   support\n",
            "\n",
            "           0       1.00      0.29      0.44         7\n",
            "           1       0.83      0.71      0.77         7\n",
            "           2       0.60      0.60      0.60         5\n",
            "           3       0.41      1.00      0.58         9\n",
            "           4       1.00      0.38      0.55         8\n",
            "           5       1.00      1.00      1.00         8\n",
            "           6       0.67      0.50      0.57         4\n",
            "           7       0.75      0.60      0.67         5\n",
            "\n",
            "    accuracy                           0.66        53\n",
            "   macro avg       0.78      0.63      0.65        53\n",
            "weighted avg       0.79      0.66      0.65        53\n",
            "\n"
          ]
        }
      ]
    },
    {
      "cell_type": "markdown",
      "metadata": {
        "id": "f4vBfswkNizA"
      },
      "source": [
        "2. Naive Bayes theorem using Stemmed data"
      ]
    },
    {
      "cell_type": "code",
      "metadata": {
        "id": "0EDYQwVwNRYn"
      },
      "source": [
        "model_nb_S = MultinomialNB(alpha=0.5)\n",
        "model_nb_S.fit(X_train_S_tf,y_train)\n",
        "pred_S_tf = model_nb_S.predict(X_test_S_tf)\n",
        "\n",
        "#using Stem data - Better accuracy"
      ],
      "execution_count": null,
      "outputs": []
    },
    {
      "cell_type": "code",
      "metadata": {
        "colab": {
          "base_uri": "https://localhost:8080/"
        },
        "id": "BK3vU0KANYLk",
        "outputId": "156005f2-515c-440b-e93b-f013df532e12"
      },
      "source": [
        "print(classification_report(y_test,pred_S_tf))"
      ],
      "execution_count": null,
      "outputs": [
        {
          "output_type": "stream",
          "name": "stdout",
          "text": [
            "              precision    recall  f1-score   support\n",
            "\n",
            "           0       1.00      0.29      0.44         7\n",
            "           1       0.75      0.86      0.80         7\n",
            "           2       0.60      0.60      0.60         5\n",
            "           3       0.47      1.00      0.64         9\n",
            "           4       1.00      0.50      0.67         8\n",
            "           5       1.00      1.00      1.00         8\n",
            "           6       0.67      0.50      0.57         4\n",
            "           7       0.75      0.60      0.67         5\n",
            "\n",
            "    accuracy                           0.70        53\n",
            "   macro avg       0.78      0.67      0.67        53\n",
            "weighted avg       0.79      0.70      0.69        53\n",
            "\n"
          ]
        }
      ]
    },
    {
      "cell_type": "code",
      "metadata": {
        "id": "5suMr391q-XK"
      },
      "source": [
        "pk_du = pickle.dump(model_nb_S,open('/content/drive/My Drive/Data Science/NLP/Project1/model_nb_S.pkl','wb'))"
      ],
      "execution_count": null,
      "outputs": []
    },
    {
      "cell_type": "markdown",
      "metadata": {
        "id": "qNMJMUfEOFi3"
      },
      "source": [
        "3. Decision Tree Classifier using Lemmatized data"
      ]
    },
    {
      "cell_type": "code",
      "metadata": {
        "id": "boqpI3UhMa4a"
      },
      "source": [
        "DTC = DecisionTreeClassifier(max_depth=5)\n",
        "DTC.fit(X_train_L_tf,y_train)\n",
        "pred_L_tf_DTC = model_nb.predict(X_test_L_tf)"
      ],
      "execution_count": null,
      "outputs": []
    },
    {
      "cell_type": "code",
      "metadata": {
        "colab": {
          "base_uri": "https://localhost:8080/"
        },
        "id": "ivrwQBdWMepO",
        "outputId": "5467f44a-89f2-431d-be6e-30bc642c58fa"
      },
      "source": [
        "print(classification_report(y_test,pred_L_tf_DTC))"
      ],
      "execution_count": null,
      "outputs": [
        {
          "output_type": "stream",
          "name": "stdout",
          "text": [
            "              precision    recall  f1-score   support\n",
            "\n",
            "           0       1.00      0.29      0.44         7\n",
            "           1       0.83      0.71      0.77         7\n",
            "           2       0.60      0.60      0.60         5\n",
            "           3       0.41      1.00      0.58         9\n",
            "           4       1.00      0.38      0.55         8\n",
            "           5       1.00      1.00      1.00         8\n",
            "           6       0.67      0.50      0.57         4\n",
            "           7       0.75      0.60      0.67         5\n",
            "\n",
            "    accuracy                           0.66        53\n",
            "   macro avg       0.78      0.63      0.65        53\n",
            "weighted avg       0.79      0.66      0.65        53\n",
            "\n"
          ]
        }
      ]
    },
    {
      "cell_type": "markdown",
      "metadata": {
        "id": "xDqQTl1yOLZQ"
      },
      "source": [
        "4. Decision Tree Classifier using stemmed data"
      ]
    },
    {
      "cell_type": "code",
      "metadata": {
        "id": "O-JfcfDIN4iK"
      },
      "source": [
        "DTC_s = DecisionTreeClassifier(max_depth=5)\n",
        "DTC_s.fit(X_train_S_tf,y_train)\n",
        "pred_s_tf_DTC = DTC_s.predict(X_test_S_tf)"
      ],
      "execution_count": null,
      "outputs": []
    },
    {
      "cell_type": "code",
      "metadata": {
        "colab": {
          "base_uri": "https://localhost:8080/"
        },
        "id": "a5uVrKnIOV1_",
        "outputId": "64c45c46-5e68-4c67-bebc-e4a931eeb1e1"
      },
      "source": [
        "print(classification_report(y_test,pred_s_tf_DTC))"
      ],
      "execution_count": null,
      "outputs": [
        {
          "output_type": "stream",
          "name": "stdout",
          "text": [
            "              precision    recall  f1-score   support\n",
            "\n",
            "           0       0.00      0.00      0.00         7\n",
            "           1       1.00      0.14      0.25         7\n",
            "           2       1.00      0.20      0.33         5\n",
            "           3       1.00      0.44      0.62         9\n",
            "           4       0.20      1.00      0.33         8\n",
            "           5       1.00      0.62      0.77         8\n",
            "           6       0.00      0.00      0.00         4\n",
            "           7       0.50      0.20      0.29         5\n",
            "\n",
            "    accuracy                           0.38        53\n",
            "   macro avg       0.59      0.33      0.32        53\n",
            "weighted avg       0.62      0.38      0.36        53\n",
            "\n"
          ]
        }
      ]
    },
    {
      "cell_type": "markdown",
      "metadata": {
        "id": "ufLez6-RkhYh"
      },
      "source": [
        "5. Random Forest Classifier"
      ]
    },
    {
      "cell_type": "code",
      "metadata": {
        "id": "2YwXChlUkY1k"
      },
      "source": [
        "RFC = RandomForestClassifier()\n",
        "param_grid = {\"n_estimators\":[50,100,150,200,250,300,350,400,450,500],\"criterion\":['gini','entropy']}\n",
        "\n",
        "# , , , min_samples_split=2, min_samples_leaf=1, min_weight_fraction_leaf=0.0, max_features='auto', \n",
        "# max_leaf_nodes=None, min_impurity_decrease=0.0, min_impurity_split=None, bootstrap=True, oob_score=False, \n",
        "# n_jobs=None, random_state=None, verbose=0, warm_start=False, class_weight=None, ccp_alpha=0.0, max_samples=None\n",
        "\n",
        "\n",
        "GSCV = GridSearchCV(estimator=RFC,param_grid=param_grid)\n",
        "GSCV.fit(X_train_L_tf,y_train)\n",
        "pred_L_tf_RFC = GSCV.predict(X_test_L_tf)"
      ],
      "execution_count": null,
      "outputs": []
    },
    {
      "cell_type": "code",
      "metadata": {
        "colab": {
          "base_uri": "https://localhost:8080/"
        },
        "id": "w-tPzlTdkcL4",
        "outputId": "c56f1403-3020-40cf-b706-7678a2e13a3f"
      },
      "source": [
        "print(classification_report(y_test,pred_L_tf_RFC))"
      ],
      "execution_count": null,
      "outputs": [
        {
          "output_type": "stream",
          "name": "stdout",
          "text": [
            "              precision    recall  f1-score   support\n",
            "\n",
            "           0       0.50      0.57      0.53         7\n",
            "           1       0.80      0.57      0.67         7\n",
            "           2       0.75      0.60      0.67         5\n",
            "           3       0.45      1.00      0.62         9\n",
            "           4       1.00      0.38      0.55         8\n",
            "           5       1.00      1.00      1.00         8\n",
            "           6       1.00      0.50      0.67         4\n",
            "           7       1.00      0.60      0.75         5\n",
            "\n",
            "    accuracy                           0.68        53\n",
            "   macro avg       0.81      0.65      0.68        53\n",
            "weighted avg       0.79      0.68      0.68        53\n",
            "\n"
          ]
        }
      ]
    },
    {
      "cell_type": "code",
      "metadata": {
        "colab": {
          "base_uri": "https://localhost:8080/"
        },
        "id": "1Ch-0pDPlGvC",
        "outputId": "85d92816-10eb-4551-9e28-4ff07c6f1b9e"
      },
      "source": [
        "X_train_L_tf1.shape"
      ],
      "execution_count": null,
      "outputs": [
        {
          "data": {
            "text/plain": [
              "(122, 157)"
            ]
          },
          "execution_count": 36,
          "metadata": {},
          "output_type": "execute_result"
        }
      ]
    },
    {
      "cell_type": "code",
      "metadata": {
        "colab": {
          "base_uri": "https://localhost:8080/"
        },
        "id": "f5IOzd1zy4xn",
        "outputId": "9cb9365c-98c9-4a95-f58c-aba28d7dde65"
      },
      "source": [
        "X_train_S_tf1.shape"
      ],
      "execution_count": null,
      "outputs": [
        {
          "data": {
            "text/plain": [
              "(122, 158)"
            ]
          },
          "execution_count": 37,
          "metadata": {},
          "output_type": "execute_result"
        }
      ]
    },
    {
      "cell_type": "markdown",
      "metadata": {
        "id": "0METnpQc8TWs"
      },
      "source": [
        "6. Lets use Neural Networks"
      ]
    },
    {
      "cell_type": "code",
      "metadata": {
        "id": "s-58qNOe6V0o"
      },
      "source": [
        "X_train_L_tf1 = X_train_L_tf.toarray()\n",
        "X_test_L_tf1 = X_test_L_tf.toarray()\n",
        "X_train_S_tf1 = X_train_S_tf.toarray()\n",
        "X_test_S_tf1 = X_test_S_tf.toarray()"
      ],
      "execution_count": null,
      "outputs": []
    },
    {
      "cell_type": "code",
      "metadata": {
        "id": "twRzNjg963CC"
      },
      "source": [
        "y_train_tc = to_categorical(y_train,num_classes=8)\n",
        "y_test_tc = to_categorical(y_test,num_classes=8)"
      ],
      "execution_count": null,
      "outputs": []
    },
    {
      "cell_type": "code",
      "metadata": {
        "id": "pjCb053ly6XE"
      },
      "source": [
        "NN_s = Sequential()\n",
        "NN_s.add(Dense(200,input_shape=(158,),activation='relu'))\n",
        "NN_s.add(Dense(150,activation='relu'))\n",
        "NN_s.add(Dense(100,activation='relu'))\n",
        "NN_s.add(Dense(50,activation='relu'))\n",
        "NN_s.add(Dense(25,activation='relu'))\n",
        "NN_s.add(Dense(8,activation='softmax'))\n",
        "\n",
        "NN_L = Sequential()\n",
        "NN_L.add(Dense(200,input_shape=(157,),activation='relu'))\n",
        "NN_L.add(Dense(150,activation='relu'))\n",
        "NN_L.add(Dense(100,activation='relu'))\n",
        "NN_L.add(Dense(50,activation='relu'))\n",
        "NN_L.add(Dense(25,activation='relu'))\n",
        "NN_L.add(Dense(8,activation='softmax'))"
      ],
      "execution_count": null,
      "outputs": []
    },
    {
      "cell_type": "markdown",
      "metadata": {
        "id": "ZQ7RReAs835T"
      },
      "source": [
        "* Neural Network with Lemmatized data - Adam Optimizer"
      ]
    },
    {
      "cell_type": "code",
      "metadata": {
        "colab": {
          "base_uri": "https://localhost:8080/"
        },
        "id": "0_Q35BKLzpsN",
        "outputId": "62052996-8e8c-4ce3-b795-eba812a21f32"
      },
      "source": [
        "NN_L1 = Sequential()\n",
        "NN_L1.add(Dense(200,input_shape=(157,),activation='relu'))\n",
        "NN_L1.add(Dense(150,activation='relu'))\n",
        "NN_L1.add(Dense(100,activation='relu'))\n",
        "NN_L1.add(Dense(50,activation='relu'))\n",
        "NN_L1.add(Dense(25,activation='relu'))\n",
        "NN_L1.add(Dense(8,activation='softmax'))\n",
        "NN_L1.compile(optimizer='adam',loss='categorical_crossentropy',metrics=['accuracy'])\n",
        "NN_L1.fit(X_train_L_tf1,y_train_tc,epochs=100,validation_data=(X_test_L_tf1,y_test_tc))"
      ],
      "execution_count": null,
      "outputs": [
        {
          "name": "stdout",
          "output_type": "stream",
          "text": [
            "Epoch 1/100\n",
            "4/4 [==============================] - 1s 72ms/step - loss: 2.0765 - accuracy: 0.1311 - val_loss: 2.0749 - val_accuracy: 0.1509\n",
            "Epoch 2/100\n",
            "4/4 [==============================] - 0s 12ms/step - loss: 2.0525 - accuracy: 0.1803 - val_loss: 2.0654 - val_accuracy: 0.1698\n",
            "Epoch 3/100\n",
            "4/4 [==============================] - 0s 11ms/step - loss: 2.0262 - accuracy: 0.2049 - val_loss: 2.0511 - val_accuracy: 0.1698\n",
            "Epoch 4/100\n",
            "4/4 [==============================] - 0s 11ms/step - loss: 1.9916 - accuracy: 0.2951 - val_loss: 2.0307 - val_accuracy: 0.1698\n",
            "Epoch 5/100\n",
            "4/4 [==============================] - 0s 12ms/step - loss: 1.9435 - accuracy: 0.3361 - val_loss: 2.0037 - val_accuracy: 0.1887\n",
            "Epoch 6/100\n",
            "4/4 [==============================] - 0s 11ms/step - loss: 1.8791 - accuracy: 0.3689 - val_loss: 1.9663 - val_accuracy: 0.2075\n",
            "Epoch 7/100\n",
            "4/4 [==============================] - 0s 13ms/step - loss: 1.7969 - accuracy: 0.4016 - val_loss: 1.9180 - val_accuracy: 0.2642\n",
            "Epoch 8/100\n",
            "4/4 [==============================] - 0s 14ms/step - loss: 1.6843 - accuracy: 0.4754 - val_loss: 1.8532 - val_accuracy: 0.2830\n",
            "Epoch 9/100\n",
            "4/4 [==============================] - 0s 13ms/step - loss: 1.5499 - accuracy: 0.5492 - val_loss: 1.7794 - val_accuracy: 0.3019\n",
            "Epoch 10/100\n",
            "4/4 [==============================] - 0s 12ms/step - loss: 1.3886 - accuracy: 0.5902 - val_loss: 1.7007 - val_accuracy: 0.3019\n",
            "Epoch 11/100\n",
            "4/4 [==============================] - 0s 12ms/step - loss: 1.1988 - accuracy: 0.6311 - val_loss: 1.6035 - val_accuracy: 0.3208\n",
            "Epoch 12/100\n",
            "4/4 [==============================] - 0s 13ms/step - loss: 1.0000 - accuracy: 0.6721 - val_loss: 1.5312 - val_accuracy: 0.3774\n",
            "Epoch 13/100\n",
            "4/4 [==============================] - 0s 18ms/step - loss: 0.8238 - accuracy: 0.7541 - val_loss: 1.4382 - val_accuracy: 0.3962\n",
            "Epoch 14/100\n",
            "4/4 [==============================] - 0s 13ms/step - loss: 0.6515 - accuracy: 0.7951 - val_loss: 1.3701 - val_accuracy: 0.4717\n",
            "Epoch 15/100\n",
            "4/4 [==============================] - 0s 12ms/step - loss: 0.5099 - accuracy: 0.8607 - val_loss: 1.3042 - val_accuracy: 0.4717\n",
            "Epoch 16/100\n",
            "4/4 [==============================] - 0s 15ms/step - loss: 0.3889 - accuracy: 0.8770 - val_loss: 1.2485 - val_accuracy: 0.4906\n",
            "Epoch 17/100\n",
            "4/4 [==============================] - 0s 13ms/step - loss: 0.2947 - accuracy: 0.8934 - val_loss: 1.2418 - val_accuracy: 0.5094\n",
            "Epoch 18/100\n",
            "4/4 [==============================] - 0s 12ms/step - loss: 0.2465 - accuracy: 0.9180 - val_loss: 1.1756 - val_accuracy: 0.5094\n",
            "Epoch 19/100\n",
            "4/4 [==============================] - 0s 12ms/step - loss: 0.1717 - accuracy: 0.9672 - val_loss: 1.2245 - val_accuracy: 0.5849\n",
            "Epoch 20/100\n",
            "4/4 [==============================] - 0s 14ms/step - loss: 0.1324 - accuracy: 0.9918 - val_loss: 1.1388 - val_accuracy: 0.6226\n",
            "Epoch 21/100\n",
            "4/4 [==============================] - 0s 13ms/step - loss: 0.1098 - accuracy: 0.9918 - val_loss: 1.1673 - val_accuracy: 0.5849\n",
            "Epoch 22/100\n",
            "4/4 [==============================] - 0s 13ms/step - loss: 0.0701 - accuracy: 0.9918 - val_loss: 1.1577 - val_accuracy: 0.6038\n",
            "Epoch 23/100\n",
            "4/4 [==============================] - 0s 12ms/step - loss: 0.0697 - accuracy: 0.9918 - val_loss: 1.1117 - val_accuracy: 0.6415\n",
            "Epoch 24/100\n",
            "4/4 [==============================] - 0s 12ms/step - loss: 0.0429 - accuracy: 0.9918 - val_loss: 1.1394 - val_accuracy: 0.6038\n",
            "Epoch 25/100\n",
            "4/4 [==============================] - 0s 12ms/step - loss: 0.0352 - accuracy: 0.9918 - val_loss: 1.1544 - val_accuracy: 0.6226\n",
            "Epoch 26/100\n",
            "4/4 [==============================] - 0s 12ms/step - loss: 0.0195 - accuracy: 1.0000 - val_loss: 1.1105 - val_accuracy: 0.6792\n",
            "Epoch 27/100\n",
            "4/4 [==============================] - 0s 13ms/step - loss: 0.0370 - accuracy: 0.9918 - val_loss: 1.1376 - val_accuracy: 0.6792\n",
            "Epoch 28/100\n",
            "4/4 [==============================] - 0s 13ms/step - loss: 0.0279 - accuracy: 0.9918 - val_loss: 1.2281 - val_accuracy: 0.6038\n",
            "Epoch 29/100\n",
            "4/4 [==============================] - 0s 17ms/step - loss: 0.0347 - accuracy: 0.9918 - val_loss: 1.1903 - val_accuracy: 0.6226\n",
            "Epoch 30/100\n",
            "4/4 [==============================] - 0s 13ms/step - loss: 0.0243 - accuracy: 0.9918 - val_loss: 1.1503 - val_accuracy: 0.6604\n",
            "Epoch 31/100\n",
            "4/4 [==============================] - 0s 13ms/step - loss: 0.0235 - accuracy: 0.9918 - val_loss: 1.1649 - val_accuracy: 0.6604\n",
            "Epoch 32/100\n",
            "4/4 [==============================] - 0s 12ms/step - loss: 0.0209 - accuracy: 0.9836 - val_loss: 1.1609 - val_accuracy: 0.6604\n",
            "Epoch 33/100\n",
            "4/4 [==============================] - 0s 12ms/step - loss: 0.0221 - accuracy: 0.9836 - val_loss: 1.1607 - val_accuracy: 0.6604\n",
            "Epoch 34/100\n",
            "4/4 [==============================] - 0s 12ms/step - loss: 0.0148 - accuracy: 0.9918 - val_loss: 1.1852 - val_accuracy: 0.6415\n",
            "Epoch 35/100\n",
            "4/4 [==============================] - 0s 14ms/step - loss: 0.0175 - accuracy: 0.9918 - val_loss: 1.1766 - val_accuracy: 0.6792\n",
            "Epoch 36/100\n",
            "4/4 [==============================] - 0s 12ms/step - loss: 0.0220 - accuracy: 0.9918 - val_loss: 1.1899 - val_accuracy: 0.6981\n",
            "Epoch 37/100\n",
            "4/4 [==============================] - 0s 14ms/step - loss: 0.0140 - accuracy: 0.9918 - val_loss: 1.1978 - val_accuracy: 0.6604\n",
            "Epoch 38/100\n",
            "4/4 [==============================] - 0s 12ms/step - loss: 0.0191 - accuracy: 0.9918 - val_loss: 1.2021 - val_accuracy: 0.6604\n",
            "Epoch 39/100\n",
            "4/4 [==============================] - 0s 13ms/step - loss: 0.0144 - accuracy: 0.9918 - val_loss: 1.1988 - val_accuracy: 0.6604\n",
            "Epoch 40/100\n",
            "4/4 [==============================] - 0s 15ms/step - loss: 0.0152 - accuracy: 0.9918 - val_loss: 1.2028 - val_accuracy: 0.6604\n",
            "Epoch 41/100\n",
            "4/4 [==============================] - 0s 13ms/step - loss: 0.0153 - accuracy: 0.9918 - val_loss: 1.2112 - val_accuracy: 0.6604\n",
            "Epoch 42/100\n",
            "4/4 [==============================] - 0s 14ms/step - loss: 0.0156 - accuracy: 0.9836 - val_loss: 1.2220 - val_accuracy: 0.6604\n",
            "Epoch 43/100\n",
            "4/4 [==============================] - 0s 13ms/step - loss: 0.0172 - accuracy: 0.9836 - val_loss: 1.2234 - val_accuracy: 0.6604\n",
            "Epoch 44/100\n",
            "4/4 [==============================] - 0s 15ms/step - loss: 0.0140 - accuracy: 0.9836 - val_loss: 1.2366 - val_accuracy: 0.6604\n",
            "Epoch 45/100\n",
            "4/4 [==============================] - 0s 12ms/step - loss: 0.0259 - accuracy: 0.9918 - val_loss: 1.2891 - val_accuracy: 0.6226\n",
            "Epoch 46/100\n",
            "4/4 [==============================] - 0s 12ms/step - loss: 0.0253 - accuracy: 0.9836 - val_loss: 1.2360 - val_accuracy: 0.6792\n",
            "Epoch 47/100\n",
            "4/4 [==============================] - 0s 12ms/step - loss: 0.0218 - accuracy: 0.9918 - val_loss: 1.2465 - val_accuracy: 0.6792\n",
            "Epoch 48/100\n",
            "4/4 [==============================] - 0s 12ms/step - loss: 0.0110 - accuracy: 0.9918 - val_loss: 1.2742 - val_accuracy: 0.6226\n",
            "Epoch 49/100\n",
            "4/4 [==============================] - 0s 12ms/step - loss: 0.0324 - accuracy: 0.9918 - val_loss: 1.3639 - val_accuracy: 0.6038\n",
            "Epoch 50/100\n",
            "4/4 [==============================] - 0s 12ms/step - loss: 0.0218 - accuracy: 0.9918 - val_loss: 1.2390 - val_accuracy: 0.6604\n",
            "Epoch 51/100\n",
            "4/4 [==============================] - 0s 15ms/step - loss: 0.0125 - accuracy: 0.9918 - val_loss: 1.2778 - val_accuracy: 0.6604\n",
            "Epoch 52/100\n",
            "4/4 [==============================] - 0s 13ms/step - loss: 0.0219 - accuracy: 0.9918 - val_loss: 1.2548 - val_accuracy: 0.6792\n",
            "Epoch 53/100\n",
            "4/4 [==============================] - 0s 14ms/step - loss: 0.0140 - accuracy: 0.9918 - val_loss: 1.2477 - val_accuracy: 0.6604\n",
            "Epoch 54/100\n",
            "4/4 [==============================] - 0s 14ms/step - loss: 0.0149 - accuracy: 0.9918 - val_loss: 1.2539 - val_accuracy: 0.6604\n",
            "Epoch 55/100\n",
            "4/4 [==============================] - 0s 12ms/step - loss: 0.0136 - accuracy: 0.9918 - val_loss: 1.2550 - val_accuracy: 0.6604\n",
            "Epoch 56/100\n",
            "4/4 [==============================] - 0s 13ms/step - loss: 0.0164 - accuracy: 0.9836 - val_loss: 1.2643 - val_accuracy: 0.6792\n",
            "Epoch 57/100\n",
            "4/4 [==============================] - 0s 13ms/step - loss: 0.0193 - accuracy: 0.9918 - val_loss: 1.2677 - val_accuracy: 0.6792\n",
            "Epoch 58/100\n",
            "4/4 [==============================] - 0s 15ms/step - loss: 0.0190 - accuracy: 0.9836 - val_loss: 1.3325 - val_accuracy: 0.6038\n",
            "Epoch 59/100\n",
            "4/4 [==============================] - 0s 13ms/step - loss: 0.0284 - accuracy: 0.9918 - val_loss: 1.3662 - val_accuracy: 0.6038\n",
            "Epoch 60/100\n",
            "4/4 [==============================] - 0s 13ms/step - loss: 0.0128 - accuracy: 0.9918 - val_loss: 1.2637 - val_accuracy: 0.6604\n",
            "Epoch 61/100\n",
            "4/4 [==============================] - 0s 13ms/step - loss: 0.0147 - accuracy: 0.9918 - val_loss: 1.3255 - val_accuracy: 0.6604\n",
            "Epoch 62/100\n",
            "4/4 [==============================] - 0s 13ms/step - loss: 0.0257 - accuracy: 0.9918 - val_loss: 1.3080 - val_accuracy: 0.6604\n",
            "Epoch 63/100\n",
            "4/4 [==============================] - 0s 12ms/step - loss: 0.0291 - accuracy: 0.9836 - val_loss: 1.2856 - val_accuracy: 0.6415\n",
            "Epoch 64/100\n",
            "4/4 [==============================] - 0s 12ms/step - loss: 0.0165 - accuracy: 0.9918 - val_loss: 1.2651 - val_accuracy: 0.6415\n",
            "Epoch 65/100\n",
            "4/4 [==============================] - 0s 15ms/step - loss: 0.0148 - accuracy: 0.9918 - val_loss: 1.2647 - val_accuracy: 0.6415\n",
            "Epoch 66/100\n",
            "4/4 [==============================] - 0s 12ms/step - loss: 0.0136 - accuracy: 0.9918 - val_loss: 1.2676 - val_accuracy: 0.6415\n",
            "Epoch 67/100\n",
            "4/4 [==============================] - 0s 12ms/step - loss: 0.0129 - accuracy: 0.9836 - val_loss: 1.2808 - val_accuracy: 0.6415\n",
            "Epoch 68/100\n",
            "4/4 [==============================] - 0s 13ms/step - loss: 0.0135 - accuracy: 0.9918 - val_loss: 1.2827 - val_accuracy: 0.6415\n",
            "Epoch 69/100\n",
            "4/4 [==============================] - 0s 13ms/step - loss: 0.0158 - accuracy: 0.9918 - val_loss: 1.2868 - val_accuracy: 0.6415\n",
            "Epoch 70/100\n",
            "4/4 [==============================] - 0s 13ms/step - loss: 0.0120 - accuracy: 1.0000 - val_loss: 1.2879 - val_accuracy: 0.6792\n",
            "Epoch 71/100\n",
            "4/4 [==============================] - 0s 12ms/step - loss: 0.0239 - accuracy: 0.9918 - val_loss: 1.3231 - val_accuracy: 0.6792\n",
            "Epoch 72/100\n",
            "4/4 [==============================] - 0s 19ms/step - loss: 0.0141 - accuracy: 0.9918 - val_loss: 1.2863 - val_accuracy: 0.6604\n",
            "Epoch 73/100\n",
            "4/4 [==============================] - 0s 12ms/step - loss: 0.0173 - accuracy: 0.9918 - val_loss: 1.3404 - val_accuracy: 0.6038\n",
            "Epoch 74/100\n",
            "4/4 [==============================] - 0s 12ms/step - loss: 0.0171 - accuracy: 0.9918 - val_loss: 1.3079 - val_accuracy: 0.6415\n",
            "Epoch 75/100\n",
            "4/4 [==============================] - 0s 13ms/step - loss: 0.0119 - accuracy: 0.9918 - val_loss: 1.2935 - val_accuracy: 0.6604\n",
            "Epoch 76/100\n",
            "4/4 [==============================] - 0s 15ms/step - loss: 0.0149 - accuracy: 0.9918 - val_loss: 1.3042 - val_accuracy: 0.6604\n",
            "Epoch 77/100\n",
            "4/4 [==============================] - 0s 14ms/step - loss: 0.0176 - accuracy: 0.9918 - val_loss: 1.2925 - val_accuracy: 0.6415\n",
            "Epoch 78/100\n",
            "4/4 [==============================] - 0s 13ms/step - loss: 0.0121 - accuracy: 0.9918 - val_loss: 1.2985 - val_accuracy: 0.6415\n",
            "Epoch 79/100\n",
            "4/4 [==============================] - 0s 15ms/step - loss: 0.0136 - accuracy: 0.9836 - val_loss: 1.2992 - val_accuracy: 0.6415\n",
            "Epoch 80/100\n",
            "4/4 [==============================] - 0s 12ms/step - loss: 0.0135 - accuracy: 0.9836 - val_loss: 1.3017 - val_accuracy: 0.6415\n",
            "Epoch 81/100\n",
            "4/4 [==============================] - 0s 14ms/step - loss: 0.0146 - accuracy: 0.9918 - val_loss: 1.3049 - val_accuracy: 0.6604\n",
            "Epoch 82/100\n",
            "4/4 [==============================] - 0s 12ms/step - loss: 0.0179 - accuracy: 0.9918 - val_loss: 1.3315 - val_accuracy: 0.6226\n",
            "Epoch 83/100\n",
            "4/4 [==============================] - 0s 12ms/step - loss: 0.0139 - accuracy: 0.9918 - val_loss: 1.3116 - val_accuracy: 0.6604\n",
            "Epoch 84/100\n",
            "4/4 [==============================] - 0s 12ms/step - loss: 0.0189 - accuracy: 0.9918 - val_loss: 1.3304 - val_accuracy: 0.6792\n",
            "Epoch 85/100\n",
            "4/4 [==============================] - 0s 13ms/step - loss: 0.0157 - accuracy: 0.9918 - val_loss: 1.3177 - val_accuracy: 0.6604\n",
            "Epoch 86/100\n",
            "4/4 [==============================] - 0s 14ms/step - loss: 0.0117 - accuracy: 1.0000 - val_loss: 1.3379 - val_accuracy: 0.6604\n",
            "Epoch 87/100\n",
            "4/4 [==============================] - 0s 13ms/step - loss: 0.0174 - accuracy: 0.9918 - val_loss: 1.3666 - val_accuracy: 0.6226\n",
            "Epoch 88/100\n",
            "4/4 [==============================] - 0s 13ms/step - loss: 0.0160 - accuracy: 0.9918 - val_loss: 1.3177 - val_accuracy: 0.6604\n",
            "Epoch 89/100\n",
            "4/4 [==============================] - 0s 13ms/step - loss: 0.0129 - accuracy: 0.9918 - val_loss: 1.3199 - val_accuracy: 0.6415\n",
            "Epoch 90/100\n",
            "4/4 [==============================] - 0s 13ms/step - loss: 0.0129 - accuracy: 0.9918 - val_loss: 1.3186 - val_accuracy: 0.6415\n",
            "Epoch 91/100\n",
            "4/4 [==============================] - 0s 12ms/step - loss: 0.0139 - accuracy: 0.9918 - val_loss: 1.3191 - val_accuracy: 0.6415\n",
            "Epoch 92/100\n",
            "4/4 [==============================] - 0s 16ms/step - loss: 0.0133 - accuracy: 0.9918 - val_loss: 1.3202 - val_accuracy: 0.6415\n",
            "Epoch 93/100\n",
            "4/4 [==============================] - 0s 14ms/step - loss: 0.0137 - accuracy: 0.9836 - val_loss: 1.3267 - val_accuracy: 0.6415\n",
            "Epoch 94/100\n",
            "4/4 [==============================] - 0s 14ms/step - loss: 0.0149 - accuracy: 0.9836 - val_loss: 1.3237 - val_accuracy: 0.6415\n",
            "Epoch 95/100\n",
            "4/4 [==============================] - 0s 16ms/step - loss: 0.0140 - accuracy: 0.9918 - val_loss: 1.3256 - val_accuracy: 0.6415\n",
            "Epoch 96/100\n",
            "4/4 [==============================] - 0s 13ms/step - loss: 0.0119 - accuracy: 0.9918 - val_loss: 1.3363 - val_accuracy: 0.6415\n",
            "Epoch 97/100\n",
            "4/4 [==============================] - 0s 13ms/step - loss: 0.0126 - accuracy: 0.9918 - val_loss: 1.3553 - val_accuracy: 0.6415\n",
            "Epoch 98/100\n",
            "4/4 [==============================] - 0s 14ms/step - loss: 0.0159 - accuracy: 0.9918 - val_loss: 1.3403 - val_accuracy: 0.6604\n",
            "Epoch 99/100\n",
            "4/4 [==============================] - 0s 14ms/step - loss: 0.0183 - accuracy: 0.9918 - val_loss: 1.3700 - val_accuracy: 0.6604\n",
            "Epoch 100/100\n",
            "4/4 [==============================] - 0s 13ms/step - loss: 0.0186 - accuracy: 0.9836 - val_loss: 1.3439 - val_accuracy: 0.6792\n"
          ]
        },
        {
          "data": {
            "text/plain": [
              "<keras.callbacks.History at 0x7ffa46df3a90>"
            ]
          },
          "execution_count": 65,
          "metadata": {},
          "output_type": "execute_result"
        }
      ]
    },
    {
      "cell_type": "markdown",
      "metadata": {
        "id": "3HDh5drg9Euk"
      },
      "source": [
        "* Neural Network with Lemmatized data - SGD Optimizer"
      ]
    },
    {
      "cell_type": "code",
      "metadata": {
        "colab": {
          "base_uri": "https://localhost:8080/"
        },
        "id": "lqWVQIVr9BhF",
        "outputId": "1d6d2168-cd9a-4f27-f7c9-6f3db6432e32"
      },
      "source": [
        "NN_L2 = Sequential()\n",
        "NN_L2.add(Dense(200,input_shape=(157,),activation='relu'))\n",
        "NN_L2.add(Dense(150,activation='relu'))\n",
        "NN_L2.add(Dense(100,activation='relu'))\n",
        "NN_L2.add(Dense(50,activation='relu'))\n",
        "NN_L2.add(Dense(25,activation='relu'))\n",
        "NN_L2.add(Dense(8,activation='softmax'))\n",
        "NN_L2.compile(optimizer='sgd',loss='categorical_crossentropy',metrics=['accuracy'])\n",
        "NN_L2.fit(X_train_L_tf1,y_train_tc,epochs=110,validation_data=(X_test_L_tf1,y_test_tc))"
      ],
      "execution_count": null,
      "outputs": [
        {
          "name": "stdout",
          "output_type": "stream",
          "text": [
            "Epoch 1/110\n",
            "4/4 [==============================] - 1s 85ms/step - loss: 2.0795 - accuracy: 0.1230 - val_loss: 2.0756 - val_accuracy: 0.1698\n",
            "Epoch 2/110\n",
            "4/4 [==============================] - 0s 13ms/step - loss: 2.0787 - accuracy: 0.1475 - val_loss: 2.0755 - val_accuracy: 0.1698\n",
            "Epoch 3/110\n",
            "4/4 [==============================] - 0s 12ms/step - loss: 2.0780 - accuracy: 0.1557 - val_loss: 2.0755 - val_accuracy: 0.2264\n",
            "Epoch 4/110\n",
            "4/4 [==============================] - 0s 12ms/step - loss: 2.0773 - accuracy: 0.1967 - val_loss: 2.0754 - val_accuracy: 0.2264\n",
            "Epoch 5/110\n",
            "4/4 [==============================] - 0s 12ms/step - loss: 2.0767 - accuracy: 0.2049 - val_loss: 2.0753 - val_accuracy: 0.2453\n",
            "Epoch 6/110\n",
            "4/4 [==============================] - 0s 12ms/step - loss: 2.0762 - accuracy: 0.2295 - val_loss: 2.0752 - val_accuracy: 0.2642\n",
            "Epoch 7/110\n",
            "4/4 [==============================] - 0s 12ms/step - loss: 2.0756 - accuracy: 0.2459 - val_loss: 2.0750 - val_accuracy: 0.2453\n",
            "Epoch 8/110\n",
            "4/4 [==============================] - 0s 12ms/step - loss: 2.0753 - accuracy: 0.2459 - val_loss: 2.0748 - val_accuracy: 0.2453\n",
            "Epoch 9/110\n",
            "4/4 [==============================] - 0s 13ms/step - loss: 2.0746 - accuracy: 0.2131 - val_loss: 2.0746 - val_accuracy: 0.2453\n",
            "Epoch 10/110\n",
            "4/4 [==============================] - 0s 14ms/step - loss: 2.0741 - accuracy: 0.2213 - val_loss: 2.0744 - val_accuracy: 0.2453\n",
            "Epoch 11/110\n",
            "4/4 [==============================] - 0s 14ms/step - loss: 2.0735 - accuracy: 0.2295 - val_loss: 2.0741 - val_accuracy: 0.2453\n",
            "Epoch 12/110\n",
            "4/4 [==============================] - 0s 12ms/step - loss: 2.0729 - accuracy: 0.2459 - val_loss: 2.0740 - val_accuracy: 0.2453\n",
            "Epoch 13/110\n",
            "4/4 [==============================] - 0s 13ms/step - loss: 2.0724 - accuracy: 0.2541 - val_loss: 2.0738 - val_accuracy: 0.2075\n",
            "Epoch 14/110\n",
            "4/4 [==============================] - 0s 13ms/step - loss: 2.0720 - accuracy: 0.2377 - val_loss: 2.0736 - val_accuracy: 0.2075\n",
            "Epoch 15/110\n",
            "4/4 [==============================] - 0s 14ms/step - loss: 2.0713 - accuracy: 0.2295 - val_loss: 2.0734 - val_accuracy: 0.2075\n",
            "Epoch 16/110\n",
            "4/4 [==============================] - 0s 14ms/step - loss: 2.0711 - accuracy: 0.2213 - val_loss: 2.0733 - val_accuracy: 0.2075\n",
            "Epoch 17/110\n",
            "4/4 [==============================] - 0s 18ms/step - loss: 2.0706 - accuracy: 0.2131 - val_loss: 2.0732 - val_accuracy: 0.1887\n",
            "Epoch 18/110\n",
            "4/4 [==============================] - 0s 13ms/step - loss: 2.0702 - accuracy: 0.2049 - val_loss: 2.0730 - val_accuracy: 0.1887\n",
            "Epoch 19/110\n",
            "4/4 [==============================] - 0s 13ms/step - loss: 2.0697 - accuracy: 0.1967 - val_loss: 2.0727 - val_accuracy: 0.1887\n",
            "Epoch 20/110\n",
            "4/4 [==============================] - 0s 13ms/step - loss: 2.0693 - accuracy: 0.2131 - val_loss: 2.0725 - val_accuracy: 0.1887\n",
            "Epoch 21/110\n",
            "4/4 [==============================] - 0s 12ms/step - loss: 2.0687 - accuracy: 0.1967 - val_loss: 2.0723 - val_accuracy: 0.1887\n",
            "Epoch 22/110\n",
            "4/4 [==============================] - 0s 12ms/step - loss: 2.0684 - accuracy: 0.1967 - val_loss: 2.0721 - val_accuracy: 0.1887\n",
            "Epoch 23/110\n",
            "4/4 [==============================] - 0s 16ms/step - loss: 2.0679 - accuracy: 0.1885 - val_loss: 2.0719 - val_accuracy: 0.1887\n",
            "Epoch 24/110\n",
            "4/4 [==============================] - 0s 15ms/step - loss: 2.0675 - accuracy: 0.1639 - val_loss: 2.0717 - val_accuracy: 0.1698\n",
            "Epoch 25/110\n",
            "4/4 [==============================] - 0s 13ms/step - loss: 2.0671 - accuracy: 0.1639 - val_loss: 2.0715 - val_accuracy: 0.1698\n",
            "Epoch 26/110\n",
            "4/4 [==============================] - 0s 14ms/step - loss: 2.0665 - accuracy: 0.1639 - val_loss: 2.0712 - val_accuracy: 0.1698\n",
            "Epoch 27/110\n",
            "4/4 [==============================] - 0s 13ms/step - loss: 2.0660 - accuracy: 0.1639 - val_loss: 2.0710 - val_accuracy: 0.1698\n",
            "Epoch 28/110\n",
            "4/4 [==============================] - 0s 12ms/step - loss: 2.0654 - accuracy: 0.1639 - val_loss: 2.0708 - val_accuracy: 0.1698\n",
            "Epoch 29/110\n",
            "4/4 [==============================] - 0s 12ms/step - loss: 2.0650 - accuracy: 0.1639 - val_loss: 2.0705 - val_accuracy: 0.1698\n",
            "Epoch 30/110\n",
            "4/4 [==============================] - 0s 17ms/step - loss: 2.0648 - accuracy: 0.1639 - val_loss: 2.0704 - val_accuracy: 0.1698\n",
            "Epoch 31/110\n",
            "4/4 [==============================] - 0s 14ms/step - loss: 2.0641 - accuracy: 0.1639 - val_loss: 2.0704 - val_accuracy: 0.1698\n",
            "Epoch 32/110\n",
            "4/4 [==============================] - 0s 13ms/step - loss: 2.0637 - accuracy: 0.1639 - val_loss: 2.0703 - val_accuracy: 0.1698\n",
            "Epoch 33/110\n",
            "4/4 [==============================] - 0s 13ms/step - loss: 2.0635 - accuracy: 0.1639 - val_loss: 2.0702 - val_accuracy: 0.1698\n",
            "Epoch 34/110\n",
            "4/4 [==============================] - 0s 15ms/step - loss: 2.0630 - accuracy: 0.1639 - val_loss: 2.0702 - val_accuracy: 0.1698\n",
            "Epoch 35/110\n",
            "4/4 [==============================] - 0s 14ms/step - loss: 2.0626 - accuracy: 0.1639 - val_loss: 2.0701 - val_accuracy: 0.1698\n",
            "Epoch 36/110\n",
            "4/4 [==============================] - 0s 22ms/step - loss: 2.0621 - accuracy: 0.1639 - val_loss: 2.0699 - val_accuracy: 0.1698\n",
            "Epoch 37/110\n",
            "4/4 [==============================] - 0s 14ms/step - loss: 2.0618 - accuracy: 0.1639 - val_loss: 2.0698 - val_accuracy: 0.1698\n",
            "Epoch 38/110\n",
            "4/4 [==============================] - 0s 15ms/step - loss: 2.0612 - accuracy: 0.1639 - val_loss: 2.0697 - val_accuracy: 0.1698\n",
            "Epoch 39/110\n",
            "4/4 [==============================] - 0s 14ms/step - loss: 2.0608 - accuracy: 0.1639 - val_loss: 2.0696 - val_accuracy: 0.1698\n",
            "Epoch 40/110\n",
            "4/4 [==============================] - 0s 14ms/step - loss: 2.0605 - accuracy: 0.1639 - val_loss: 2.0695 - val_accuracy: 0.1698\n",
            "Epoch 41/110\n",
            "4/4 [==============================] - 0s 14ms/step - loss: 2.0601 - accuracy: 0.1639 - val_loss: 2.0695 - val_accuracy: 0.1698\n",
            "Epoch 42/110\n",
            "4/4 [==============================] - 0s 17ms/step - loss: 2.0596 - accuracy: 0.1639 - val_loss: 2.0693 - val_accuracy: 0.1698\n",
            "Epoch 43/110\n",
            "4/4 [==============================] - 0s 13ms/step - loss: 2.0593 - accuracy: 0.1639 - val_loss: 2.0692 - val_accuracy: 0.1698\n",
            "Epoch 44/110\n",
            "4/4 [==============================] - 0s 18ms/step - loss: 2.0589 - accuracy: 0.1639 - val_loss: 2.0691 - val_accuracy: 0.1698\n",
            "Epoch 45/110\n",
            "4/4 [==============================] - 0s 13ms/step - loss: 2.0585 - accuracy: 0.1639 - val_loss: 2.0690 - val_accuracy: 0.1698\n",
            "Epoch 46/110\n",
            "4/4 [==============================] - 0s 13ms/step - loss: 2.0580 - accuracy: 0.1639 - val_loss: 2.0690 - val_accuracy: 0.1698\n",
            "Epoch 47/110\n",
            "4/4 [==============================] - 0s 13ms/step - loss: 2.0577 - accuracy: 0.1639 - val_loss: 2.0689 - val_accuracy: 0.1698\n",
            "Epoch 48/110\n",
            "4/4 [==============================] - 0s 14ms/step - loss: 2.0573 - accuracy: 0.1639 - val_loss: 2.0687 - val_accuracy: 0.1698\n",
            "Epoch 49/110\n",
            "4/4 [==============================] - 0s 14ms/step - loss: 2.0568 - accuracy: 0.1639 - val_loss: 2.0686 - val_accuracy: 0.1698\n",
            "Epoch 50/110\n",
            "4/4 [==============================] - 0s 14ms/step - loss: 2.0565 - accuracy: 0.1639 - val_loss: 2.0684 - val_accuracy: 0.1698\n",
            "Epoch 51/110\n",
            "4/4 [==============================] - 0s 14ms/step - loss: 2.0561 - accuracy: 0.1639 - val_loss: 2.0684 - val_accuracy: 0.1698\n",
            "Epoch 52/110\n",
            "4/4 [==============================] - 0s 14ms/step - loss: 2.0558 - accuracy: 0.1639 - val_loss: 2.0683 - val_accuracy: 0.1698\n",
            "Epoch 53/110\n",
            "4/4 [==============================] - 0s 18ms/step - loss: 2.0555 - accuracy: 0.1639 - val_loss: 2.0683 - val_accuracy: 0.1698\n",
            "Epoch 54/110\n",
            "4/4 [==============================] - 0s 19ms/step - loss: 2.0550 - accuracy: 0.1639 - val_loss: 2.0681 - val_accuracy: 0.1698\n",
            "Epoch 55/110\n",
            "4/4 [==============================] - 0s 14ms/step - loss: 2.0546 - accuracy: 0.1639 - val_loss: 2.0681 - val_accuracy: 0.1698\n",
            "Epoch 56/110\n",
            "4/4 [==============================] - 0s 14ms/step - loss: 2.0543 - accuracy: 0.1639 - val_loss: 2.0680 - val_accuracy: 0.1698\n",
            "Epoch 57/110\n",
            "4/4 [==============================] - 0s 13ms/step - loss: 2.0540 - accuracy: 0.1639 - val_loss: 2.0679 - val_accuracy: 0.1698\n",
            "Epoch 58/110\n",
            "4/4 [==============================] - 0s 14ms/step - loss: 2.0536 - accuracy: 0.1639 - val_loss: 2.0678 - val_accuracy: 0.1698\n",
            "Epoch 59/110\n",
            "4/4 [==============================] - 0s 14ms/step - loss: 2.0533 - accuracy: 0.1639 - val_loss: 2.0678 - val_accuracy: 0.1698\n",
            "Epoch 60/110\n",
            "4/4 [==============================] - 0s 18ms/step - loss: 2.0530 - accuracy: 0.1639 - val_loss: 2.0677 - val_accuracy: 0.1698\n",
            "Epoch 61/110\n",
            "4/4 [==============================] - 0s 15ms/step - loss: 2.0527 - accuracy: 0.1639 - val_loss: 2.0677 - val_accuracy: 0.1698\n",
            "Epoch 62/110\n",
            "4/4 [==============================] - 0s 15ms/step - loss: 2.0522 - accuracy: 0.1639 - val_loss: 2.0675 - val_accuracy: 0.1698\n",
            "Epoch 63/110\n",
            "4/4 [==============================] - 0s 13ms/step - loss: 2.0519 - accuracy: 0.1639 - val_loss: 2.0674 - val_accuracy: 0.1698\n",
            "Epoch 64/110\n",
            "4/4 [==============================] - 0s 13ms/step - loss: 2.0514 - accuracy: 0.1639 - val_loss: 2.0672 - val_accuracy: 0.1698\n",
            "Epoch 65/110\n",
            "4/4 [==============================] - 0s 14ms/step - loss: 2.0510 - accuracy: 0.1639 - val_loss: 2.0671 - val_accuracy: 0.1698\n",
            "Epoch 66/110\n",
            "4/4 [==============================] - 0s 15ms/step - loss: 2.0507 - accuracy: 0.1639 - val_loss: 2.0670 - val_accuracy: 0.1698\n",
            "Epoch 67/110\n",
            "4/4 [==============================] - 0s 16ms/step - loss: 2.0503 - accuracy: 0.1639 - val_loss: 2.0669 - val_accuracy: 0.1698\n",
            "Epoch 68/110\n",
            "4/4 [==============================] - 0s 13ms/step - loss: 2.0500 - accuracy: 0.1639 - val_loss: 2.0668 - val_accuracy: 0.1698\n",
            "Epoch 69/110\n",
            "4/4 [==============================] - 0s 14ms/step - loss: 2.0497 - accuracy: 0.1639 - val_loss: 2.0667 - val_accuracy: 0.1698\n",
            "Epoch 70/110\n",
            "4/4 [==============================] - 0s 15ms/step - loss: 2.0493 - accuracy: 0.1639 - val_loss: 2.0666 - val_accuracy: 0.1698\n",
            "Epoch 71/110\n",
            "4/4 [==============================] - 0s 13ms/step - loss: 2.0490 - accuracy: 0.1639 - val_loss: 2.0666 - val_accuracy: 0.1698\n",
            "Epoch 72/110\n",
            "4/4 [==============================] - 0s 13ms/step - loss: 2.0487 - accuracy: 0.1639 - val_loss: 2.0665 - val_accuracy: 0.1698\n",
            "Epoch 73/110\n",
            "4/4 [==============================] - 0s 14ms/step - loss: 2.0483 - accuracy: 0.1639 - val_loss: 2.0663 - val_accuracy: 0.1698\n",
            "Epoch 74/110\n",
            "4/4 [==============================] - 0s 14ms/step - loss: 2.0479 - accuracy: 0.1639 - val_loss: 2.0663 - val_accuracy: 0.1698\n",
            "Epoch 75/110\n",
            "4/4 [==============================] - 0s 14ms/step - loss: 2.0476 - accuracy: 0.1639 - val_loss: 2.0663 - val_accuracy: 0.1698\n",
            "Epoch 76/110\n",
            "4/4 [==============================] - 0s 14ms/step - loss: 2.0471 - accuracy: 0.1639 - val_loss: 2.0662 - val_accuracy: 0.1698\n",
            "Epoch 77/110\n",
            "4/4 [==============================] - 0s 13ms/step - loss: 2.0469 - accuracy: 0.1639 - val_loss: 2.0660 - val_accuracy: 0.1698\n",
            "Epoch 78/110\n",
            "4/4 [==============================] - 0s 18ms/step - loss: 2.0464 - accuracy: 0.1639 - val_loss: 2.0660 - val_accuracy: 0.1698\n",
            "Epoch 79/110\n",
            "4/4 [==============================] - 0s 14ms/step - loss: 2.0461 - accuracy: 0.1639 - val_loss: 2.0659 - val_accuracy: 0.1698\n",
            "Epoch 80/110\n",
            "4/4 [==============================] - 0s 17ms/step - loss: 2.0458 - accuracy: 0.1639 - val_loss: 2.0657 - val_accuracy: 0.1698\n",
            "Epoch 81/110\n",
            "4/4 [==============================] - 0s 13ms/step - loss: 2.0453 - accuracy: 0.1639 - val_loss: 2.0655 - val_accuracy: 0.1698\n",
            "Epoch 82/110\n",
            "4/4 [==============================] - 0s 12ms/step - loss: 2.0450 - accuracy: 0.1639 - val_loss: 2.0654 - val_accuracy: 0.1698\n",
            "Epoch 83/110\n",
            "4/4 [==============================] - 0s 12ms/step - loss: 2.0447 - accuracy: 0.1639 - val_loss: 2.0654 - val_accuracy: 0.1698\n",
            "Epoch 84/110\n",
            "4/4 [==============================] - 0s 12ms/step - loss: 2.0442 - accuracy: 0.1639 - val_loss: 2.0652 - val_accuracy: 0.1698\n",
            "Epoch 85/110\n",
            "4/4 [==============================] - 0s 17ms/step - loss: 2.0439 - accuracy: 0.1639 - val_loss: 2.0652 - val_accuracy: 0.1698\n",
            "Epoch 86/110\n",
            "4/4 [==============================] - 0s 13ms/step - loss: 2.0436 - accuracy: 0.1639 - val_loss: 2.0652 - val_accuracy: 0.1698\n",
            "Epoch 87/110\n",
            "4/4 [==============================] - 0s 13ms/step - loss: 2.0433 - accuracy: 0.1639 - val_loss: 2.0649 - val_accuracy: 0.1698\n",
            "Epoch 88/110\n",
            "4/4 [==============================] - 0s 13ms/step - loss: 2.0429 - accuracy: 0.1639 - val_loss: 2.0648 - val_accuracy: 0.1698\n",
            "Epoch 89/110\n",
            "4/4 [==============================] - 0s 12ms/step - loss: 2.0427 - accuracy: 0.1639 - val_loss: 2.0647 - val_accuracy: 0.1698\n",
            "Epoch 90/110\n",
            "4/4 [==============================] - 0s 12ms/step - loss: 2.0422 - accuracy: 0.1639 - val_loss: 2.0646 - val_accuracy: 0.1698\n",
            "Epoch 91/110\n",
            "4/4 [==============================] - 0s 13ms/step - loss: 2.0420 - accuracy: 0.1639 - val_loss: 2.0646 - val_accuracy: 0.1698\n",
            "Epoch 92/110\n",
            "4/4 [==============================] - 0s 14ms/step - loss: 2.0414 - accuracy: 0.1639 - val_loss: 2.0645 - val_accuracy: 0.1698\n",
            "Epoch 93/110\n",
            "4/4 [==============================] - 0s 13ms/step - loss: 2.0412 - accuracy: 0.1639 - val_loss: 2.0643 - val_accuracy: 0.1698\n",
            "Epoch 94/110\n",
            "4/4 [==============================] - 0s 15ms/step - loss: 2.0408 - accuracy: 0.1639 - val_loss: 2.0643 - val_accuracy: 0.1698\n",
            "Epoch 95/110\n",
            "4/4 [==============================] - 0s 14ms/step - loss: 2.0406 - accuracy: 0.1639 - val_loss: 2.0641 - val_accuracy: 0.1698\n",
            "Epoch 96/110\n",
            "4/4 [==============================] - 0s 13ms/step - loss: 2.0401 - accuracy: 0.1639 - val_loss: 2.0640 - val_accuracy: 0.1698\n",
            "Epoch 97/110\n",
            "4/4 [==============================] - 0s 19ms/step - loss: 2.0399 - accuracy: 0.1639 - val_loss: 2.0638 - val_accuracy: 0.1698\n",
            "Epoch 98/110\n",
            "4/4 [==============================] - 0s 12ms/step - loss: 2.0393 - accuracy: 0.1639 - val_loss: 2.0638 - val_accuracy: 0.1698\n",
            "Epoch 99/110\n",
            "4/4 [==============================] - 0s 14ms/step - loss: 2.0390 - accuracy: 0.1639 - val_loss: 2.0636 - val_accuracy: 0.1698\n",
            "Epoch 100/110\n",
            "4/4 [==============================] - 0s 13ms/step - loss: 2.0386 - accuracy: 0.1639 - val_loss: 2.0634 - val_accuracy: 0.1698\n",
            "Epoch 101/110\n",
            "4/4 [==============================] - 0s 13ms/step - loss: 2.0381 - accuracy: 0.1639 - val_loss: 2.0634 - val_accuracy: 0.1698\n",
            "Epoch 102/110\n",
            "4/4 [==============================] - 0s 14ms/step - loss: 2.0378 - accuracy: 0.1639 - val_loss: 2.0633 - val_accuracy: 0.1698\n",
            "Epoch 103/110\n",
            "4/4 [==============================] - 0s 13ms/step - loss: 2.0377 - accuracy: 0.1639 - val_loss: 2.0631 - val_accuracy: 0.1698\n",
            "Epoch 104/110\n",
            "4/4 [==============================] - 0s 13ms/step - loss: 2.0372 - accuracy: 0.1639 - val_loss: 2.0629 - val_accuracy: 0.1698\n",
            "Epoch 105/110\n",
            "4/4 [==============================] - 0s 15ms/step - loss: 2.0370 - accuracy: 0.1639 - val_loss: 2.0627 - val_accuracy: 0.1698\n",
            "Epoch 106/110\n",
            "4/4 [==============================] - 0s 12ms/step - loss: 2.0364 - accuracy: 0.1639 - val_loss: 2.0625 - val_accuracy: 0.1698\n",
            "Epoch 107/110\n",
            "4/4 [==============================] - 0s 15ms/step - loss: 2.0362 - accuracy: 0.1639 - val_loss: 2.0624 - val_accuracy: 0.1698\n",
            "Epoch 108/110\n",
            "4/4 [==============================] - 0s 12ms/step - loss: 2.0357 - accuracy: 0.1639 - val_loss: 2.0622 - val_accuracy: 0.1698\n",
            "Epoch 109/110\n",
            "4/4 [==============================] - 0s 13ms/step - loss: 2.0352 - accuracy: 0.1639 - val_loss: 2.0621 - val_accuracy: 0.1698\n",
            "Epoch 110/110\n",
            "4/4 [==============================] - 0s 13ms/step - loss: 2.0349 - accuracy: 0.1639 - val_loss: 2.0620 - val_accuracy: 0.1698\n"
          ]
        },
        {
          "data": {
            "text/plain": [
              "<keras.callbacks.History at 0x7ffa46e31890>"
            ]
          },
          "execution_count": 66,
          "metadata": {},
          "output_type": "execute_result"
        }
      ]
    },
    {
      "cell_type": "markdown",
      "metadata": {
        "id": "2gnGZ6ab9X-G"
      },
      "source": [
        "* Neural Network with Lemmatized data - RMS prop optimizer"
      ]
    },
    {
      "cell_type": "code",
      "metadata": {
        "colab": {
          "base_uri": "https://localhost:8080/"
        },
        "id": "buDqWUcz9VDL",
        "outputId": "2dbaecce-3972-4b1f-b352-8ff20eeeefc0"
      },
      "source": [
        "NN_L3 = Sequential()\n",
        "NN_L3.add(Dense(200,input_shape=(157,),activation='relu'))\n",
        "NN_L3.add(Dense(150,activation='relu'))\n",
        "NN_L3.add(Dense(100,activation='relu'))\n",
        "NN_L3.add(Dense(50,activation='relu'))\n",
        "NN_L3.add(Dense(25,activation='relu'))\n",
        "NN_L3.add(Dense(8,activation='softmax'))\n",
        "NN_L3.compile(optimizer='rmsprop',loss='categorical_crossentropy',metrics=['accuracy'])\n",
        "NN_L3.fit(X_train_L_tf1,y_train_tc,epochs=110,validation_data=(X_test_L_tf1,y_test_tc))"
      ],
      "execution_count": null,
      "outputs": [
        {
          "name": "stdout",
          "output_type": "stream",
          "text": [
            "Epoch 1/110\n",
            "4/4 [==============================] - 1s 76ms/step - loss: 2.0785 - accuracy: 0.1803 - val_loss: 2.0679 - val_accuracy: 0.1887\n",
            "Epoch 2/110\n",
            "4/4 [==============================] - 0s 14ms/step - loss: 2.0432 - accuracy: 0.3033 - val_loss: 2.0513 - val_accuracy: 0.1509\n",
            "Epoch 3/110\n",
            "4/4 [==============================] - 0s 13ms/step - loss: 1.9838 - accuracy: 0.3770 - val_loss: 2.0003 - val_accuracy: 0.1887\n",
            "Epoch 4/110\n",
            "4/4 [==============================] - 0s 13ms/step - loss: 1.8845 - accuracy: 0.4590 - val_loss: 1.9303 - val_accuracy: 0.2830\n",
            "Epoch 5/110\n",
            "4/4 [==============================] - 0s 13ms/step - loss: 1.7520 - accuracy: 0.5656 - val_loss: 1.8335 - val_accuracy: 0.4528\n",
            "Epoch 6/110\n",
            "4/4 [==============================] - 0s 14ms/step - loss: 1.6287 - accuracy: 0.5410 - val_loss: 1.7647 - val_accuracy: 0.3962\n",
            "Epoch 7/110\n",
            "4/4 [==============================] - 0s 16ms/step - loss: 1.4289 - accuracy: 0.6967 - val_loss: 1.6714 - val_accuracy: 0.4340\n",
            "Epoch 8/110\n",
            "4/4 [==============================] - 0s 14ms/step - loss: 1.2094 - accuracy: 0.7787 - val_loss: 1.5171 - val_accuracy: 0.5472\n",
            "Epoch 9/110\n",
            "4/4 [==============================] - 0s 16ms/step - loss: 0.9731 - accuracy: 0.8934 - val_loss: 1.4362 - val_accuracy: 0.5283\n",
            "Epoch 10/110\n",
            "4/4 [==============================] - 0s 14ms/step - loss: 0.7635 - accuracy: 0.8934 - val_loss: 1.3624 - val_accuracy: 0.5849\n",
            "Epoch 11/110\n",
            "4/4 [==============================] - 0s 20ms/step - loss: 0.5946 - accuracy: 0.9344 - val_loss: 1.2246 - val_accuracy: 0.6604\n",
            "Epoch 12/110\n",
            "4/4 [==============================] - 0s 13ms/step - loss: 0.4156 - accuracy: 0.9836 - val_loss: 1.2210 - val_accuracy: 0.5472\n",
            "Epoch 13/110\n",
            "4/4 [==============================] - 0s 14ms/step - loss: 0.3101 - accuracy: 0.9754 - val_loss: 1.1664 - val_accuracy: 0.6415\n",
            "Epoch 14/110\n",
            "4/4 [==============================] - 0s 15ms/step - loss: 0.2077 - accuracy: 0.9918 - val_loss: 1.2590 - val_accuracy: 0.5472\n",
            "Epoch 15/110\n",
            "4/4 [==============================] - 0s 14ms/step - loss: 0.1780 - accuracy: 0.9918 - val_loss: 1.1636 - val_accuracy: 0.6226\n",
            "Epoch 16/110\n",
            "4/4 [==============================] - 0s 13ms/step - loss: 0.1116 - accuracy: 0.9918 - val_loss: 1.1344 - val_accuracy: 0.6415\n",
            "Epoch 17/110\n",
            "4/4 [==============================] - 0s 13ms/step - loss: 0.0764 - accuracy: 0.9918 - val_loss: 1.1100 - val_accuracy: 0.6415\n",
            "Epoch 18/110\n",
            "4/4 [==============================] - 0s 13ms/step - loss: 0.0853 - accuracy: 0.9918 - val_loss: 1.2228 - val_accuracy: 0.5849\n",
            "Epoch 19/110\n",
            "4/4 [==============================] - 0s 13ms/step - loss: 0.0605 - accuracy: 0.9918 - val_loss: 1.3625 - val_accuracy: 0.5660\n",
            "Epoch 20/110\n",
            "4/4 [==============================] - 0s 15ms/step - loss: 0.0751 - accuracy: 0.9918 - val_loss: 1.1233 - val_accuracy: 0.6604\n",
            "Epoch 21/110\n",
            "4/4 [==============================] - 0s 13ms/step - loss: 0.0418 - accuracy: 0.9918 - val_loss: 1.1552 - val_accuracy: 0.6226\n",
            "Epoch 22/110\n",
            "4/4 [==============================] - 0s 14ms/step - loss: 0.0330 - accuracy: 0.9918 - val_loss: 1.3414 - val_accuracy: 0.6226\n",
            "Epoch 23/110\n",
            "4/4 [==============================] - 0s 13ms/step - loss: 0.0403 - accuracy: 0.9918 - val_loss: 1.1502 - val_accuracy: 0.6792\n",
            "Epoch 24/110\n",
            "4/4 [==============================] - 0s 13ms/step - loss: 0.0327 - accuracy: 0.9918 - val_loss: 1.3562 - val_accuracy: 0.6038\n",
            "Epoch 25/110\n",
            "4/4 [==============================] - 0s 17ms/step - loss: 0.0491 - accuracy: 0.9836 - val_loss: 1.2668 - val_accuracy: 0.6792\n",
            "Epoch 26/110\n",
            "4/4 [==============================] - 0s 14ms/step - loss: 0.0463 - accuracy: 0.9836 - val_loss: 1.1887 - val_accuracy: 0.6604\n",
            "Epoch 27/110\n",
            "4/4 [==============================] - 0s 13ms/step - loss: 0.0384 - accuracy: 0.9836 - val_loss: 1.2882 - val_accuracy: 0.6604\n",
            "Epoch 28/110\n",
            "4/4 [==============================] - 0s 14ms/step - loss: 0.0389 - accuracy: 0.9836 - val_loss: 1.2589 - val_accuracy: 0.6604\n",
            "Epoch 29/110\n",
            "4/4 [==============================] - 0s 13ms/step - loss: 0.0258 - accuracy: 0.9918 - val_loss: 1.2481 - val_accuracy: 0.6981\n",
            "Epoch 30/110\n",
            "4/4 [==============================] - 0s 13ms/step - loss: 0.0227 - accuracy: 0.9918 - val_loss: 1.3707 - val_accuracy: 0.6792\n",
            "Epoch 31/110\n",
            "4/4 [==============================] - 0s 13ms/step - loss: 0.0248 - accuracy: 0.9918 - val_loss: 1.2620 - val_accuracy: 0.6981\n",
            "Epoch 32/110\n",
            "4/4 [==============================] - 0s 14ms/step - loss: 0.0163 - accuracy: 0.9918 - val_loss: 1.2439 - val_accuracy: 0.7170\n",
            "Epoch 33/110\n",
            "4/4 [==============================] - 0s 18ms/step - loss: 0.0369 - accuracy: 0.9836 - val_loss: 1.3972 - val_accuracy: 0.6792\n",
            "Epoch 34/110\n",
            "4/4 [==============================] - 0s 13ms/step - loss: 0.0373 - accuracy: 0.9836 - val_loss: 1.3141 - val_accuracy: 0.6792\n",
            "Epoch 35/110\n",
            "4/4 [==============================] - 0s 13ms/step - loss: 0.0328 - accuracy: 0.9836 - val_loss: 1.2546 - val_accuracy: 0.7358\n",
            "Epoch 36/110\n",
            "4/4 [==============================] - 0s 13ms/step - loss: 0.0167 - accuracy: 0.9918 - val_loss: 1.2684 - val_accuracy: 0.7170\n",
            "Epoch 37/110\n",
            "4/4 [==============================] - 0s 13ms/step - loss: 0.0297 - accuracy: 0.9836 - val_loss: 1.2834 - val_accuracy: 0.7170\n",
            "Epoch 38/110\n",
            "4/4 [==============================] - 0s 13ms/step - loss: 0.0318 - accuracy: 0.9836 - val_loss: 1.3320 - val_accuracy: 0.6792\n",
            "Epoch 39/110\n",
            "4/4 [==============================] - 0s 13ms/step - loss: 0.0287 - accuracy: 0.9836 - val_loss: 1.3608 - val_accuracy: 0.7170\n",
            "Epoch 40/110\n",
            "4/4 [==============================] - 0s 13ms/step - loss: 0.0224 - accuracy: 0.9918 - val_loss: 1.3250 - val_accuracy: 0.7170\n",
            "Epoch 41/110\n",
            "4/4 [==============================] - 0s 13ms/step - loss: 0.0202 - accuracy: 0.9918 - val_loss: 1.3397 - val_accuracy: 0.7170\n",
            "Epoch 42/110\n",
            "4/4 [==============================] - 0s 15ms/step - loss: 0.0213 - accuracy: 0.9918 - val_loss: 1.4791 - val_accuracy: 0.6604\n",
            "Epoch 43/110\n",
            "4/4 [==============================] - 0s 13ms/step - loss: 0.0212 - accuracy: 0.9918 - val_loss: 1.3649 - val_accuracy: 0.7170\n",
            "Epoch 44/110\n",
            "4/4 [==============================] - 0s 14ms/step - loss: 0.0251 - accuracy: 0.9836 - val_loss: 1.3483 - val_accuracy: 0.7170\n",
            "Epoch 45/110\n",
            "4/4 [==============================] - 0s 13ms/step - loss: 0.0248 - accuracy: 0.9836 - val_loss: 1.3460 - val_accuracy: 0.7170\n",
            "Epoch 46/110\n",
            "4/4 [==============================] - 0s 15ms/step - loss: 0.0139 - accuracy: 0.9918 - val_loss: 1.3595 - val_accuracy: 0.7358\n",
            "Epoch 47/110\n",
            "4/4 [==============================] - 0s 14ms/step - loss: 0.0122 - accuracy: 0.9918 - val_loss: 1.3662 - val_accuracy: 0.7170\n",
            "Epoch 48/110\n",
            "4/4 [==============================] - 0s 13ms/step - loss: 0.0274 - accuracy: 0.9836 - val_loss: 1.5813 - val_accuracy: 0.6226\n",
            "Epoch 49/110\n",
            "4/4 [==============================] - 0s 13ms/step - loss: 0.0277 - accuracy: 0.9836 - val_loss: 1.3714 - val_accuracy: 0.7170\n",
            "Epoch 50/110\n",
            "4/4 [==============================] - 0s 13ms/step - loss: 0.0231 - accuracy: 0.9836 - val_loss: 1.3767 - val_accuracy: 0.7170\n",
            "Epoch 51/110\n",
            "4/4 [==============================] - 0s 13ms/step - loss: 0.0192 - accuracy: 0.9918 - val_loss: 1.4382 - val_accuracy: 0.7170\n",
            "Epoch 52/110\n",
            "4/4 [==============================] - 0s 13ms/step - loss: 0.0209 - accuracy: 0.9836 - val_loss: 1.4663 - val_accuracy: 0.6981\n",
            "Epoch 53/110\n",
            "4/4 [==============================] - 0s 17ms/step - loss: 0.0189 - accuracy: 0.9918 - val_loss: 1.3995 - val_accuracy: 0.7358\n",
            "Epoch 54/110\n",
            "4/4 [==============================] - 0s 13ms/step - loss: 0.0123 - accuracy: 0.9918 - val_loss: 1.4432 - val_accuracy: 0.7358\n",
            "Epoch 55/110\n",
            "4/4 [==============================] - 0s 12ms/step - loss: 0.0223 - accuracy: 0.9836 - val_loss: 1.5106 - val_accuracy: 0.6981\n",
            "Epoch 56/110\n",
            "4/4 [==============================] - 0s 13ms/step - loss: 0.0213 - accuracy: 0.9836 - val_loss: 1.6031 - val_accuracy: 0.6981\n",
            "Epoch 57/110\n",
            "4/4 [==============================] - 0s 13ms/step - loss: 0.0148 - accuracy: 0.9918 - val_loss: 1.4717 - val_accuracy: 0.7358\n",
            "Epoch 58/110\n",
            "4/4 [==============================] - 0s 13ms/step - loss: 0.0203 - accuracy: 0.9836 - val_loss: 1.5291 - val_accuracy: 0.7170\n",
            "Epoch 59/110\n",
            "4/4 [==============================] - 0s 15ms/step - loss: 0.0136 - accuracy: 0.9918 - val_loss: 1.5267 - val_accuracy: 0.7170\n",
            "Epoch 60/110\n",
            "4/4 [==============================] - 0s 14ms/step - loss: 0.0117 - accuracy: 0.9918 - val_loss: 1.5384 - val_accuracy: 0.7358\n",
            "Epoch 61/110\n",
            "4/4 [==============================] - 0s 14ms/step - loss: 0.0116 - accuracy: 0.9918 - val_loss: 1.5626 - val_accuracy: 0.7358\n",
            "Epoch 62/110\n",
            "4/4 [==============================] - 0s 16ms/step - loss: 0.0250 - accuracy: 0.9918 - val_loss: 1.7440 - val_accuracy: 0.6604\n",
            "Epoch 63/110\n",
            "4/4 [==============================] - 0s 18ms/step - loss: 0.0207 - accuracy: 0.9836 - val_loss: 1.5343 - val_accuracy: 0.7358\n",
            "Epoch 64/110\n",
            "4/4 [==============================] - 0s 13ms/step - loss: 0.0174 - accuracy: 0.9918 - val_loss: 1.7092 - val_accuracy: 0.6792\n",
            "Epoch 65/110\n",
            "4/4 [==============================] - 0s 13ms/step - loss: 0.0174 - accuracy: 0.9918 - val_loss: 1.5904 - val_accuracy: 0.6981\n",
            "Epoch 66/110\n",
            "4/4 [==============================] - 0s 13ms/step - loss: 0.0121 - accuracy: 0.9918 - val_loss: 1.5820 - val_accuracy: 0.7358\n",
            "Epoch 67/110\n",
            "4/4 [==============================] - 0s 13ms/step - loss: 0.0175 - accuracy: 0.9836 - val_loss: 1.5636 - val_accuracy: 0.7358\n",
            "Epoch 68/110\n",
            "4/4 [==============================] - 0s 13ms/step - loss: 0.0173 - accuracy: 0.9836 - val_loss: 1.5815 - val_accuracy: 0.7358\n",
            "Epoch 69/110\n",
            "4/4 [==============================] - 0s 12ms/step - loss: 0.0171 - accuracy: 0.9918 - val_loss: 1.6584 - val_accuracy: 0.6981\n",
            "Epoch 70/110\n",
            "4/4 [==============================] - 0s 13ms/step - loss: 0.0164 - accuracy: 0.9918 - val_loss: 1.6631 - val_accuracy: 0.6981\n",
            "Epoch 71/110\n",
            "4/4 [==============================] - 0s 17ms/step - loss: 0.0119 - accuracy: 0.9918 - val_loss: 1.6331 - val_accuracy: 0.7358\n",
            "Epoch 72/110\n",
            "4/4 [==============================] - 0s 14ms/step - loss: 0.0177 - accuracy: 0.9918 - val_loss: 1.7965 - val_accuracy: 0.6981\n",
            "Epoch 73/110\n",
            "4/4 [==============================] - 0s 13ms/step - loss: 0.0170 - accuracy: 0.9836 - val_loss: 1.7056 - val_accuracy: 0.6981\n",
            "Epoch 74/110\n",
            "4/4 [==============================] - 0s 14ms/step - loss: 0.0122 - accuracy: 0.9918 - val_loss: 1.6558 - val_accuracy: 0.7358\n",
            "Epoch 75/110\n",
            "4/4 [==============================] - 0s 13ms/step - loss: 0.0170 - accuracy: 0.9918 - val_loss: 1.7173 - val_accuracy: 0.6792\n",
            "Epoch 76/110\n",
            "4/4 [==============================] - 0s 14ms/step - loss: 0.0172 - accuracy: 0.9836 - val_loss: 1.7134 - val_accuracy: 0.7358\n",
            "Epoch 77/110\n",
            "4/4 [==============================] - 0s 13ms/step - loss: 0.0164 - accuracy: 0.9918 - val_loss: 1.8969 - val_accuracy: 0.6792\n",
            "Epoch 78/110\n",
            "4/4 [==============================] - 0s 15ms/step - loss: 0.0164 - accuracy: 0.9918 - val_loss: 1.8011 - val_accuracy: 0.6604\n",
            "Epoch 79/110\n",
            "4/4 [==============================] - 0s 13ms/step - loss: 0.0149 - accuracy: 0.9918 - val_loss: 1.7553 - val_accuracy: 0.7170\n",
            "Epoch 80/110\n",
            "4/4 [==============================] - 0s 15ms/step - loss: 0.0117 - accuracy: 0.9918 - val_loss: 1.7652 - val_accuracy: 0.7170\n",
            "Epoch 81/110\n",
            "4/4 [==============================] - 0s 13ms/step - loss: 0.0156 - accuracy: 0.9918 - val_loss: 1.8466 - val_accuracy: 0.6981\n",
            "Epoch 82/110\n",
            "4/4 [==============================] - 0s 14ms/step - loss: 0.0166 - accuracy: 0.9918 - val_loss: 1.8219 - val_accuracy: 0.6981\n",
            "Epoch 83/110\n",
            "4/4 [==============================] - 0s 15ms/step - loss: 0.0151 - accuracy: 0.9836 - val_loss: 1.8170 - val_accuracy: 0.6604\n",
            "Epoch 84/110\n",
            "4/4 [==============================] - 0s 14ms/step - loss: 0.0154 - accuracy: 0.9918 - val_loss: 1.8727 - val_accuracy: 0.6981\n",
            "Epoch 85/110\n",
            "4/4 [==============================] - 0s 14ms/step - loss: 0.0152 - accuracy: 0.9836 - val_loss: 1.8850 - val_accuracy: 0.6604\n",
            "Epoch 86/110\n",
            "4/4 [==============================] - 0s 13ms/step - loss: 0.0120 - accuracy: 0.9918 - val_loss: 1.8242 - val_accuracy: 0.7170\n",
            "Epoch 87/110\n",
            "4/4 [==============================] - 0s 13ms/step - loss: 0.0153 - accuracy: 0.9836 - val_loss: 1.8990 - val_accuracy: 0.6792\n",
            "Epoch 88/110\n",
            "4/4 [==============================] - 0s 14ms/step - loss: 0.0151 - accuracy: 0.9918 - val_loss: 2.0162 - val_accuracy: 0.6981\n",
            "Epoch 89/110\n",
            "4/4 [==============================] - 0s 14ms/step - loss: 0.0147 - accuracy: 0.9836 - val_loss: 1.9831 - val_accuracy: 0.6981\n",
            "Epoch 90/110\n",
            "4/4 [==============================] - 0s 13ms/step - loss: 0.0149 - accuracy: 0.9918 - val_loss: 1.9631 - val_accuracy: 0.6981\n",
            "Epoch 91/110\n",
            "4/4 [==============================] - 0s 15ms/step - loss: 0.0146 - accuracy: 0.9836 - val_loss: 1.9747 - val_accuracy: 0.6981\n",
            "Epoch 92/110\n",
            "4/4 [==============================] - 0s 14ms/step - loss: 0.0145 - accuracy: 0.9918 - val_loss: 1.9622 - val_accuracy: 0.6981\n",
            "Epoch 93/110\n",
            "4/4 [==============================] - 0s 14ms/step - loss: 0.0143 - accuracy: 0.9836 - val_loss: 2.0134 - val_accuracy: 0.6981\n",
            "Epoch 94/110\n",
            "4/4 [==============================] - 0s 13ms/step - loss: 0.0147 - accuracy: 0.9836 - val_loss: 2.0173 - val_accuracy: 0.6981\n",
            "Epoch 95/110\n",
            "4/4 [==============================] - 0s 13ms/step - loss: 0.0144 - accuracy: 0.9836 - val_loss: 2.0191 - val_accuracy: 0.6981\n",
            "Epoch 96/110\n",
            "4/4 [==============================] - 0s 13ms/step - loss: 0.0118 - accuracy: 0.9918 - val_loss: 2.0123 - val_accuracy: 0.6981\n",
            "Epoch 97/110\n",
            "4/4 [==============================] - 0s 16ms/step - loss: 0.0148 - accuracy: 0.9918 - val_loss: 2.0315 - val_accuracy: 0.6415\n",
            "Epoch 98/110\n",
            "4/4 [==============================] - 0s 16ms/step - loss: 0.0116 - accuracy: 0.9918 - val_loss: 1.9691 - val_accuracy: 0.7170\n",
            "Epoch 99/110\n",
            "4/4 [==============================] - 0s 14ms/step - loss: 0.0153 - accuracy: 0.9836 - val_loss: 2.0332 - val_accuracy: 0.7170\n",
            "Epoch 100/110\n",
            "4/4 [==============================] - 0s 19ms/step - loss: 0.0148 - accuracy: 0.9918 - val_loss: 2.1341 - val_accuracy: 0.6981\n",
            "Epoch 101/110\n",
            "4/4 [==============================] - 0s 17ms/step - loss: 0.0116 - accuracy: 0.9918 - val_loss: 2.0376 - val_accuracy: 0.7170\n",
            "Epoch 102/110\n",
            "4/4 [==============================] - 0s 15ms/step - loss: 0.0115 - accuracy: 0.9918 - val_loss: 2.0688 - val_accuracy: 0.7170\n",
            "Epoch 103/110\n",
            "4/4 [==============================] - 0s 13ms/step - loss: 0.0159 - accuracy: 0.9918 - val_loss: 2.1465 - val_accuracy: 0.6981\n",
            "Epoch 104/110\n",
            "4/4 [==============================] - 0s 14ms/step - loss: 0.0146 - accuracy: 0.9836 - val_loss: 2.1833 - val_accuracy: 0.6792\n",
            "Epoch 105/110\n",
            "4/4 [==============================] - 0s 14ms/step - loss: 0.0142 - accuracy: 0.9836 - val_loss: 2.1310 - val_accuracy: 0.6981\n",
            "Epoch 106/110\n",
            "4/4 [==============================] - 0s 16ms/step - loss: 0.0146 - accuracy: 0.9918 - val_loss: 2.1763 - val_accuracy: 0.6038\n",
            "Epoch 107/110\n",
            "4/4 [==============================] - 0s 14ms/step - loss: 0.0135 - accuracy: 0.9836 - val_loss: 2.1101 - val_accuracy: 0.6415\n",
            "Epoch 108/110\n",
            "4/4 [==============================] - 0s 14ms/step - loss: 0.0117 - accuracy: 0.9918 - val_loss: 2.1240 - val_accuracy: 0.6792\n",
            "Epoch 109/110\n",
            "4/4 [==============================] - 0s 14ms/step - loss: 0.0144 - accuracy: 0.9918 - val_loss: 2.2470 - val_accuracy: 0.6792\n",
            "Epoch 110/110\n",
            "4/4 [==============================] - 0s 18ms/step - loss: 0.0137 - accuracy: 0.9836 - val_loss: 2.1927 - val_accuracy: 0.6981\n"
          ]
        },
        {
          "data": {
            "text/plain": [
              "<keras.callbacks.History at 0x7ffa57614390>"
            ]
          },
          "execution_count": 67,
          "metadata": {},
          "output_type": "execute_result"
        }
      ]
    },
    {
      "cell_type": "markdown",
      "metadata": {
        "id": "kBsWnoX69liR"
      },
      "source": [
        "* We ran Neural Network for the Lemmatized data with Adam, RMSprop and SGD optimizers without any hyperparameter tuning for 100 epochs, we notice that **RMSprop** with better accuracy on validation, we will focus on tweaking this optimizer and tune hyperparameters to get better model"
      ]
    },
    {
      "cell_type": "code",
      "metadata": {
        "colab": {
          "base_uri": "https://localhost:8080/"
        },
        "id": "b_PSX86t_qcj",
        "outputId": "94c33d50-144f-4114-9d95-0943211f8ea0"
      },
      "source": [
        "NN_L3 = Sequential()\n",
        "NN_L3.add(Dense(200,input_shape=(157,),activation='relu'))\n",
        "NN_L3.add(Dropout(0.2))\n",
        "NN_L3.add(Dense(150,activation='relu'))\n",
        "NN_L3.add(Dropout(0.2))\n",
        "NN_L3.add(Dense(100,activation='relu'))\n",
        "NN_L3.add(Dropout(0.2))\n",
        "NN_L3.add(Dense(50,activation='relu'))\n",
        "NN_L3.add(Dropout(0.2))\n",
        "NN_L3.add(Dense(25,activation='relu'))\n",
        "NN_L3.add(Dense(8,activation='softmax'))\n",
        "rms = RMSprop(learning_rate=0.001, rho=0.2, momentum=0.8, epsilon=1e-04)\n",
        "ES=EarlyStopping(monitor='val_accuracy', min_delta=0.001, patience=10)\n",
        "NN_L3.compile(optimizer='rmsprop',loss='categorical_crossentropy',metrics=['accuracy'])\n",
        "NN_L3.fit(X_train_L_tf1,y_train_tc,epochs=500,validation_data=(X_test_L_tf1,y_test_tc))"
      ],
      "execution_count": null,
      "outputs": [
        {
          "name": "stdout",
          "output_type": "stream",
          "text": [
            "Epoch 1/500\n",
            "4/4 [==============================] - 1s 76ms/step - loss: 2.0768 - accuracy: 0.1557 - val_loss: 2.0718 - val_accuracy: 0.2075\n",
            "Epoch 2/500\n",
            "4/4 [==============================] - 0s 12ms/step - loss: 2.0636 - accuracy: 0.2213 - val_loss: 2.0569 - val_accuracy: 0.3585\n",
            "Epoch 3/500\n",
            "4/4 [==============================] - 0s 12ms/step - loss: 2.0518 - accuracy: 0.2705 - val_loss: 2.0468 - val_accuracy: 0.3396\n",
            "Epoch 4/500\n",
            "4/4 [==============================] - 0s 12ms/step - loss: 2.0354 - accuracy: 0.2787 - val_loss: 2.0343 - val_accuracy: 0.3019\n",
            "Epoch 5/500\n",
            "4/4 [==============================] - 0s 15ms/step - loss: 1.9995 - accuracy: 0.3934 - val_loss: 2.0107 - val_accuracy: 0.3396\n",
            "Epoch 6/500\n",
            "4/4 [==============================] - 0s 12ms/step - loss: 1.9649 - accuracy: 0.3689 - val_loss: 1.9789 - val_accuracy: 0.3774\n",
            "Epoch 7/500\n",
            "4/4 [==============================] - 0s 13ms/step - loss: 1.9195 - accuracy: 0.4426 - val_loss: 1.9405 - val_accuracy: 0.3208\n",
            "Epoch 8/500\n",
            "4/4 [==============================] - 0s 13ms/step - loss: 1.8779 - accuracy: 0.4344 - val_loss: 1.8906 - val_accuracy: 0.3585\n",
            "Epoch 9/500\n",
            "4/4 [==============================] - 0s 13ms/step - loss: 1.7626 - accuracy: 0.4836 - val_loss: 1.8446 - val_accuracy: 0.4151\n",
            "Epoch 10/500\n",
            "4/4 [==============================] - 0s 12ms/step - loss: 1.6847 - accuracy: 0.5410 - val_loss: 1.7618 - val_accuracy: 0.4151\n",
            "Epoch 11/500\n",
            "4/4 [==============================] - 0s 15ms/step - loss: 1.6220 - accuracy: 0.4918 - val_loss: 1.7043 - val_accuracy: 0.4528\n",
            "Epoch 12/500\n",
            "4/4 [==============================] - 0s 12ms/step - loss: 1.4850 - accuracy: 0.5574 - val_loss: 1.6136 - val_accuracy: 0.4717\n",
            "Epoch 13/500\n",
            "4/4 [==============================] - 0s 18ms/step - loss: 1.3746 - accuracy: 0.5656 - val_loss: 1.5640 - val_accuracy: 0.4528\n",
            "Epoch 14/500\n",
            "4/4 [==============================] - 0s 13ms/step - loss: 1.2873 - accuracy: 0.6311 - val_loss: 1.4545 - val_accuracy: 0.5660\n",
            "Epoch 15/500\n",
            "4/4 [==============================] - 0s 12ms/step - loss: 1.1996 - accuracy: 0.6721 - val_loss: 1.4035 - val_accuracy: 0.5472\n",
            "Epoch 16/500\n",
            "4/4 [==============================] - 0s 13ms/step - loss: 1.0191 - accuracy: 0.7541 - val_loss: 1.3065 - val_accuracy: 0.5660\n",
            "Epoch 17/500\n",
            "4/4 [==============================] - 0s 12ms/step - loss: 0.9403 - accuracy: 0.7131 - val_loss: 1.2991 - val_accuracy: 0.5094\n",
            "Epoch 18/500\n",
            "4/4 [==============================] - 0s 14ms/step - loss: 0.9107 - accuracy: 0.7131 - val_loss: 1.2897 - val_accuracy: 0.6038\n",
            "Epoch 19/500\n",
            "4/4 [==============================] - 0s 13ms/step - loss: 0.7719 - accuracy: 0.7377 - val_loss: 1.1811 - val_accuracy: 0.5660\n",
            "Epoch 20/500\n",
            "4/4 [==============================] - 0s 13ms/step - loss: 0.6863 - accuracy: 0.8033 - val_loss: 1.1426 - val_accuracy: 0.5660\n",
            "Epoch 21/500\n",
            "4/4 [==============================] - 0s 13ms/step - loss: 0.6080 - accuracy: 0.8115 - val_loss: 1.1140 - val_accuracy: 0.6038\n",
            "Epoch 22/500\n",
            "4/4 [==============================] - 0s 14ms/step - loss: 0.5605 - accuracy: 0.8197 - val_loss: 1.0628 - val_accuracy: 0.6226\n",
            "Epoch 23/500\n",
            "4/4 [==============================] - 0s 14ms/step - loss: 0.5151 - accuracy: 0.8525 - val_loss: 1.0700 - val_accuracy: 0.7170\n",
            "Epoch 24/500\n",
            "4/4 [==============================] - 0s 13ms/step - loss: 0.4946 - accuracy: 0.8607 - val_loss: 1.0051 - val_accuracy: 0.6604\n",
            "Epoch 25/500\n",
            "4/4 [==============================] - 0s 14ms/step - loss: 0.3540 - accuracy: 0.9426 - val_loss: 1.0207 - val_accuracy: 0.7170\n",
            "Epoch 26/500\n",
            "4/4 [==============================] - 0s 19ms/step - loss: 0.3875 - accuracy: 0.9016 - val_loss: 0.9773 - val_accuracy: 0.6604\n",
            "Epoch 27/500\n",
            "4/4 [==============================] - 0s 13ms/step - loss: 0.3367 - accuracy: 0.9344 - val_loss: 0.9715 - val_accuracy: 0.6604\n",
            "Epoch 28/500\n",
            "4/4 [==============================] - 0s 12ms/step - loss: 0.3627 - accuracy: 0.9262 - val_loss: 0.9515 - val_accuracy: 0.6604\n",
            "Epoch 29/500\n",
            "4/4 [==============================] - 0s 13ms/step - loss: 0.3246 - accuracy: 0.9098 - val_loss: 0.9697 - val_accuracy: 0.6415\n",
            "Epoch 30/500\n",
            "4/4 [==============================] - 0s 14ms/step - loss: 0.2808 - accuracy: 0.9426 - val_loss: 0.9821 - val_accuracy: 0.6415\n",
            "Epoch 31/500\n",
            "4/4 [==============================] - 0s 17ms/step - loss: 0.2070 - accuracy: 0.9836 - val_loss: 1.0267 - val_accuracy: 0.6038\n",
            "Epoch 32/500\n",
            "4/4 [==============================] - 0s 13ms/step - loss: 0.2021 - accuracy: 0.9672 - val_loss: 0.9882 - val_accuracy: 0.6226\n",
            "Epoch 33/500\n",
            "4/4 [==============================] - 0s 12ms/step - loss: 0.2137 - accuracy: 0.9508 - val_loss: 0.9898 - val_accuracy: 0.6415\n",
            "Epoch 34/500\n",
            "4/4 [==============================] - 0s 13ms/step - loss: 0.1689 - accuracy: 0.9672 - val_loss: 1.0113 - val_accuracy: 0.6604\n",
            "Epoch 35/500\n",
            "4/4 [==============================] - 0s 14ms/step - loss: 0.1591 - accuracy: 0.9590 - val_loss: 1.0066 - val_accuracy: 0.6415\n",
            "Epoch 36/500\n",
            "4/4 [==============================] - 0s 13ms/step - loss: 0.1886 - accuracy: 0.9426 - val_loss: 0.9638 - val_accuracy: 0.6415\n",
            "Epoch 37/500\n",
            "4/4 [==============================] - 0s 13ms/step - loss: 0.2001 - accuracy: 0.9590 - val_loss: 0.9454 - val_accuracy: 0.6792\n",
            "Epoch 38/500\n",
            "4/4 [==============================] - 0s 13ms/step - loss: 0.1661 - accuracy: 0.9426 - val_loss: 0.9871 - val_accuracy: 0.6792\n",
            "Epoch 39/500\n",
            "4/4 [==============================] - 0s 14ms/step - loss: 0.0985 - accuracy: 0.9836 - val_loss: 1.0209 - val_accuracy: 0.6604\n",
            "Epoch 40/500\n",
            "4/4 [==============================] - 0s 15ms/step - loss: 0.1276 - accuracy: 0.9672 - val_loss: 1.0500 - val_accuracy: 0.6226\n",
            "Epoch 41/500\n",
            "4/4 [==============================] - 0s 17ms/step - loss: 0.0780 - accuracy: 0.9918 - val_loss: 1.0045 - val_accuracy: 0.6604\n",
            "Epoch 42/500\n",
            "4/4 [==============================] - 0s 15ms/step - loss: 0.1000 - accuracy: 0.9672 - val_loss: 1.1619 - val_accuracy: 0.6226\n",
            "Epoch 43/500\n",
            "4/4 [==============================] - 0s 13ms/step - loss: 0.1149 - accuracy: 0.9672 - val_loss: 1.0277 - val_accuracy: 0.6415\n",
            "Epoch 44/500\n",
            "4/4 [==============================] - 0s 15ms/step - loss: 0.0842 - accuracy: 0.9672 - val_loss: 1.0854 - val_accuracy: 0.6038\n",
            "Epoch 45/500\n",
            "4/4 [==============================] - 0s 12ms/step - loss: 0.1174 - accuracy: 0.9754 - val_loss: 1.1253 - val_accuracy: 0.6604\n",
            "Epoch 46/500\n",
            "4/4 [==============================] - 0s 12ms/step - loss: 0.0891 - accuracy: 0.9836 - val_loss: 1.0432 - val_accuracy: 0.6604\n",
            "Epoch 47/500\n",
            "4/4 [==============================] - 0s 12ms/step - loss: 0.1076 - accuracy: 0.9672 - val_loss: 1.0496 - val_accuracy: 0.6415\n",
            "Epoch 48/500\n",
            "4/4 [==============================] - 0s 12ms/step - loss: 0.0962 - accuracy: 0.9754 - val_loss: 1.1079 - val_accuracy: 0.6226\n",
            "Epoch 49/500\n",
            "4/4 [==============================] - 0s 14ms/step - loss: 0.0752 - accuracy: 0.9754 - val_loss: 1.0517 - val_accuracy: 0.6604\n",
            "Epoch 50/500\n",
            "4/4 [==============================] - 0s 15ms/step - loss: 0.0376 - accuracy: 0.9918 - val_loss: 1.0437 - val_accuracy: 0.6415\n",
            "Epoch 51/500\n",
            "4/4 [==============================] - 0s 12ms/step - loss: 0.0468 - accuracy: 0.9918 - val_loss: 1.1017 - val_accuracy: 0.6226\n",
            "Epoch 52/500\n",
            "4/4 [==============================] - 0s 12ms/step - loss: 0.0491 - accuracy: 0.9918 - val_loss: 1.1164 - val_accuracy: 0.6792\n",
            "Epoch 53/500\n",
            "4/4 [==============================] - 0s 12ms/step - loss: 0.1379 - accuracy: 0.9590 - val_loss: 1.0792 - val_accuracy: 0.7170\n",
            "Epoch 54/500\n",
            "4/4 [==============================] - 0s 12ms/step - loss: 0.0270 - accuracy: 1.0000 - val_loss: 1.1492 - val_accuracy: 0.6604\n",
            "Epoch 55/500\n",
            "4/4 [==============================] - 0s 14ms/step - loss: 0.0634 - accuracy: 0.9836 - val_loss: 1.1321 - val_accuracy: 0.7170\n",
            "Epoch 56/500\n",
            "4/4 [==============================] - 0s 14ms/step - loss: 0.0720 - accuracy: 0.9836 - val_loss: 1.1052 - val_accuracy: 0.6415\n",
            "Epoch 57/500\n",
            "4/4 [==============================] - 0s 12ms/step - loss: 0.0505 - accuracy: 0.9754 - val_loss: 1.0907 - val_accuracy: 0.6415\n",
            "Epoch 58/500\n",
            "4/4 [==============================] - 0s 13ms/step - loss: 0.0354 - accuracy: 0.9918 - val_loss: 1.2912 - val_accuracy: 0.6415\n",
            "Epoch 59/500\n",
            "4/4 [==============================] - 0s 12ms/step - loss: 0.0381 - accuracy: 0.9918 - val_loss: 1.2155 - val_accuracy: 0.6792\n",
            "Epoch 60/500\n",
            "4/4 [==============================] - 0s 13ms/step - loss: 0.0415 - accuracy: 0.9918 - val_loss: 1.1970 - val_accuracy: 0.7170\n",
            "Epoch 61/500\n",
            "4/4 [==============================] - 0s 14ms/step - loss: 0.0371 - accuracy: 0.9836 - val_loss: 1.1455 - val_accuracy: 0.6415\n",
            "Epoch 62/500\n",
            "4/4 [==============================] - 0s 12ms/step - loss: 0.0472 - accuracy: 0.9836 - val_loss: 1.1973 - val_accuracy: 0.6981\n",
            "Epoch 63/500\n",
            "4/4 [==============================] - 0s 13ms/step - loss: 0.0627 - accuracy: 0.9836 - val_loss: 1.1723 - val_accuracy: 0.7170\n",
            "Epoch 64/500\n",
            "4/4 [==============================] - 0s 12ms/step - loss: 0.0387 - accuracy: 0.9918 - val_loss: 1.2407 - val_accuracy: 0.7170\n",
            "Epoch 65/500\n",
            "4/4 [==============================] - 0s 13ms/step - loss: 0.0198 - accuracy: 1.0000 - val_loss: 1.2243 - val_accuracy: 0.6415\n",
            "Epoch 66/500\n",
            "4/4 [==============================] - 0s 14ms/step - loss: 0.0357 - accuracy: 0.9836 - val_loss: 1.2396 - val_accuracy: 0.6604\n",
            "Epoch 67/500\n",
            "4/4 [==============================] - 0s 14ms/step - loss: 0.0467 - accuracy: 0.9918 - val_loss: 1.2378 - val_accuracy: 0.7170\n",
            "Epoch 68/500\n",
            "4/4 [==============================] - 0s 14ms/step - loss: 0.0504 - accuracy: 0.9918 - val_loss: 1.1549 - val_accuracy: 0.7170\n",
            "Epoch 69/500\n",
            "4/4 [==============================] - 0s 14ms/step - loss: 0.0223 - accuracy: 0.9918 - val_loss: 1.1506 - val_accuracy: 0.6604\n",
            "Epoch 70/500\n",
            "4/4 [==============================] - 0s 12ms/step - loss: 0.0474 - accuracy: 0.9918 - val_loss: 1.2361 - val_accuracy: 0.6226\n",
            "Epoch 71/500\n",
            "4/4 [==============================] - 0s 13ms/step - loss: 0.0383 - accuracy: 0.9918 - val_loss: 1.2167 - val_accuracy: 0.6415\n",
            "Epoch 72/500\n",
            "4/4 [==============================] - 0s 12ms/step - loss: 0.0366 - accuracy: 0.9918 - val_loss: 1.1904 - val_accuracy: 0.6981\n",
            "Epoch 73/500\n",
            "4/4 [==============================] - 0s 12ms/step - loss: 0.0536 - accuracy: 0.9836 - val_loss: 1.3029 - val_accuracy: 0.6415\n",
            "Epoch 74/500\n",
            "4/4 [==============================] - 0s 13ms/step - loss: 0.0154 - accuracy: 0.9918 - val_loss: 1.3232 - val_accuracy: 0.6981\n",
            "Epoch 75/500\n",
            "4/4 [==============================] - 0s 12ms/step - loss: 0.0354 - accuracy: 0.9836 - val_loss: 1.3189 - val_accuracy: 0.7170\n",
            "Epoch 76/500\n",
            "4/4 [==============================] - 0s 15ms/step - loss: 0.0467 - accuracy: 0.9836 - val_loss: 1.2284 - val_accuracy: 0.6415\n",
            "Epoch 77/500\n",
            "4/4 [==============================] - 0s 15ms/step - loss: 0.0552 - accuracy: 0.9836 - val_loss: 1.2707 - val_accuracy: 0.6604\n",
            "Epoch 78/500\n",
            "4/4 [==============================] - 0s 19ms/step - loss: 0.0201 - accuracy: 0.9918 - val_loss: 1.2504 - val_accuracy: 0.6415\n",
            "Epoch 79/500\n",
            "4/4 [==============================] - 0s 13ms/step - loss: 0.0207 - accuracy: 0.9918 - val_loss: 1.2729 - val_accuracy: 0.6415\n",
            "Epoch 80/500\n",
            "4/4 [==============================] - 0s 13ms/step - loss: 0.0315 - accuracy: 0.9918 - val_loss: 1.2722 - val_accuracy: 0.6604\n",
            "Epoch 81/500\n",
            "4/4 [==============================] - 0s 14ms/step - loss: 0.0280 - accuracy: 0.9836 - val_loss: 1.3293 - val_accuracy: 0.6792\n",
            "Epoch 82/500\n",
            "4/4 [==============================] - 0s 13ms/step - loss: 0.0331 - accuracy: 0.9836 - val_loss: 1.2977 - val_accuracy: 0.6604\n",
            "Epoch 83/500\n",
            "4/4 [==============================] - 0s 12ms/step - loss: 0.0335 - accuracy: 0.9836 - val_loss: 1.2237 - val_accuracy: 0.6792\n",
            "Epoch 84/500\n",
            "4/4 [==============================] - 0s 12ms/step - loss: 0.0198 - accuracy: 0.9918 - val_loss: 1.2437 - val_accuracy: 0.6792\n",
            "Epoch 85/500\n",
            "4/4 [==============================] - 0s 13ms/step - loss: 0.0149 - accuracy: 1.0000 - val_loss: 1.3827 - val_accuracy: 0.6604\n",
            "Epoch 86/500\n",
            "4/4 [==============================] - 0s 13ms/step - loss: 0.0156 - accuracy: 0.9918 - val_loss: 1.4227 - val_accuracy: 0.6792\n",
            "Epoch 87/500\n",
            "4/4 [==============================] - 0s 13ms/step - loss: 0.0233 - accuracy: 0.9836 - val_loss: 1.3160 - val_accuracy: 0.6792\n",
            "Epoch 88/500\n",
            "4/4 [==============================] - 0s 16ms/step - loss: 0.0372 - accuracy: 0.9836 - val_loss: 1.2611 - val_accuracy: 0.6415\n",
            "Epoch 89/500\n",
            "4/4 [==============================] - 0s 15ms/step - loss: 0.0414 - accuracy: 0.9836 - val_loss: 1.2487 - val_accuracy: 0.6981\n",
            "Epoch 90/500\n",
            "4/4 [==============================] - 0s 13ms/step - loss: 0.0480 - accuracy: 0.9836 - val_loss: 1.2601 - val_accuracy: 0.7170\n",
            "Epoch 91/500\n",
            "4/4 [==============================] - 0s 14ms/step - loss: 0.0214 - accuracy: 0.9918 - val_loss: 1.2749 - val_accuracy: 0.6604\n",
            "Epoch 92/500\n",
            "4/4 [==============================] - 0s 13ms/step - loss: 0.0187 - accuracy: 0.9836 - val_loss: 1.2981 - val_accuracy: 0.6604\n",
            "Epoch 93/500\n",
            "4/4 [==============================] - 0s 13ms/step - loss: 0.0297 - accuracy: 0.9836 - val_loss: 1.3541 - val_accuracy: 0.6981\n",
            "Epoch 94/500\n",
            "4/4 [==============================] - 0s 14ms/step - loss: 0.0212 - accuracy: 0.9836 - val_loss: 1.3580 - val_accuracy: 0.6981\n",
            "Epoch 95/500\n",
            "4/4 [==============================] - 0s 13ms/step - loss: 0.0253 - accuracy: 0.9836 - val_loss: 1.3835 - val_accuracy: 0.7170\n",
            "Epoch 96/500\n",
            "4/4 [==============================] - 0s 13ms/step - loss: 0.0214 - accuracy: 0.9836 - val_loss: 1.4728 - val_accuracy: 0.6981\n",
            "Epoch 97/500\n",
            "4/4 [==============================] - 0s 13ms/step - loss: 0.0249 - accuracy: 0.9836 - val_loss: 1.3405 - val_accuracy: 0.6415\n",
            "Epoch 98/500\n",
            "4/4 [==============================] - 0s 13ms/step - loss: 0.0180 - accuracy: 0.9918 - val_loss: 1.5320 - val_accuracy: 0.6981\n",
            "Epoch 99/500\n",
            "4/4 [==============================] - 0s 14ms/step - loss: 0.0362 - accuracy: 0.9836 - val_loss: 1.4121 - val_accuracy: 0.7170\n",
            "Epoch 100/500\n",
            "4/4 [==============================] - 0s 14ms/step - loss: 0.0320 - accuracy: 0.9836 - val_loss: 1.3573 - val_accuracy: 0.7170\n",
            "Epoch 101/500\n",
            "4/4 [==============================] - 0s 13ms/step - loss: 0.0341 - accuracy: 0.9836 - val_loss: 1.4647 - val_accuracy: 0.7170\n",
            "Epoch 102/500\n",
            "4/4 [==============================] - 0s 14ms/step - loss: 0.0196 - accuracy: 0.9836 - val_loss: 1.3997 - val_accuracy: 0.7170\n",
            "Epoch 103/500\n",
            "4/4 [==============================] - 0s 13ms/step - loss: 0.0124 - accuracy: 0.9918 - val_loss: 1.3953 - val_accuracy: 0.7170\n",
            "Epoch 104/500\n",
            "4/4 [==============================] - 0s 13ms/step - loss: 0.0105 - accuracy: 0.9918 - val_loss: 1.3624 - val_accuracy: 0.6981\n",
            "Epoch 105/500\n",
            "4/4 [==============================] - 0s 12ms/step - loss: 0.0081 - accuracy: 1.0000 - val_loss: 1.3851 - val_accuracy: 0.6415\n",
            "Epoch 106/500\n",
            "4/4 [==============================] - 0s 14ms/step - loss: 0.0159 - accuracy: 0.9836 - val_loss: 1.3562 - val_accuracy: 0.6981\n",
            "Epoch 107/500\n",
            "4/4 [==============================] - 0s 14ms/step - loss: 0.0161 - accuracy: 0.9918 - val_loss: 1.4977 - val_accuracy: 0.7170\n",
            "Epoch 108/500\n",
            "4/4 [==============================] - 0s 13ms/step - loss: 0.0227 - accuracy: 0.9918 - val_loss: 1.7753 - val_accuracy: 0.6792\n",
            "Epoch 109/500\n",
            "4/4 [==============================] - 0s 12ms/step - loss: 0.0283 - accuracy: 0.9918 - val_loss: 1.6405 - val_accuracy: 0.7170\n",
            "Epoch 110/500\n",
            "4/4 [==============================] - 0s 13ms/step - loss: 0.0215 - accuracy: 0.9918 - val_loss: 1.5806 - val_accuracy: 0.6792\n",
            "Epoch 111/500\n",
            "4/4 [==============================] - 0s 13ms/step - loss: 0.0151 - accuracy: 0.9918 - val_loss: 1.5506 - val_accuracy: 0.6792\n",
            "Epoch 112/500\n",
            "4/4 [==============================] - 0s 13ms/step - loss: 0.0203 - accuracy: 0.9918 - val_loss: 1.5350 - val_accuracy: 0.6792\n",
            "Epoch 113/500\n",
            "4/4 [==============================] - 0s 15ms/step - loss: 0.0291 - accuracy: 0.9836 - val_loss: 1.6795 - val_accuracy: 0.6415\n",
            "Epoch 114/500\n",
            "4/4 [==============================] - 0s 13ms/step - loss: 0.0108 - accuracy: 0.9918 - val_loss: 1.6836 - val_accuracy: 0.6226\n",
            "Epoch 115/500\n",
            "4/4 [==============================] - 0s 13ms/step - loss: 0.0251 - accuracy: 0.9836 - val_loss: 1.7260 - val_accuracy: 0.6415\n",
            "Epoch 116/500\n",
            "4/4 [==============================] - 0s 13ms/step - loss: 0.0125 - accuracy: 1.0000 - val_loss: 1.6727 - val_accuracy: 0.6415\n",
            "Epoch 117/500\n",
            "4/4 [==============================] - 0s 13ms/step - loss: 0.0272 - accuracy: 0.9918 - val_loss: 1.7692 - val_accuracy: 0.6415\n",
            "Epoch 118/500\n",
            "4/4 [==============================] - 0s 13ms/step - loss: 0.0075 - accuracy: 1.0000 - val_loss: 1.6006 - val_accuracy: 0.6415\n",
            "Epoch 119/500\n",
            "4/4 [==============================] - 0s 18ms/step - loss: 0.0192 - accuracy: 0.9918 - val_loss: 1.6176 - val_accuracy: 0.6981\n",
            "Epoch 120/500\n",
            "4/4 [==============================] - 0s 13ms/step - loss: 0.0097 - accuracy: 0.9918 - val_loss: 1.5430 - val_accuracy: 0.6792\n",
            "Epoch 121/500\n",
            "4/4 [==============================] - 0s 13ms/step - loss: 0.0210 - accuracy: 0.9918 - val_loss: 1.5749 - val_accuracy: 0.7170\n",
            "Epoch 122/500\n",
            "4/4 [==============================] - 0s 14ms/step - loss: 0.0075 - accuracy: 1.0000 - val_loss: 1.5938 - val_accuracy: 0.6981\n",
            "Epoch 123/500\n",
            "4/4 [==============================] - 0s 13ms/step - loss: 0.0312 - accuracy: 0.9836 - val_loss: 1.6305 - val_accuracy: 0.6981\n",
            "Epoch 124/500\n",
            "4/4 [==============================] - 0s 13ms/step - loss: 0.0208 - accuracy: 0.9836 - val_loss: 1.6800 - val_accuracy: 0.6981\n",
            "Epoch 125/500\n",
            "4/4 [==============================] - 0s 17ms/step - loss: 0.0242 - accuracy: 0.9836 - val_loss: 1.6367 - val_accuracy: 0.6415\n",
            "Epoch 126/500\n",
            "4/4 [==============================] - 0s 16ms/step - loss: 0.0183 - accuracy: 0.9918 - val_loss: 1.8411 - val_accuracy: 0.6415\n",
            "Epoch 127/500\n",
            "4/4 [==============================] - 0s 14ms/step - loss: 0.0292 - accuracy: 0.9836 - val_loss: 1.6241 - val_accuracy: 0.6415\n",
            "Epoch 128/500\n",
            "4/4 [==============================] - 0s 14ms/step - loss: 0.0059 - accuracy: 1.0000 - val_loss: 1.6381 - val_accuracy: 0.6604\n",
            "Epoch 129/500\n",
            "4/4 [==============================] - 0s 14ms/step - loss: 0.0220 - accuracy: 0.9918 - val_loss: 1.6517 - val_accuracy: 0.6981\n",
            "Epoch 130/500\n",
            "4/4 [==============================] - 0s 13ms/step - loss: 0.0172 - accuracy: 0.9918 - val_loss: 1.6478 - val_accuracy: 0.6604\n",
            "Epoch 131/500\n",
            "4/4 [==============================] - 0s 14ms/step - loss: 0.0101 - accuracy: 1.0000 - val_loss: 1.5692 - val_accuracy: 0.6981\n",
            "Epoch 132/500\n",
            "4/4 [==============================] - 0s 18ms/step - loss: 0.0085 - accuracy: 1.0000 - val_loss: 1.6903 - val_accuracy: 0.7170\n",
            "Epoch 133/500\n",
            "4/4 [==============================] - 0s 15ms/step - loss: 0.0232 - accuracy: 0.9918 - val_loss: 1.6251 - val_accuracy: 0.7170\n",
            "Epoch 134/500\n",
            "4/4 [==============================] - 0s 13ms/step - loss: 0.0098 - accuracy: 0.9918 - val_loss: 1.6843 - val_accuracy: 0.6981\n",
            "Epoch 135/500\n",
            "4/4 [==============================] - 0s 13ms/step - loss: 0.0305 - accuracy: 0.9836 - val_loss: 1.6492 - val_accuracy: 0.6415\n",
            "Epoch 136/500\n",
            "4/4 [==============================] - 0s 16ms/step - loss: 0.0128 - accuracy: 0.9918 - val_loss: 1.6517 - val_accuracy: 0.6415\n",
            "Epoch 137/500\n",
            "4/4 [==============================] - 0s 13ms/step - loss: 0.0119 - accuracy: 0.9918 - val_loss: 1.6036 - val_accuracy: 0.6415\n",
            "Epoch 138/500\n",
            "4/4 [==============================] - 0s 13ms/step - loss: 0.0350 - accuracy: 0.9836 - val_loss: 1.6767 - val_accuracy: 0.6415\n",
            "Epoch 139/500\n",
            "4/4 [==============================] - 0s 14ms/step - loss: 0.0121 - accuracy: 0.9918 - val_loss: 1.7601 - val_accuracy: 0.6415\n",
            "Epoch 140/500\n",
            "4/4 [==============================] - 0s 14ms/step - loss: 0.0083 - accuracy: 1.0000 - val_loss: 1.6930 - val_accuracy: 0.6415\n",
            "Epoch 141/500\n",
            "4/4 [==============================] - 0s 13ms/step - loss: 0.0243 - accuracy: 0.9836 - val_loss: 1.6192 - val_accuracy: 0.6226\n",
            "Epoch 142/500\n",
            "4/4 [==============================] - 0s 15ms/step - loss: 0.0242 - accuracy: 0.9918 - val_loss: 1.8197 - val_accuracy: 0.6415\n",
            "Epoch 143/500\n",
            "4/4 [==============================] - 0s 15ms/step - loss: 0.0221 - accuracy: 0.9918 - val_loss: 1.6577 - val_accuracy: 0.6604\n",
            "Epoch 144/500\n",
            "4/4 [==============================] - 0s 13ms/step - loss: 0.0146 - accuracy: 0.9918 - val_loss: 1.7366 - val_accuracy: 0.6604\n",
            "Epoch 145/500\n",
            "4/4 [==============================] - 0s 18ms/step - loss: 0.0236 - accuracy: 0.9836 - val_loss: 1.6291 - val_accuracy: 0.6792\n",
            "Epoch 146/500\n",
            "4/4 [==============================] - 0s 13ms/step - loss: 0.0254 - accuracy: 0.9836 - val_loss: 1.6064 - val_accuracy: 0.6792\n",
            "Epoch 147/500\n",
            "4/4 [==============================] - 0s 13ms/step - loss: 0.0159 - accuracy: 0.9918 - val_loss: 1.4847 - val_accuracy: 0.6981\n",
            "Epoch 148/500\n",
            "4/4 [==============================] - 0s 18ms/step - loss: 0.0121 - accuracy: 0.9918 - val_loss: 1.5442 - val_accuracy: 0.6415\n",
            "Epoch 149/500\n",
            "4/4 [==============================] - 0s 15ms/step - loss: 0.0125 - accuracy: 0.9918 - val_loss: 1.5876 - val_accuracy: 0.6604\n",
            "Epoch 150/500\n",
            "4/4 [==============================] - 0s 13ms/step - loss: 0.0204 - accuracy: 0.9918 - val_loss: 1.6669 - val_accuracy: 0.6604\n",
            "Epoch 151/500\n",
            "4/4 [==============================] - 0s 14ms/step - loss: 0.0116 - accuracy: 1.0000 - val_loss: 1.5628 - val_accuracy: 0.6981\n",
            "Epoch 152/500\n",
            "4/4 [==============================] - 0s 13ms/step - loss: 0.0204 - accuracy: 0.9836 - val_loss: 1.6214 - val_accuracy: 0.6415\n",
            "Epoch 153/500\n",
            "4/4 [==============================] - 0s 14ms/step - loss: 0.0126 - accuracy: 0.9918 - val_loss: 1.6836 - val_accuracy: 0.6415\n",
            "Epoch 154/500\n",
            "4/4 [==============================] - 0s 13ms/step - loss: 0.0159 - accuracy: 0.9918 - val_loss: 1.6867 - val_accuracy: 0.6226\n",
            "Epoch 155/500\n",
            "4/4 [==============================] - 0s 14ms/step - loss: 0.0158 - accuracy: 0.9836 - val_loss: 1.7088 - val_accuracy: 0.6415\n",
            "Epoch 156/500\n",
            "4/4 [==============================] - 0s 14ms/step - loss: 0.0201 - accuracy: 0.9836 - val_loss: 1.7026 - val_accuracy: 0.6604\n",
            "Epoch 157/500\n",
            "4/4 [==============================] - 0s 14ms/step - loss: 0.0168 - accuracy: 0.9836 - val_loss: 1.6510 - val_accuracy: 0.6604\n",
            "Epoch 158/500\n",
            "4/4 [==============================] - 0s 14ms/step - loss: 0.0245 - accuracy: 0.9836 - val_loss: 1.7020 - val_accuracy: 0.6604\n",
            "Epoch 159/500\n",
            "4/4 [==============================] - 0s 13ms/step - loss: 0.0203 - accuracy: 0.9836 - val_loss: 1.7165 - val_accuracy: 0.6604\n",
            "Epoch 160/500\n",
            "4/4 [==============================] - 0s 18ms/step - loss: 0.0128 - accuracy: 1.0000 - val_loss: 1.6401 - val_accuracy: 0.7170\n",
            "Epoch 161/500\n",
            "4/4 [==============================] - 0s 14ms/step - loss: 0.0277 - accuracy: 0.9754 - val_loss: 1.7101 - val_accuracy: 0.7170\n",
            "Epoch 162/500\n",
            "4/4 [==============================] - 0s 13ms/step - loss: 0.0134 - accuracy: 1.0000 - val_loss: 1.7919 - val_accuracy: 0.6792\n",
            "Epoch 163/500\n",
            "4/4 [==============================] - 0s 14ms/step - loss: 0.0266 - accuracy: 0.9836 - val_loss: 1.7476 - val_accuracy: 0.6981\n",
            "Epoch 164/500\n",
            "4/4 [==============================] - 0s 13ms/step - loss: 0.0141 - accuracy: 0.9918 - val_loss: 1.7170 - val_accuracy: 0.6981\n",
            "Epoch 165/500\n",
            "4/4 [==============================] - 0s 14ms/step - loss: 0.0125 - accuracy: 0.9918 - val_loss: 1.6614 - val_accuracy: 0.6792\n",
            "Epoch 166/500\n",
            "4/4 [==============================] - 0s 15ms/step - loss: 0.0139 - accuracy: 0.9918 - val_loss: 1.6844 - val_accuracy: 0.6981\n",
            "Epoch 167/500\n",
            "4/4 [==============================] - 0s 13ms/step - loss: 0.0156 - accuracy: 0.9836 - val_loss: 1.6586 - val_accuracy: 0.6981\n",
            "Epoch 168/500\n",
            "4/4 [==============================] - 0s 14ms/step - loss: 0.0112 - accuracy: 1.0000 - val_loss: 1.7008 - val_accuracy: 0.5849\n",
            "Epoch 169/500\n",
            "4/4 [==============================] - 0s 13ms/step - loss: 0.0122 - accuracy: 0.9918 - val_loss: 1.7910 - val_accuracy: 0.6792\n",
            "Epoch 170/500\n",
            "4/4 [==============================] - 0s 14ms/step - loss: 0.0135 - accuracy: 0.9836 - val_loss: 1.7648 - val_accuracy: 0.6981\n",
            "Epoch 171/500\n",
            "4/4 [==============================] - 0s 14ms/step - loss: 0.0174 - accuracy: 0.9918 - val_loss: 1.7436 - val_accuracy: 0.6981\n",
            "Epoch 172/500\n",
            "4/4 [==============================] - 0s 13ms/step - loss: 0.0114 - accuracy: 0.9918 - val_loss: 1.7964 - val_accuracy: 0.6792\n",
            "Epoch 173/500\n",
            "4/4 [==============================] - 0s 17ms/step - loss: 0.0251 - accuracy: 0.9836 - val_loss: 1.7932 - val_accuracy: 0.6981\n",
            "Epoch 174/500\n",
            "4/4 [==============================] - 0s 14ms/step - loss: 0.0140 - accuracy: 0.9918 - val_loss: 1.8173 - val_accuracy: 0.6792\n",
            "Epoch 175/500\n",
            "4/4 [==============================] - 0s 16ms/step - loss: 0.0121 - accuracy: 0.9918 - val_loss: 1.8058 - val_accuracy: 0.6792\n",
            "Epoch 176/500\n",
            "4/4 [==============================] - 0s 14ms/step - loss: 0.0130 - accuracy: 0.9918 - val_loss: 1.8464 - val_accuracy: 0.6792\n",
            "Epoch 177/500\n",
            "4/4 [==============================] - 0s 13ms/step - loss: 0.0130 - accuracy: 1.0000 - val_loss: 1.9140 - val_accuracy: 0.6792\n",
            "Epoch 178/500\n",
            "4/4 [==============================] - 0s 14ms/step - loss: 0.0107 - accuracy: 1.0000 - val_loss: 1.9278 - val_accuracy: 0.6792\n",
            "Epoch 179/500\n",
            "4/4 [==============================] - 0s 15ms/step - loss: 0.0180 - accuracy: 0.9836 - val_loss: 1.9267 - val_accuracy: 0.6226\n",
            "Epoch 180/500\n",
            "4/4 [==============================] - 0s 13ms/step - loss: 0.0184 - accuracy: 0.9918 - val_loss: 1.9413 - val_accuracy: 0.6415\n",
            "Epoch 181/500\n",
            "4/4 [==============================] - 0s 14ms/step - loss: 0.0113 - accuracy: 0.9918 - val_loss: 1.9634 - val_accuracy: 0.6415\n",
            "Epoch 182/500\n",
            "4/4 [==============================] - 0s 14ms/step - loss: 0.0199 - accuracy: 0.9918 - val_loss: 1.9057 - val_accuracy: 0.6226\n",
            "Epoch 183/500\n",
            "4/4 [==============================] - 0s 13ms/step - loss: 0.0264 - accuracy: 0.9836 - val_loss: 2.0293 - val_accuracy: 0.6604\n",
            "Epoch 184/500\n",
            "4/4 [==============================] - 0s 14ms/step - loss: 0.0143 - accuracy: 0.9918 - val_loss: 2.0424 - val_accuracy: 0.6981\n",
            "Epoch 185/500\n",
            "4/4 [==============================] - 0s 13ms/step - loss: 0.0140 - accuracy: 0.9918 - val_loss: 2.0479 - val_accuracy: 0.6604\n",
            "Epoch 186/500\n",
            "4/4 [==============================] - 0s 14ms/step - loss: 0.0151 - accuracy: 0.9918 - val_loss: 1.9069 - val_accuracy: 0.6792\n",
            "Epoch 187/500\n",
            "4/4 [==============================] - 0s 13ms/step - loss: 0.0176 - accuracy: 0.9836 - val_loss: 1.8555 - val_accuracy: 0.6981\n",
            "Epoch 188/500\n",
            "4/4 [==============================] - 0s 13ms/step - loss: 0.0138 - accuracy: 0.9918 - val_loss: 1.9425 - val_accuracy: 0.6981\n",
            "Epoch 189/500\n",
            "4/4 [==============================] - 0s 14ms/step - loss: 0.0148 - accuracy: 0.9918 - val_loss: 1.9017 - val_accuracy: 0.6981\n",
            "Epoch 190/500\n",
            "4/4 [==============================] - 0s 13ms/step - loss: 0.0144 - accuracy: 0.9918 - val_loss: 1.9444 - val_accuracy: 0.6415\n",
            "Epoch 191/500\n",
            "4/4 [==============================] - 0s 13ms/step - loss: 0.0114 - accuracy: 0.9918 - val_loss: 1.9580 - val_accuracy: 0.6226\n",
            "Epoch 192/500\n",
            "4/4 [==============================] - 0s 14ms/step - loss: 0.0153 - accuracy: 0.9918 - val_loss: 2.0038 - val_accuracy: 0.6226\n",
            "Epoch 193/500\n",
            "4/4 [==============================] - 0s 14ms/step - loss: 0.0144 - accuracy: 0.9836 - val_loss: 2.0338 - val_accuracy: 0.6226\n",
            "Epoch 194/500\n",
            "4/4 [==============================] - 0s 13ms/step - loss: 0.0119 - accuracy: 0.9836 - val_loss: 2.0200 - val_accuracy: 0.6226\n",
            "Epoch 195/500\n",
            "4/4 [==============================] - 0s 13ms/step - loss: 0.0093 - accuracy: 1.0000 - val_loss: 2.0544 - val_accuracy: 0.6415\n",
            "Epoch 196/500\n",
            "4/4 [==============================] - 0s 14ms/step - loss: 0.0149 - accuracy: 0.9836 - val_loss: 2.0239 - val_accuracy: 0.6415\n",
            "Epoch 197/500\n",
            "4/4 [==============================] - 0s 16ms/step - loss: 0.0102 - accuracy: 0.9918 - val_loss: 2.0644 - val_accuracy: 0.6415\n",
            "Epoch 198/500\n",
            "4/4 [==============================] - 0s 14ms/step - loss: 0.0154 - accuracy: 0.9836 - val_loss: 2.0015 - val_accuracy: 0.6226\n",
            "Epoch 199/500\n",
            "4/4 [==============================] - 0s 14ms/step - loss: 0.0142 - accuracy: 0.9918 - val_loss: 1.9779 - val_accuracy: 0.6415\n",
            "Epoch 200/500\n",
            "4/4 [==============================] - 0s 15ms/step - loss: 0.0106 - accuracy: 0.9918 - val_loss: 1.9735 - val_accuracy: 0.6792\n",
            "Epoch 201/500\n",
            "4/4 [==============================] - 0s 13ms/step - loss: 0.0125 - accuracy: 0.9918 - val_loss: 1.9466 - val_accuracy: 0.6792\n",
            "Epoch 202/500\n",
            "4/4 [==============================] - 0s 14ms/step - loss: 0.0116 - accuracy: 0.9918 - val_loss: 1.8714 - val_accuracy: 0.6792\n",
            "Epoch 203/500\n",
            "4/4 [==============================] - 0s 14ms/step - loss: 0.0132 - accuracy: 0.9918 - val_loss: 2.1086 - val_accuracy: 0.6226\n",
            "Epoch 204/500\n",
            "4/4 [==============================] - 0s 13ms/step - loss: 0.0179 - accuracy: 0.9918 - val_loss: 2.4182 - val_accuracy: 0.6604\n",
            "Epoch 205/500\n",
            "4/4 [==============================] - 0s 13ms/step - loss: 0.0107 - accuracy: 0.9918 - val_loss: 2.1527 - val_accuracy: 0.6604\n",
            "Epoch 206/500\n",
            "4/4 [==============================] - 0s 18ms/step - loss: 0.0203 - accuracy: 0.9836 - val_loss: 2.2335 - val_accuracy: 0.6226\n",
            "Epoch 207/500\n",
            "4/4 [==============================] - 0s 14ms/step - loss: 0.0105 - accuracy: 1.0000 - val_loss: 2.0795 - val_accuracy: 0.6226\n",
            "Epoch 208/500\n",
            "4/4 [==============================] - 0s 13ms/step - loss: 0.0113 - accuracy: 0.9918 - val_loss: 2.2933 - val_accuracy: 0.6415\n",
            "Epoch 209/500\n",
            "4/4 [==============================] - 0s 14ms/step - loss: 0.0276 - accuracy: 0.9836 - val_loss: 2.3827 - val_accuracy: 0.6415\n",
            "Epoch 210/500\n",
            "4/4 [==============================] - 0s 14ms/step - loss: 0.0116 - accuracy: 0.9918 - val_loss: 2.3289 - val_accuracy: 0.6415\n",
            "Epoch 211/500\n",
            "4/4 [==============================] - 0s 19ms/step - loss: 0.0091 - accuracy: 1.0000 - val_loss: 2.3314 - val_accuracy: 0.6415\n",
            "Epoch 212/500\n",
            "4/4 [==============================] - 0s 13ms/step - loss: 0.0166 - accuracy: 0.9918 - val_loss: 2.3010 - val_accuracy: 0.6415\n",
            "Epoch 213/500\n",
            "4/4 [==============================] - 0s 16ms/step - loss: 0.0170 - accuracy: 0.9918 - val_loss: 2.1777 - val_accuracy: 0.6415\n",
            "Epoch 214/500\n",
            "4/4 [==============================] - 0s 14ms/step - loss: 0.0141 - accuracy: 0.9918 - val_loss: 2.0322 - val_accuracy: 0.6981\n",
            "Epoch 215/500\n",
            "4/4 [==============================] - 0s 14ms/step - loss: 0.0092 - accuracy: 1.0000 - val_loss: 2.0383 - val_accuracy: 0.6981\n",
            "Epoch 216/500\n",
            "4/4 [==============================] - 0s 13ms/step - loss: 0.0093 - accuracy: 1.0000 - val_loss: 2.0910 - val_accuracy: 0.6981\n",
            "Epoch 217/500\n",
            "4/4 [==============================] - 0s 14ms/step - loss: 0.0133 - accuracy: 0.9918 - val_loss: 2.3872 - val_accuracy: 0.6604\n",
            "Epoch 218/500\n",
            "4/4 [==============================] - 0s 14ms/step - loss: 0.0186 - accuracy: 0.9836 - val_loss: 2.2368 - val_accuracy: 0.6604\n",
            "Epoch 219/500\n",
            "4/4 [==============================] - 0s 14ms/step - loss: 0.0115 - accuracy: 0.9918 - val_loss: 2.1068 - val_accuracy: 0.6604\n",
            "Epoch 220/500\n",
            "4/4 [==============================] - 0s 16ms/step - loss: 0.0179 - accuracy: 0.9836 - val_loss: 2.0767 - val_accuracy: 0.6415\n",
            "Epoch 221/500\n",
            "4/4 [==============================] - 0s 14ms/step - loss: 0.0124 - accuracy: 0.9918 - val_loss: 2.1428 - val_accuracy: 0.6604\n",
            "Epoch 222/500\n",
            "4/4 [==============================] - 0s 13ms/step - loss: 0.0127 - accuracy: 0.9836 - val_loss: 2.1844 - val_accuracy: 0.6604\n",
            "Epoch 223/500\n",
            "4/4 [==============================] - 0s 14ms/step - loss: 0.0157 - accuracy: 0.9918 - val_loss: 2.1154 - val_accuracy: 0.6604\n",
            "Epoch 224/500\n",
            "4/4 [==============================] - 0s 14ms/step - loss: 0.0124 - accuracy: 0.9918 - val_loss: 2.2583 - val_accuracy: 0.6226\n",
            "Epoch 225/500\n",
            "4/4 [==============================] - 0s 14ms/step - loss: 0.0201 - accuracy: 0.9836 - val_loss: 2.0788 - val_accuracy: 0.6226\n",
            "Epoch 226/500\n",
            "4/4 [==============================] - 0s 14ms/step - loss: 0.0184 - accuracy: 0.9836 - val_loss: 2.3638 - val_accuracy: 0.6226\n",
            "Epoch 227/500\n",
            "4/4 [==============================] - 0s 15ms/step - loss: 0.0160 - accuracy: 0.9836 - val_loss: 2.2775 - val_accuracy: 0.6226\n",
            "Epoch 228/500\n",
            "4/4 [==============================] - 0s 21ms/step - loss: 0.0166 - accuracy: 0.9836 - val_loss: 2.3502 - val_accuracy: 0.6226\n",
            "Epoch 229/500\n",
            "4/4 [==============================] - 0s 13ms/step - loss: 0.0122 - accuracy: 0.9918 - val_loss: 2.2813 - val_accuracy: 0.6981\n",
            "Epoch 230/500\n",
            "4/4 [==============================] - 0s 18ms/step - loss: 0.0155 - accuracy: 0.9918 - val_loss: 2.3399 - val_accuracy: 0.6226\n",
            "Epoch 231/500\n",
            "4/4 [==============================] - 0s 13ms/step - loss: 0.0116 - accuracy: 0.9918 - val_loss: 2.3020 - val_accuracy: 0.6226\n",
            "Epoch 232/500\n",
            "4/4 [==============================] - 0s 18ms/step - loss: 0.0144 - accuracy: 0.9918 - val_loss: 2.4963 - val_accuracy: 0.6226\n",
            "Epoch 233/500\n",
            "4/4 [==============================] - 0s 16ms/step - loss: 0.0118 - accuracy: 0.9918 - val_loss: 2.3268 - val_accuracy: 0.6226\n",
            "Epoch 234/500\n",
            "4/4 [==============================] - 0s 14ms/step - loss: 0.0099 - accuracy: 0.9918 - val_loss: 2.3739 - val_accuracy: 0.5849\n",
            "Epoch 235/500\n",
            "4/4 [==============================] - 0s 13ms/step - loss: 0.0184 - accuracy: 0.9836 - val_loss: 2.3245 - val_accuracy: 0.6226\n",
            "Epoch 236/500\n",
            "4/4 [==============================] - 0s 14ms/step - loss: 0.0142 - accuracy: 0.9918 - val_loss: 2.2274 - val_accuracy: 0.6226\n",
            "Epoch 237/500\n",
            "4/4 [==============================] - 0s 13ms/step - loss: 0.0079 - accuracy: 1.0000 - val_loss: 2.2663 - val_accuracy: 0.6226\n",
            "Epoch 238/500\n",
            "4/4 [==============================] - 0s 14ms/step - loss: 0.0141 - accuracy: 0.9836 - val_loss: 2.2255 - val_accuracy: 0.6226\n",
            "Epoch 239/500\n",
            "4/4 [==============================] - 0s 15ms/step - loss: 0.0137 - accuracy: 0.9918 - val_loss: 2.2125 - val_accuracy: 0.6792\n",
            "Epoch 240/500\n",
            "4/4 [==============================] - 0s 13ms/step - loss: 0.0110 - accuracy: 0.9918 - val_loss: 2.3117 - val_accuracy: 0.6792\n",
            "Epoch 241/500\n",
            "4/4 [==============================] - 0s 13ms/step - loss: 0.0137 - accuracy: 0.9918 - val_loss: 2.4557 - val_accuracy: 0.6226\n",
            "Epoch 242/500\n",
            "4/4 [==============================] - 0s 13ms/step - loss: 0.0081 - accuracy: 1.0000 - val_loss: 2.7180 - val_accuracy: 0.6226\n",
            "Epoch 243/500\n",
            "4/4 [==============================] - 0s 13ms/step - loss: 0.0114 - accuracy: 0.9918 - val_loss: 2.3798 - val_accuracy: 0.6415\n",
            "Epoch 244/500\n",
            "4/4 [==============================] - 0s 14ms/step - loss: 0.0074 - accuracy: 1.0000 - val_loss: 2.4046 - val_accuracy: 0.6415\n",
            "Epoch 245/500\n",
            "4/4 [==============================] - 0s 13ms/step - loss: 0.0082 - accuracy: 1.0000 - val_loss: 2.3637 - val_accuracy: 0.6226\n",
            "Epoch 246/500\n",
            "4/4 [==============================] - 0s 13ms/step - loss: 0.0123 - accuracy: 0.9836 - val_loss: 2.4431 - val_accuracy: 0.6415\n",
            "Epoch 247/500\n",
            "4/4 [==============================] - 0s 16ms/step - loss: 0.0263 - accuracy: 0.9918 - val_loss: 2.2824 - val_accuracy: 0.6226\n",
            "Epoch 248/500\n",
            "4/4 [==============================] - 0s 14ms/step - loss: 0.0075 - accuracy: 1.0000 - val_loss: 2.2913 - val_accuracy: 0.6226\n",
            "Epoch 249/500\n",
            "4/4 [==============================] - 0s 15ms/step - loss: 0.0218 - accuracy: 0.9918 - val_loss: 2.3309 - val_accuracy: 0.6226\n",
            "Epoch 250/500\n",
            "4/4 [==============================] - 0s 15ms/step - loss: 0.0035 - accuracy: 1.0000 - val_loss: 2.3942 - val_accuracy: 0.6226\n",
            "Epoch 251/500\n",
            "4/4 [==============================] - 0s 13ms/step - loss: 0.0177 - accuracy: 0.9918 - val_loss: 2.3590 - val_accuracy: 0.6226\n",
            "Epoch 252/500\n",
            "4/4 [==============================] - 0s 14ms/step - loss: 0.0198 - accuracy: 0.9836 - val_loss: 2.2758 - val_accuracy: 0.6226\n",
            "Epoch 253/500\n",
            "4/4 [==============================] - 0s 15ms/step - loss: 0.0106 - accuracy: 0.9918 - val_loss: 2.3074 - val_accuracy: 0.6226\n",
            "Epoch 254/500\n",
            "4/4 [==============================] - 0s 15ms/step - loss: 0.0162 - accuracy: 0.9836 - val_loss: 2.5016 - val_accuracy: 0.6226\n",
            "Epoch 255/500\n",
            "4/4 [==============================] - 0s 14ms/step - loss: 0.0091 - accuracy: 1.0000 - val_loss: 2.4497 - val_accuracy: 0.6226\n",
            "Epoch 256/500\n",
            "4/4 [==============================] - 0s 15ms/step - loss: 0.0155 - accuracy: 0.9918 - val_loss: 2.4781 - val_accuracy: 0.6226\n",
            "Epoch 257/500\n",
            "4/4 [==============================] - 0s 14ms/step - loss: 0.0093 - accuracy: 0.9918 - val_loss: 2.5172 - val_accuracy: 0.6226\n",
            "Epoch 258/500\n",
            "4/4 [==============================] - 0s 14ms/step - loss: 0.0123 - accuracy: 0.9918 - val_loss: 2.5777 - val_accuracy: 0.6226\n",
            "Epoch 259/500\n",
            "4/4 [==============================] - 0s 14ms/step - loss: 0.0252 - accuracy: 0.9836 - val_loss: 2.7659 - val_accuracy: 0.6415\n",
            "Epoch 260/500\n",
            "4/4 [==============================] - 0s 14ms/step - loss: 0.0119 - accuracy: 1.0000 - val_loss: 2.5171 - val_accuracy: 0.6038\n",
            "Epoch 261/500\n",
            "4/4 [==============================] - 0s 14ms/step - loss: 0.0139 - accuracy: 0.9918 - val_loss: 2.4112 - val_accuracy: 0.6604\n",
            "Epoch 262/500\n",
            "4/4 [==============================] - 0s 14ms/step - loss: 0.0198 - accuracy: 0.9918 - val_loss: 2.9891 - val_accuracy: 0.6038\n",
            "Epoch 263/500\n",
            "4/4 [==============================] - 0s 15ms/step - loss: 0.0129 - accuracy: 0.9836 - val_loss: 2.8443 - val_accuracy: 0.6038\n",
            "Epoch 264/500\n",
            "4/4 [==============================] - 0s 14ms/step - loss: 0.0090 - accuracy: 0.9918 - val_loss: 2.6444 - val_accuracy: 0.6038\n",
            "Epoch 265/500\n",
            "4/4 [==============================] - 0s 13ms/step - loss: 0.0076 - accuracy: 1.0000 - val_loss: 2.5803 - val_accuracy: 0.5849\n",
            "Epoch 266/500\n",
            "4/4 [==============================] - 0s 14ms/step - loss: 0.0147 - accuracy: 0.9918 - val_loss: 2.6305 - val_accuracy: 0.5849\n",
            "Epoch 267/500\n",
            "4/4 [==============================] - 0s 17ms/step - loss: 0.0140 - accuracy: 0.9836 - val_loss: 2.5363 - val_accuracy: 0.5849\n",
            "Epoch 268/500\n",
            "4/4 [==============================] - 0s 13ms/step - loss: 0.0195 - accuracy: 0.9918 - val_loss: 2.7047 - val_accuracy: 0.5849\n",
            "Epoch 269/500\n",
            "4/4 [==============================] - 0s 16ms/step - loss: 0.0121 - accuracy: 0.9918 - val_loss: 2.5592 - val_accuracy: 0.5849\n",
            "Epoch 270/500\n",
            "4/4 [==============================] - 0s 15ms/step - loss: 0.0100 - accuracy: 0.9918 - val_loss: 2.7258 - val_accuracy: 0.6038\n",
            "Epoch 271/500\n",
            "4/4 [==============================] - 0s 15ms/step - loss: 0.0162 - accuracy: 0.9836 - val_loss: 2.9302 - val_accuracy: 0.6038\n",
            "Epoch 272/500\n",
            "4/4 [==============================] - 0s 15ms/step - loss: 0.0061 - accuracy: 1.0000 - val_loss: 2.6621 - val_accuracy: 0.5849\n",
            "Epoch 273/500\n",
            "4/4 [==============================] - 0s 14ms/step - loss: 0.0133 - accuracy: 0.9918 - val_loss: 3.2749 - val_accuracy: 0.6038\n",
            "Epoch 274/500\n",
            "4/4 [==============================] - 0s 15ms/step - loss: 0.0097 - accuracy: 1.0000 - val_loss: 3.3537 - val_accuracy: 0.5849\n",
            "Epoch 275/500\n",
            "4/4 [==============================] - 0s 15ms/step - loss: 0.0045 - accuracy: 1.0000 - val_loss: 3.3594 - val_accuracy: 0.6038\n",
            "Epoch 276/500\n",
            "4/4 [==============================] - 0s 14ms/step - loss: 0.0225 - accuracy: 0.9836 - val_loss: 3.1987 - val_accuracy: 0.6038\n",
            "Epoch 277/500\n",
            "4/4 [==============================] - 0s 14ms/step - loss: 0.0150 - accuracy: 0.9918 - val_loss: 2.8764 - val_accuracy: 0.5849\n",
            "Epoch 278/500\n",
            "4/4 [==============================] - 0s 15ms/step - loss: 0.0062 - accuracy: 1.0000 - val_loss: 2.7006 - val_accuracy: 0.5849\n",
            "Epoch 279/500\n",
            "4/4 [==============================] - 0s 14ms/step - loss: 0.0207 - accuracy: 0.9836 - val_loss: 2.6537 - val_accuracy: 0.5849\n",
            "Epoch 280/500\n",
            "4/4 [==============================] - 0s 20ms/step - loss: 0.0100 - accuracy: 0.9918 - val_loss: 2.5150 - val_accuracy: 0.5849\n",
            "Epoch 281/500\n",
            "4/4 [==============================] - 0s 18ms/step - loss: 0.0109 - accuracy: 0.9918 - val_loss: 2.3943 - val_accuracy: 0.6981\n",
            "Epoch 282/500\n",
            "4/4 [==============================] - 0s 18ms/step - loss: 0.0167 - accuracy: 0.9836 - val_loss: 2.4221 - val_accuracy: 0.6792\n",
            "Epoch 283/500\n",
            "4/4 [==============================] - 0s 17ms/step - loss: 0.0168 - accuracy: 0.9836 - val_loss: 2.5328 - val_accuracy: 0.6415\n",
            "Epoch 284/500\n",
            "4/4 [==============================] - 0s 14ms/step - loss: 0.0136 - accuracy: 0.9918 - val_loss: 2.9323 - val_accuracy: 0.6415\n",
            "Epoch 285/500\n",
            "4/4 [==============================] - 0s 16ms/step - loss: 0.0181 - accuracy: 0.9836 - val_loss: 2.7386 - val_accuracy: 0.6226\n",
            "Epoch 286/500\n",
            "4/4 [==============================] - 0s 14ms/step - loss: 0.0097 - accuracy: 0.9918 - val_loss: 2.9990 - val_accuracy: 0.5849\n",
            "Epoch 287/500\n",
            "4/4 [==============================] - 0s 14ms/step - loss: 0.0175 - accuracy: 0.9836 - val_loss: 2.9195 - val_accuracy: 0.6226\n",
            "Epoch 288/500\n",
            "4/4 [==============================] - 0s 14ms/step - loss: 0.0167 - accuracy: 0.9836 - val_loss: 2.7431 - val_accuracy: 0.6226\n",
            "Epoch 289/500\n",
            "4/4 [==============================] - 0s 18ms/step - loss: 0.0157 - accuracy: 0.9918 - val_loss: 2.5073 - val_accuracy: 0.6226\n",
            "Epoch 290/500\n",
            "4/4 [==============================] - 0s 15ms/step - loss: 0.0089 - accuracy: 1.0000 - val_loss: 2.4875 - val_accuracy: 0.6415\n",
            "Epoch 291/500\n",
            "4/4 [==============================] - 0s 15ms/step - loss: 0.0153 - accuracy: 0.9836 - val_loss: 2.4941 - val_accuracy: 0.6226\n",
            "Epoch 292/500\n",
            "4/4 [==============================] - 0s 14ms/step - loss: 0.0167 - accuracy: 0.9836 - val_loss: 2.5756 - val_accuracy: 0.6038\n",
            "Epoch 293/500\n",
            "4/4 [==============================] - 0s 18ms/step - loss: 0.0097 - accuracy: 1.0000 - val_loss: 2.5108 - val_accuracy: 0.6415\n",
            "Epoch 294/500\n",
            "4/4 [==============================] - 0s 15ms/step - loss: 0.0124 - accuracy: 0.9918 - val_loss: 2.5412 - val_accuracy: 0.7170\n",
            "Epoch 295/500\n",
            "4/4 [==============================] - 0s 16ms/step - loss: 0.0191 - accuracy: 0.9918 - val_loss: 2.5600 - val_accuracy: 0.6415\n",
            "Epoch 296/500\n",
            "4/4 [==============================] - 0s 14ms/step - loss: 0.0146 - accuracy: 0.9836 - val_loss: 2.7413 - val_accuracy: 0.6604\n",
            "Epoch 297/500\n",
            "4/4 [==============================] - 0s 15ms/step - loss: 0.0111 - accuracy: 0.9918 - val_loss: 2.7039 - val_accuracy: 0.6415\n",
            "Epoch 298/500\n",
            "4/4 [==============================] - 0s 15ms/step - loss: 0.0127 - accuracy: 0.9836 - val_loss: 2.8834 - val_accuracy: 0.6604\n",
            "Epoch 299/500\n",
            "4/4 [==============================] - 0s 17ms/step - loss: 0.0111 - accuracy: 1.0000 - val_loss: 2.9896 - val_accuracy: 0.6604\n",
            "Epoch 300/500\n",
            "4/4 [==============================] - 0s 15ms/step - loss: 0.0097 - accuracy: 1.0000 - val_loss: 2.9539 - val_accuracy: 0.6604\n",
            "Epoch 301/500\n",
            "4/4 [==============================] - 0s 15ms/step - loss: 0.0123 - accuracy: 0.9918 - val_loss: 3.1162 - val_accuracy: 0.6604\n",
            "Epoch 302/500\n",
            "4/4 [==============================] - 0s 15ms/step - loss: 0.0091 - accuracy: 1.0000 - val_loss: 3.0457 - val_accuracy: 0.6604\n",
            "Epoch 303/500\n",
            "4/4 [==============================] - 0s 14ms/step - loss: 0.0115 - accuracy: 0.9918 - val_loss: 2.9752 - val_accuracy: 0.6792\n",
            "Epoch 304/500\n",
            "4/4 [==============================] - 0s 14ms/step - loss: 0.0108 - accuracy: 0.9918 - val_loss: 3.1842 - val_accuracy: 0.6415\n",
            "Epoch 305/500\n",
            "4/4 [==============================] - 0s 13ms/step - loss: 0.0135 - accuracy: 0.9836 - val_loss: 3.1173 - val_accuracy: 0.6415\n",
            "Epoch 306/500\n",
            "4/4 [==============================] - 0s 14ms/step - loss: 0.0117 - accuracy: 0.9918 - val_loss: 2.8839 - val_accuracy: 0.6415\n",
            "Epoch 307/500\n",
            "4/4 [==============================] - 0s 14ms/step - loss: 0.0116 - accuracy: 0.9918 - val_loss: 2.9296 - val_accuracy: 0.6415\n",
            "Epoch 308/500\n",
            "4/4 [==============================] - 0s 16ms/step - loss: 0.0114 - accuracy: 0.9918 - val_loss: 2.9687 - val_accuracy: 0.6415\n",
            "Epoch 309/500\n",
            "4/4 [==============================] - 0s 16ms/step - loss: 0.0150 - accuracy: 0.9918 - val_loss: 2.8756 - val_accuracy: 0.6415\n",
            "Epoch 310/500\n",
            "4/4 [==============================] - 0s 16ms/step - loss: 0.0119 - accuracy: 0.9918 - val_loss: 2.9224 - val_accuracy: 0.6415\n",
            "Epoch 311/500\n",
            "4/4 [==============================] - 0s 14ms/step - loss: 0.0173 - accuracy: 0.9836 - val_loss: 3.0246 - val_accuracy: 0.6604\n",
            "Epoch 312/500\n",
            "4/4 [==============================] - 0s 14ms/step - loss: 0.0168 - accuracy: 0.9836 - val_loss: 3.0275 - val_accuracy: 0.6604\n",
            "Epoch 313/500\n",
            "4/4 [==============================] - 0s 15ms/step - loss: 0.0130 - accuracy: 0.9918 - val_loss: 3.1825 - val_accuracy: 0.6415\n",
            "Epoch 314/500\n",
            "4/4 [==============================] - 0s 15ms/step - loss: 0.0101 - accuracy: 0.9918 - val_loss: 3.2054 - val_accuracy: 0.6415\n",
            "Epoch 315/500\n",
            "4/4 [==============================] - 0s 15ms/step - loss: 0.0124 - accuracy: 0.9918 - val_loss: 3.4442 - val_accuracy: 0.6415\n",
            "Epoch 316/500\n",
            "4/4 [==============================] - 0s 17ms/step - loss: 0.0108 - accuracy: 1.0000 - val_loss: 3.2422 - val_accuracy: 0.6415\n",
            "Epoch 317/500\n",
            "4/4 [==============================] - 0s 14ms/step - loss: 0.0119 - accuracy: 0.9918 - val_loss: 3.2668 - val_accuracy: 0.6415\n",
            "Epoch 318/500\n",
            "4/4 [==============================] - 0s 14ms/step - loss: 0.0145 - accuracy: 0.9836 - val_loss: 2.8936 - val_accuracy: 0.6415\n",
            "Epoch 319/500\n",
            "4/4 [==============================] - 0s 14ms/step - loss: 0.0133 - accuracy: 0.9836 - val_loss: 3.0847 - val_accuracy: 0.6415\n",
            "Epoch 320/500\n",
            "4/4 [==============================] - 0s 15ms/step - loss: 0.0099 - accuracy: 1.0000 - val_loss: 3.1575 - val_accuracy: 0.6226\n",
            "Epoch 321/500\n",
            "4/4 [==============================] - 0s 15ms/step - loss: 0.0133 - accuracy: 0.9918 - val_loss: 2.9203 - val_accuracy: 0.6226\n",
            "Epoch 322/500\n",
            "4/4 [==============================] - 0s 14ms/step - loss: 0.0115 - accuracy: 0.9918 - val_loss: 2.8407 - val_accuracy: 0.6226\n",
            "Epoch 323/500\n",
            "4/4 [==============================] - 0s 16ms/step - loss: 0.0152 - accuracy: 0.9836 - val_loss: 3.0135 - val_accuracy: 0.6226\n",
            "Epoch 324/500\n",
            "4/4 [==============================] - 0s 13ms/step - loss: 0.0109 - accuracy: 0.9918 - val_loss: 3.0904 - val_accuracy: 0.6415\n",
            "Epoch 325/500\n",
            "4/4 [==============================] - 0s 14ms/step - loss: 0.0140 - accuracy: 0.9836 - val_loss: 2.9424 - val_accuracy: 0.6604\n",
            "Epoch 326/500\n",
            "4/4 [==============================] - 0s 14ms/step - loss: 0.0111 - accuracy: 0.9918 - val_loss: 2.9725 - val_accuracy: 0.6415\n",
            "Epoch 327/500\n",
            "4/4 [==============================] - 0s 17ms/step - loss: 0.0125 - accuracy: 0.9918 - val_loss: 2.9569 - val_accuracy: 0.6415\n",
            "Epoch 328/500\n",
            "4/4 [==============================] - 0s 15ms/step - loss: 0.0104 - accuracy: 1.0000 - val_loss: 3.0080 - val_accuracy: 0.6415\n",
            "Epoch 329/500\n",
            "4/4 [==============================] - 0s 14ms/step - loss: 0.0181 - accuracy: 0.9836 - val_loss: 3.1255 - val_accuracy: 0.6226\n",
            "Epoch 330/500\n",
            "4/4 [==============================] - 0s 14ms/step - loss: 0.0118 - accuracy: 0.9836 - val_loss: 3.0121 - val_accuracy: 0.6226\n",
            "Epoch 331/500\n",
            "4/4 [==============================] - 0s 14ms/step - loss: 0.0158 - accuracy: 0.9918 - val_loss: 3.0901 - val_accuracy: 0.6226\n",
            "Epoch 332/500\n",
            "4/4 [==============================] - 0s 17ms/step - loss: 0.0116 - accuracy: 0.9918 - val_loss: 3.1159 - val_accuracy: 0.5849\n",
            "Epoch 333/500\n",
            "4/4 [==============================] - 0s 15ms/step - loss: 0.0097 - accuracy: 1.0000 - val_loss: 3.2233 - val_accuracy: 0.5849\n",
            "Epoch 334/500\n",
            "4/4 [==============================] - 0s 13ms/step - loss: 0.0127 - accuracy: 0.9836 - val_loss: 3.1729 - val_accuracy: 0.5849\n",
            "Epoch 335/500\n",
            "4/4 [==============================] - 0s 21ms/step - loss: 0.0124 - accuracy: 0.9918 - val_loss: 3.1879 - val_accuracy: 0.5849\n",
            "Epoch 336/500\n",
            "4/4 [==============================] - 0s 14ms/step - loss: 0.0125 - accuracy: 1.0000 - val_loss: 3.5806 - val_accuracy: 0.6415\n",
            "Epoch 337/500\n",
            "4/4 [==============================] - 0s 16ms/step - loss: 0.0133 - accuracy: 0.9836 - val_loss: 3.4247 - val_accuracy: 0.6415\n",
            "Epoch 338/500\n",
            "4/4 [==============================] - 0s 14ms/step - loss: 0.0145 - accuracy: 0.9836 - val_loss: 3.3211 - val_accuracy: 0.6604\n",
            "Epoch 339/500\n",
            "4/4 [==============================] - 0s 18ms/step - loss: 0.0168 - accuracy: 0.9836 - val_loss: 2.9295 - val_accuracy: 0.6415\n",
            "Epoch 340/500\n",
            "4/4 [==============================] - 0s 14ms/step - loss: 0.0182 - accuracy: 0.9918 - val_loss: 2.9072 - val_accuracy: 0.6415\n",
            "Epoch 341/500\n",
            "4/4 [==============================] - 0s 19ms/step - loss: 0.0122 - accuracy: 0.9918 - val_loss: 2.9319 - val_accuracy: 0.6415\n",
            "Epoch 342/500\n",
            "4/4 [==============================] - 0s 16ms/step - loss: 0.0125 - accuracy: 0.9918 - val_loss: 2.9675 - val_accuracy: 0.6415\n",
            "Epoch 343/500\n",
            "4/4 [==============================] - 0s 14ms/step - loss: 0.0131 - accuracy: 0.9918 - val_loss: 3.0598 - val_accuracy: 0.6415\n",
            "Epoch 344/500\n",
            "4/4 [==============================] - 0s 15ms/step - loss: 0.0112 - accuracy: 0.9918 - val_loss: 3.1935 - val_accuracy: 0.6415\n",
            "Epoch 345/500\n",
            "4/4 [==============================] - 0s 14ms/step - loss: 0.0123 - accuracy: 0.9918 - val_loss: 3.2828 - val_accuracy: 0.6415\n",
            "Epoch 346/500\n",
            "4/4 [==============================] - 0s 16ms/step - loss: 0.0130 - accuracy: 0.9918 - val_loss: 3.3659 - val_accuracy: 0.6415\n",
            "Epoch 347/500\n",
            "4/4 [==============================] - 0s 14ms/step - loss: 0.0119 - accuracy: 0.9918 - val_loss: 3.3335 - val_accuracy: 0.6415\n",
            "Epoch 348/500\n",
            "4/4 [==============================] - 0s 14ms/step - loss: 0.0126 - accuracy: 0.9836 - val_loss: 3.2917 - val_accuracy: 0.6604\n",
            "Epoch 349/500\n",
            "4/4 [==============================] - 0s 15ms/step - loss: 0.0219 - accuracy: 0.9836 - val_loss: 3.6102 - val_accuracy: 0.6604\n",
            "Epoch 350/500\n",
            "4/4 [==============================] - 0s 15ms/step - loss: 0.0129 - accuracy: 0.9836 - val_loss: 3.6667 - val_accuracy: 0.6604\n",
            "Epoch 351/500\n",
            "4/4 [==============================] - 0s 14ms/step - loss: 0.0116 - accuracy: 0.9918 - val_loss: 3.5702 - val_accuracy: 0.6604\n",
            "Epoch 352/500\n",
            "4/4 [==============================] - 0s 16ms/step - loss: 0.0112 - accuracy: 0.9918 - val_loss: 3.5217 - val_accuracy: 0.6604\n",
            "Epoch 353/500\n",
            "4/4 [==============================] - 0s 14ms/step - loss: 0.0139 - accuracy: 0.9836 - val_loss: 3.5439 - val_accuracy: 0.6604\n",
            "Epoch 354/500\n",
            "4/4 [==============================] - 0s 16ms/step - loss: 0.0142 - accuracy: 0.9836 - val_loss: 3.6510 - val_accuracy: 0.6792\n",
            "Epoch 355/500\n",
            "4/4 [==============================] - 0s 14ms/step - loss: 0.0115 - accuracy: 0.9918 - val_loss: 3.5736 - val_accuracy: 0.6604\n",
            "Epoch 356/500\n",
            "4/4 [==============================] - 0s 13ms/step - loss: 0.0399 - accuracy: 0.9918 - val_loss: 2.9969 - val_accuracy: 0.6226\n",
            "Epoch 357/500\n",
            "4/4 [==============================] - 0s 14ms/step - loss: 0.0135 - accuracy: 0.9836 - val_loss: 3.1454 - val_accuracy: 0.5849\n",
            "Epoch 358/500\n",
            "4/4 [==============================] - 0s 15ms/step - loss: 0.0103 - accuracy: 0.9918 - val_loss: 3.0988 - val_accuracy: 0.5849\n",
            "Epoch 359/500\n",
            "4/4 [==============================] - 0s 14ms/step - loss: 0.0112 - accuracy: 0.9918 - val_loss: 3.0940 - val_accuracy: 0.6038\n",
            "Epoch 360/500\n",
            "4/4 [==============================] - 0s 15ms/step - loss: 0.0144 - accuracy: 0.9836 - val_loss: 3.0446 - val_accuracy: 0.6226\n",
            "Epoch 361/500\n",
            "4/4 [==============================] - 0s 15ms/step - loss: 0.0242 - accuracy: 0.9836 - val_loss: 2.7344 - val_accuracy: 0.6226\n",
            "Epoch 362/500\n",
            "4/4 [==============================] - 0s 14ms/step - loss: 0.0120 - accuracy: 0.9918 - val_loss: 2.7542 - val_accuracy: 0.6226\n",
            "Epoch 363/500\n",
            "4/4 [==============================] - 0s 23ms/step - loss: 0.0114 - accuracy: 0.9918 - val_loss: 2.7756 - val_accuracy: 0.6415\n",
            "Epoch 364/500\n",
            "4/4 [==============================] - 0s 14ms/step - loss: 0.0124 - accuracy: 0.9918 - val_loss: 2.7977 - val_accuracy: 0.6415\n",
            "Epoch 365/500\n",
            "4/4 [==============================] - 0s 18ms/step - loss: 0.0093 - accuracy: 1.0000 - val_loss: 2.7740 - val_accuracy: 0.6415\n",
            "Epoch 366/500\n",
            "4/4 [==============================] - 0s 15ms/step - loss: 0.0115 - accuracy: 0.9918 - val_loss: 2.7788 - val_accuracy: 0.6415\n",
            "Epoch 367/500\n",
            "4/4 [==============================] - 0s 15ms/step - loss: 0.0116 - accuracy: 0.9918 - val_loss: 2.8238 - val_accuracy: 0.6604\n",
            "Epoch 368/500\n",
            "4/4 [==============================] - 0s 16ms/step - loss: 0.0163 - accuracy: 0.9918 - val_loss: 2.8768 - val_accuracy: 0.6415\n",
            "Epoch 369/500\n",
            "4/4 [==============================] - 0s 14ms/step - loss: 0.0126 - accuracy: 0.9836 - val_loss: 2.9851 - val_accuracy: 0.6226\n",
            "Epoch 370/500\n",
            "4/4 [==============================] - 0s 14ms/step - loss: 0.0127 - accuracy: 0.9918 - val_loss: 2.9936 - val_accuracy: 0.6226\n",
            "Epoch 371/500\n",
            "4/4 [==============================] - 0s 16ms/step - loss: 0.0061 - accuracy: 1.0000 - val_loss: 3.2507 - val_accuracy: 0.6415\n",
            "Epoch 372/500\n",
            "4/4 [==============================] - 0s 15ms/step - loss: 0.0105 - accuracy: 1.0000 - val_loss: 3.2359 - val_accuracy: 0.6415\n",
            "Epoch 373/500\n",
            "4/4 [==============================] - 0s 16ms/step - loss: 0.0117 - accuracy: 0.9836 - val_loss: 3.2708 - val_accuracy: 0.6604\n",
            "Epoch 374/500\n",
            "4/4 [==============================] - 0s 14ms/step - loss: 0.0125 - accuracy: 0.9918 - val_loss: 3.3034 - val_accuracy: 0.6604\n",
            "Epoch 375/500\n",
            "4/4 [==============================] - 0s 14ms/step - loss: 0.0124 - accuracy: 0.9918 - val_loss: 3.4149 - val_accuracy: 0.6415\n",
            "Epoch 376/500\n",
            "4/4 [==============================] - 0s 14ms/step - loss: 0.0120 - accuracy: 0.9918 - val_loss: 3.3336 - val_accuracy: 0.6415\n",
            "Epoch 377/500\n",
            "4/4 [==============================] - 0s 14ms/step - loss: 0.0147 - accuracy: 0.9836 - val_loss: 3.3813 - val_accuracy: 0.6415\n",
            "Epoch 378/500\n",
            "4/4 [==============================] - 0s 21ms/step - loss: 0.0147 - accuracy: 0.9836 - val_loss: 3.5608 - val_accuracy: 0.6415\n",
            "Epoch 379/500\n",
            "4/4 [==============================] - 0s 20ms/step - loss: 0.0145 - accuracy: 0.9918 - val_loss: 3.7068 - val_accuracy: 0.6604\n",
            "Epoch 380/500\n",
            "4/4 [==============================] - 0s 14ms/step - loss: 0.0111 - accuracy: 0.9918 - val_loss: 3.6181 - val_accuracy: 0.6604\n",
            "Epoch 381/500\n",
            "4/4 [==============================] - 0s 14ms/step - loss: 0.0151 - accuracy: 0.9836 - val_loss: 3.6331 - val_accuracy: 0.6604\n",
            "Epoch 382/500\n",
            "4/4 [==============================] - 0s 15ms/step - loss: 0.0161 - accuracy: 0.9836 - val_loss: 3.3978 - val_accuracy: 0.6604\n",
            "Epoch 383/500\n",
            "4/4 [==============================] - 0s 16ms/step - loss: 0.0121 - accuracy: 0.9918 - val_loss: 3.4463 - val_accuracy: 0.6604\n",
            "Epoch 384/500\n",
            "4/4 [==============================] - 0s 15ms/step - loss: 0.0132 - accuracy: 0.9836 - val_loss: 3.5424 - val_accuracy: 0.6604\n",
            "Epoch 385/500\n",
            "4/4 [==============================] - 0s 17ms/step - loss: 0.0104 - accuracy: 1.0000 - val_loss: 3.5331 - val_accuracy: 0.6604\n",
            "Epoch 386/500\n",
            "4/4 [==============================] - 0s 14ms/step - loss: 0.0096 - accuracy: 1.0000 - val_loss: 3.3852 - val_accuracy: 0.6415\n",
            "Epoch 387/500\n",
            "4/4 [==============================] - 0s 15ms/step - loss: 0.0132 - accuracy: 0.9836 - val_loss: 3.4973 - val_accuracy: 0.6415\n",
            "Epoch 388/500\n",
            "4/4 [==============================] - 0s 20ms/step - loss: 0.0130 - accuracy: 0.9918 - val_loss: 3.6218 - val_accuracy: 0.6604\n",
            "Epoch 389/500\n",
            "4/4 [==============================] - 0s 15ms/step - loss: 0.0568 - accuracy: 0.9754 - val_loss: 3.6808 - val_accuracy: 0.6604\n",
            "Epoch 390/500\n",
            "4/4 [==============================] - 0s 13ms/step - loss: 0.0107 - accuracy: 1.0000 - val_loss: 3.5932 - val_accuracy: 0.6604\n",
            "Epoch 391/500\n",
            "4/4 [==============================] - 0s 14ms/step - loss: 0.0145 - accuracy: 0.9836 - val_loss: 3.4410 - val_accuracy: 0.6604\n",
            "Epoch 392/500\n",
            "4/4 [==============================] - 0s 15ms/step - loss: 0.0117 - accuracy: 0.9918 - val_loss: 3.5587 - val_accuracy: 0.6604\n",
            "Epoch 393/500\n",
            "4/4 [==============================] - 0s 16ms/step - loss: 0.0148 - accuracy: 0.9918 - val_loss: 3.1883 - val_accuracy: 0.5849\n",
            "Epoch 394/500\n",
            "4/4 [==============================] - 0s 15ms/step - loss: 0.0099 - accuracy: 1.0000 - val_loss: 3.2074 - val_accuracy: 0.5849\n",
            "Epoch 395/500\n",
            "4/4 [==============================] - 0s 14ms/step - loss: 0.0158 - accuracy: 0.9836 - val_loss: 3.1955 - val_accuracy: 0.5849\n",
            "Epoch 396/500\n",
            "4/4 [==============================] - 0s 15ms/step - loss: 0.0116 - accuracy: 0.9918 - val_loss: 3.2006 - val_accuracy: 0.6226\n",
            "Epoch 397/500\n",
            "4/4 [==============================] - 0s 15ms/step - loss: 0.0134 - accuracy: 0.9836 - val_loss: 3.2358 - val_accuracy: 0.6415\n",
            "Epoch 398/500\n",
            "4/4 [==============================] - 0s 14ms/step - loss: 0.0097 - accuracy: 1.0000 - val_loss: 3.1583 - val_accuracy: 0.6226\n",
            "Epoch 399/500\n",
            "4/4 [==============================] - 0s 14ms/step - loss: 0.0128 - accuracy: 0.9918 - val_loss: 3.1427 - val_accuracy: 0.6226\n",
            "Epoch 400/500\n",
            "4/4 [==============================] - 0s 14ms/step - loss: 0.0124 - accuracy: 0.9918 - val_loss: 3.2516 - val_accuracy: 0.6415\n",
            "Epoch 401/500\n",
            "4/4 [==============================] - 0s 14ms/step - loss: 0.0112 - accuracy: 0.9918 - val_loss: 3.2867 - val_accuracy: 0.6415\n",
            "Epoch 402/500\n",
            "4/4 [==============================] - 0s 20ms/step - loss: 0.0137 - accuracy: 0.9836 - val_loss: 3.3403 - val_accuracy: 0.6415\n",
            "Epoch 403/500\n",
            "4/4 [==============================] - 0s 18ms/step - loss: 0.0112 - accuracy: 0.9918 - val_loss: 3.4868 - val_accuracy: 0.6415\n",
            "Epoch 404/500\n",
            "4/4 [==============================] - 0s 15ms/step - loss: 0.0106 - accuracy: 0.9918 - val_loss: 3.6079 - val_accuracy: 0.6415\n",
            "Epoch 405/500\n",
            "4/4 [==============================] - 0s 15ms/step - loss: 0.0115 - accuracy: 0.9918 - val_loss: 3.7746 - val_accuracy: 0.6415\n",
            "Epoch 406/500\n",
            "4/4 [==============================] - 0s 15ms/step - loss: 0.0199 - accuracy: 0.9836 - val_loss: 3.6101 - val_accuracy: 0.6415\n",
            "Epoch 407/500\n",
            "4/4 [==============================] - 0s 15ms/step - loss: 0.0166 - accuracy: 0.9918 - val_loss: 3.3970 - val_accuracy: 0.6604\n",
            "Epoch 408/500\n",
            "4/4 [==============================] - 0s 14ms/step - loss: 0.0123 - accuracy: 0.9918 - val_loss: 3.3801 - val_accuracy: 0.6604\n",
            "Epoch 409/500\n",
            "4/4 [==============================] - 0s 22ms/step - loss: 0.0138 - accuracy: 0.9918 - val_loss: 3.3988 - val_accuracy: 0.6604\n",
            "Epoch 410/500\n",
            "4/4 [==============================] - 0s 14ms/step - loss: 0.0109 - accuracy: 0.9918 - val_loss: 3.3186 - val_accuracy: 0.6415\n",
            "Epoch 411/500\n",
            "4/4 [==============================] - 0s 17ms/step - loss: 0.0110 - accuracy: 1.0000 - val_loss: 3.3655 - val_accuracy: 0.6415\n",
            "Epoch 412/500\n",
            "4/4 [==============================] - 0s 14ms/step - loss: 0.0137 - accuracy: 0.9836 - val_loss: 3.5242 - val_accuracy: 0.6415\n",
            "Epoch 413/500\n",
            "4/4 [==============================] - 0s 14ms/step - loss: 0.0110 - accuracy: 0.9918 - val_loss: 3.6007 - val_accuracy: 0.6415\n",
            "Epoch 414/500\n",
            "4/4 [==============================] - 0s 15ms/step - loss: 0.0099 - accuracy: 1.0000 - val_loss: 3.3576 - val_accuracy: 0.6415\n",
            "Epoch 415/500\n",
            "4/4 [==============================] - 0s 17ms/step - loss: 0.0104 - accuracy: 0.9918 - val_loss: 3.3769 - val_accuracy: 0.6415\n",
            "Epoch 416/500\n",
            "4/4 [==============================] - 0s 15ms/step - loss: 0.0112 - accuracy: 0.9918 - val_loss: 3.3547 - val_accuracy: 0.6415\n",
            "Epoch 417/500\n",
            "4/4 [==============================] - 0s 14ms/step - loss: 0.0154 - accuracy: 0.9836 - val_loss: 3.3090 - val_accuracy: 0.6415\n",
            "Epoch 418/500\n",
            "4/4 [==============================] - 0s 16ms/step - loss: 0.0118 - accuracy: 0.9918 - val_loss: 3.1928 - val_accuracy: 0.6415\n",
            "Epoch 419/500\n",
            "4/4 [==============================] - 0s 14ms/step - loss: 0.0110 - accuracy: 0.9918 - val_loss: 3.3070 - val_accuracy: 0.6415\n",
            "Epoch 420/500\n",
            "4/4 [==============================] - 0s 15ms/step - loss: 0.0131 - accuracy: 0.9836 - val_loss: 3.7200 - val_accuracy: 0.6415\n",
            "Epoch 421/500\n",
            "4/4 [==============================] - 0s 15ms/step - loss: 0.0100 - accuracy: 1.0000 - val_loss: 3.6681 - val_accuracy: 0.6604\n",
            "Epoch 422/500\n",
            "4/4 [==============================] - 0s 14ms/step - loss: 0.0086 - accuracy: 1.0000 - val_loss: 3.4360 - val_accuracy: 0.6604\n",
            "Epoch 423/500\n",
            "4/4 [==============================] - 0s 16ms/step - loss: 0.0107 - accuracy: 1.0000 - val_loss: 3.1616 - val_accuracy: 0.6604\n",
            "Epoch 424/500\n",
            "4/4 [==============================] - 0s 17ms/step - loss: 0.0132 - accuracy: 0.9918 - val_loss: 3.1598 - val_accuracy: 0.6415\n",
            "Epoch 425/500\n",
            "4/4 [==============================] - 0s 18ms/step - loss: 0.0180 - accuracy: 0.9918 - val_loss: 3.3737 - val_accuracy: 0.6415\n",
            "Epoch 426/500\n",
            "4/4 [==============================] - 0s 15ms/step - loss: 0.0201 - accuracy: 0.9836 - val_loss: 3.2686 - val_accuracy: 0.6415\n",
            "Epoch 427/500\n",
            "4/4 [==============================] - 0s 15ms/step - loss: 0.0136 - accuracy: 0.9918 - val_loss: 3.3421 - val_accuracy: 0.6415\n",
            "Epoch 428/500\n",
            "4/4 [==============================] - 0s 14ms/step - loss: 0.0131 - accuracy: 0.9918 - val_loss: 3.2632 - val_accuracy: 0.6415\n",
            "Epoch 429/500\n",
            "4/4 [==============================] - 0s 15ms/step - loss: 0.0146 - accuracy: 0.9918 - val_loss: 3.2057 - val_accuracy: 0.6415\n",
            "Epoch 430/500\n",
            "4/4 [==============================] - 0s 17ms/step - loss: 0.0109 - accuracy: 0.9918 - val_loss: 3.2785 - val_accuracy: 0.6415\n",
            "Epoch 431/500\n",
            "4/4 [==============================] - 0s 15ms/step - loss: 0.0110 - accuracy: 0.9918 - val_loss: 3.3804 - val_accuracy: 0.6415\n",
            "Epoch 432/500\n",
            "4/4 [==============================] - 0s 14ms/step - loss: 0.0123 - accuracy: 0.9836 - val_loss: 3.4543 - val_accuracy: 0.6415\n",
            "Epoch 433/500\n",
            "4/4 [==============================] - 0s 14ms/step - loss: 0.0127 - accuracy: 0.9918 - val_loss: 3.3238 - val_accuracy: 0.6415\n",
            "Epoch 434/500\n",
            "4/4 [==============================] - 0s 15ms/step - loss: 0.0124 - accuracy: 0.9918 - val_loss: 3.4468 - val_accuracy: 0.6415\n",
            "Epoch 435/500\n",
            "4/4 [==============================] - 0s 15ms/step - loss: 0.0117 - accuracy: 0.9836 - val_loss: 3.5500 - val_accuracy: 0.6415\n",
            "Epoch 436/500\n",
            "4/4 [==============================] - 0s 16ms/step - loss: 0.0142 - accuracy: 0.9836 - val_loss: 3.5727 - val_accuracy: 0.6415\n",
            "Epoch 437/500\n",
            "4/4 [==============================] - 0s 15ms/step - loss: 0.0112 - accuracy: 0.9918 - val_loss: 3.6533 - val_accuracy: 0.6415\n",
            "Epoch 438/500\n",
            "4/4 [==============================] - 0s 16ms/step - loss: 0.0107 - accuracy: 1.0000 - val_loss: 3.5244 - val_accuracy: 0.6415\n",
            "Epoch 439/500\n",
            "4/4 [==============================] - 0s 15ms/step - loss: 0.0283 - accuracy: 0.9754 - val_loss: 3.0456 - val_accuracy: 0.6981\n",
            "Epoch 440/500\n",
            "4/4 [==============================] - 0s 16ms/step - loss: 0.0135 - accuracy: 0.9918 - val_loss: 3.0483 - val_accuracy: 0.6981\n",
            "Epoch 441/500\n",
            "4/4 [==============================] - 0s 17ms/step - loss: 0.0163 - accuracy: 0.9836 - val_loss: 3.0689 - val_accuracy: 0.6981\n",
            "Epoch 442/500\n",
            "4/4 [==============================] - 0s 14ms/step - loss: 0.0133 - accuracy: 0.9836 - val_loss: 3.0434 - val_accuracy: 0.6981\n",
            "Epoch 443/500\n",
            "4/4 [==============================] - 0s 15ms/step - loss: 0.0117 - accuracy: 0.9836 - val_loss: 3.0519 - val_accuracy: 0.6981\n",
            "Epoch 444/500\n",
            "4/4 [==============================] - 0s 15ms/step - loss: 0.0141 - accuracy: 0.9918 - val_loss: 3.0000 - val_accuracy: 0.6604\n",
            "Epoch 445/500\n",
            "4/4 [==============================] - 0s 14ms/step - loss: 0.0122 - accuracy: 0.9918 - val_loss: 3.0063 - val_accuracy: 0.6981\n",
            "Epoch 446/500\n",
            "4/4 [==============================] - 0s 15ms/step - loss: 0.0197 - accuracy: 0.9918 - val_loss: 2.8705 - val_accuracy: 0.6604\n",
            "Epoch 447/500\n",
            "4/4 [==============================] - 0s 14ms/step - loss: 0.0153 - accuracy: 0.9836 - val_loss: 2.9191 - val_accuracy: 0.6604\n",
            "Epoch 448/500\n",
            "4/4 [==============================] - 0s 14ms/step - loss: 0.0115 - accuracy: 0.9918 - val_loss: 2.9098 - val_accuracy: 0.6415\n",
            "Epoch 449/500\n",
            "4/4 [==============================] - 0s 16ms/step - loss: 0.0128 - accuracy: 0.9836 - val_loss: 2.8935 - val_accuracy: 0.6604\n",
            "Epoch 450/500\n",
            "4/4 [==============================] - 0s 13ms/step - loss: 0.0124 - accuracy: 0.9918 - val_loss: 3.0567 - val_accuracy: 0.6604\n",
            "Epoch 451/500\n",
            "4/4 [==============================] - 0s 14ms/step - loss: 0.0098 - accuracy: 0.9918 - val_loss: 3.0330 - val_accuracy: 0.6604\n",
            "Epoch 452/500\n",
            "4/4 [==============================] - 0s 14ms/step - loss: 0.0119 - accuracy: 0.9918 - val_loss: 2.9820 - val_accuracy: 0.6792\n",
            "Epoch 453/500\n",
            "4/4 [==============================] - 0s 16ms/step - loss: 0.0130 - accuracy: 0.9836 - val_loss: 3.1344 - val_accuracy: 0.6604\n",
            "Epoch 454/500\n",
            "4/4 [==============================] - 0s 17ms/step - loss: 0.0138 - accuracy: 0.9836 - val_loss: 3.2937 - val_accuracy: 0.6604\n",
            "Epoch 455/500\n",
            "4/4 [==============================] - 0s 14ms/step - loss: 0.0177 - accuracy: 0.9918 - val_loss: 3.3240 - val_accuracy: 0.6604\n",
            "Epoch 456/500\n",
            "4/4 [==============================] - 0s 14ms/step - loss: 0.0123 - accuracy: 0.9918 - val_loss: 3.3669 - val_accuracy: 0.6604\n",
            "Epoch 457/500\n",
            "4/4 [==============================] - 0s 19ms/step - loss: 0.0120 - accuracy: 0.9918 - val_loss: 3.3739 - val_accuracy: 0.6604\n",
            "Epoch 458/500\n",
            "4/4 [==============================] - 0s 20ms/step - loss: 0.0155 - accuracy: 0.9918 - val_loss: 3.4920 - val_accuracy: 0.6604\n",
            "Epoch 459/500\n",
            "4/4 [==============================] - 0s 15ms/step - loss: 0.0143 - accuracy: 0.9836 - val_loss: 3.7684 - val_accuracy: 0.6604\n",
            "Epoch 460/500\n",
            "4/4 [==============================] - 0s 14ms/step - loss: 0.0101 - accuracy: 1.0000 - val_loss: 3.7144 - val_accuracy: 0.6604\n",
            "Epoch 461/500\n",
            "4/4 [==============================] - 0s 14ms/step - loss: 0.0117 - accuracy: 0.9918 - val_loss: 3.7792 - val_accuracy: 0.6604\n",
            "Epoch 462/500\n",
            "4/4 [==============================] - 0s 15ms/step - loss: 0.0123 - accuracy: 0.9836 - val_loss: 3.6967 - val_accuracy: 0.6604\n",
            "Epoch 463/500\n",
            "4/4 [==============================] - 0s 14ms/step - loss: 0.0113 - accuracy: 0.9918 - val_loss: 3.6488 - val_accuracy: 0.6604\n",
            "Epoch 464/500\n",
            "4/4 [==============================] - 0s 16ms/step - loss: 0.0121 - accuracy: 0.9918 - val_loss: 3.1726 - val_accuracy: 0.6792\n",
            "Epoch 465/500\n",
            "4/4 [==============================] - 0s 15ms/step - loss: 0.0170 - accuracy: 0.9836 - val_loss: 3.5630 - val_accuracy: 0.6604\n",
            "Epoch 466/500\n",
            "4/4 [==============================] - 0s 14ms/step - loss: 0.0117 - accuracy: 0.9918 - val_loss: 3.4954 - val_accuracy: 0.6604\n",
            "Epoch 467/500\n",
            "4/4 [==============================] - 0s 14ms/step - loss: 0.0149 - accuracy: 0.9918 - val_loss: 3.5300 - val_accuracy: 0.6604\n",
            "Epoch 468/500\n",
            "4/4 [==============================] - 0s 19ms/step - loss: 0.0132 - accuracy: 0.9836 - val_loss: 3.3959 - val_accuracy: 0.6604\n",
            "Epoch 469/500\n",
            "4/4 [==============================] - 0s 15ms/step - loss: 0.0101 - accuracy: 1.0000 - val_loss: 3.3681 - val_accuracy: 0.6604\n",
            "Epoch 470/500\n",
            "4/4 [==============================] - 0s 15ms/step - loss: 0.0120 - accuracy: 0.9918 - val_loss: 3.4038 - val_accuracy: 0.6604\n",
            "Epoch 471/500\n",
            "4/4 [==============================] - 0s 20ms/step - loss: 0.0183 - accuracy: 0.9836 - val_loss: 4.0458 - val_accuracy: 0.6604\n",
            "Epoch 472/500\n",
            "4/4 [==============================] - 0s 15ms/step - loss: 0.0124 - accuracy: 0.9918 - val_loss: 3.9662 - val_accuracy: 0.6415\n",
            "Epoch 473/500\n",
            "4/4 [==============================] - 0s 15ms/step - loss: 0.0146 - accuracy: 0.9836 - val_loss: 3.8104 - val_accuracy: 0.6604\n",
            "Epoch 474/500\n",
            "4/4 [==============================] - 0s 15ms/step - loss: 0.0119 - accuracy: 0.9918 - val_loss: 3.8680 - val_accuracy: 0.6604\n",
            "Epoch 475/500\n",
            "4/4 [==============================] - 0s 16ms/step - loss: 0.0114 - accuracy: 0.9918 - val_loss: 3.8090 - val_accuracy: 0.6604\n",
            "Epoch 476/500\n",
            "4/4 [==============================] - 0s 16ms/step - loss: 0.0128 - accuracy: 0.9918 - val_loss: 3.8740 - val_accuracy: 0.6604\n",
            "Epoch 477/500\n",
            "4/4 [==============================] - 0s 15ms/step - loss: 0.0113 - accuracy: 0.9918 - val_loss: 3.8348 - val_accuracy: 0.6604\n",
            "Epoch 478/500\n",
            "4/4 [==============================] - 0s 15ms/step - loss: 0.0103 - accuracy: 1.0000 - val_loss: 3.8618 - val_accuracy: 0.6604\n",
            "Epoch 479/500\n",
            "4/4 [==============================] - 0s 16ms/step - loss: 0.0132 - accuracy: 0.9918 - val_loss: 3.8009 - val_accuracy: 0.6604\n",
            "Epoch 480/500\n",
            "4/4 [==============================] - 0s 15ms/step - loss: 0.0118 - accuracy: 0.9918 - val_loss: 3.8464 - val_accuracy: 0.6604\n",
            "Epoch 481/500\n",
            "4/4 [==============================] - 0s 14ms/step - loss: 0.0164 - accuracy: 0.9836 - val_loss: 3.9835 - val_accuracy: 0.6604\n",
            "Epoch 482/500\n",
            "4/4 [==============================] - 0s 15ms/step - loss: 0.0124 - accuracy: 0.9918 - val_loss: 3.9697 - val_accuracy: 0.6604\n",
            "Epoch 483/500\n",
            "4/4 [==============================] - 0s 17ms/step - loss: 0.0117 - accuracy: 0.9918 - val_loss: 3.8268 - val_accuracy: 0.6604\n",
            "Epoch 484/500\n",
            "4/4 [==============================] - 0s 15ms/step - loss: 0.0109 - accuracy: 0.9918 - val_loss: 3.9286 - val_accuracy: 0.6604\n",
            "Epoch 485/500\n",
            "4/4 [==============================] - 0s 20ms/step - loss: 0.0125 - accuracy: 0.9918 - val_loss: 4.0454 - val_accuracy: 0.6604\n",
            "Epoch 486/500\n",
            "4/4 [==============================] - 0s 14ms/step - loss: 0.0117 - accuracy: 0.9918 - val_loss: 4.0476 - val_accuracy: 0.6604\n",
            "Epoch 487/500\n",
            "4/4 [==============================] - 0s 19ms/step - loss: 0.0142 - accuracy: 0.9836 - val_loss: 3.9016 - val_accuracy: 0.6604\n",
            "Epoch 488/500\n",
            "4/4 [==============================] - 0s 15ms/step - loss: 0.0156 - accuracy: 0.9836 - val_loss: 3.4992 - val_accuracy: 0.6604\n",
            "Epoch 489/500\n",
            "4/4 [==============================] - 0s 16ms/step - loss: 0.0099 - accuracy: 1.0000 - val_loss: 3.5975 - val_accuracy: 0.6604\n",
            "Epoch 490/500\n",
            "4/4 [==============================] - 0s 16ms/step - loss: 0.0144 - accuracy: 0.9836 - val_loss: 3.6799 - val_accuracy: 0.6604\n",
            "Epoch 491/500\n",
            "4/4 [==============================] - 0s 15ms/step - loss: 0.0322 - accuracy: 0.9836 - val_loss: 3.4875 - val_accuracy: 0.6604\n",
            "Epoch 492/500\n",
            "4/4 [==============================] - 0s 16ms/step - loss: 0.0154 - accuracy: 0.9836 - val_loss: 3.4825 - val_accuracy: 0.6604\n",
            "Epoch 493/500\n",
            "4/4 [==============================] - 0s 15ms/step - loss: 0.0406 - accuracy: 0.9836 - val_loss: 3.4861 - val_accuracy: 0.6604\n",
            "Epoch 494/500\n",
            "4/4 [==============================] - 0s 16ms/step - loss: 0.0110 - accuracy: 1.0000 - val_loss: 3.4556 - val_accuracy: 0.6604\n",
            "Epoch 495/500\n",
            "4/4 [==============================] - 0s 15ms/step - loss: 0.0125 - accuracy: 0.9918 - val_loss: 3.4632 - val_accuracy: 0.6604\n",
            "Epoch 496/500\n",
            "4/4 [==============================] - 0s 20ms/step - loss: 0.0141 - accuracy: 0.9836 - val_loss: 3.6395 - val_accuracy: 0.6604\n",
            "Epoch 497/500\n",
            "4/4 [==============================] - 0s 18ms/step - loss: 0.0116 - accuracy: 0.9918 - val_loss: 3.6241 - val_accuracy: 0.6604\n",
            "Epoch 498/500\n",
            "4/4 [==============================] - 0s 14ms/step - loss: 0.0109 - accuracy: 0.9918 - val_loss: 3.5788 - val_accuracy: 0.6604\n",
            "Epoch 499/500\n",
            "4/4 [==============================] - 0s 15ms/step - loss: 0.0099 - accuracy: 1.0000 - val_loss: 3.5798 - val_accuracy: 0.6604\n",
            "Epoch 500/500\n",
            "4/4 [==============================] - 0s 14ms/step - loss: 0.0138 - accuracy: 0.9836 - val_loss: 3.5348 - val_accuracy: 0.6604\n"
          ]
        },
        {
          "data": {
            "text/plain": [
              "<keras.callbacks.History at 0x7f95364c7b10>"
            ]
          },
          "execution_count": 107,
          "metadata": {},
          "output_type": "execute_result"
        }
      ]
    },
    {
      "cell_type": "markdown",
      "metadata": {
        "id": "qj9bWUtM-FEB"
      },
      "source": [
        "* Neural Network for Stemmed data with adam optimizer"
      ]
    },
    {
      "cell_type": "code",
      "metadata": {
        "colab": {
          "base_uri": "https://localhost:8080/"
        },
        "id": "u_lSKBcv0PE1",
        "outputId": "883155c7-0532-4ea7-ab76-bacf69f2cafc"
      },
      "source": [
        "NN_s1 = Sequential()\n",
        "NN_s1.add(Dense(200,input_shape=(158,),activation='relu'))\n",
        "NN_s1.add(Dense(150,activation='relu'))\n",
        "NN_s1.add(Dense(100,activation='relu'))\n",
        "NN_s1.add(Dense(50,activation='relu'))\n",
        "NN_s1.add(Dense(25,activation='relu'))\n",
        "NN_s1.add(Dense(8,activation='softmax'))\n",
        "NN_s1.compile(optimizer='adam',loss='categorical_crossentropy',metrics=['accuracy'])\n",
        "NN_s1.fit(X_train_S_tf1,y_train_tc,epochs=100,validation_data=(X_test_S_tf1,y_test_tc))"
      ],
      "execution_count": null,
      "outputs": [
        {
          "name": "stdout",
          "output_type": "stream",
          "text": [
            "Epoch 1/100\n",
            "4/4 [==============================] - 1s 73ms/step - loss: 2.0809 - accuracy: 0.0984 - val_loss: 2.0728 - val_accuracy: 0.1887\n",
            "Epoch 2/100\n",
            "4/4 [==============================] - 0s 15ms/step - loss: 2.0588 - accuracy: 0.2951 - val_loss: 2.0665 - val_accuracy: 0.1321\n",
            "Epoch 3/100\n",
            "4/4 [==============================] - 0s 14ms/step - loss: 2.0382 - accuracy: 0.3361 - val_loss: 2.0538 - val_accuracy: 0.1321\n",
            "Epoch 4/100\n",
            "4/4 [==============================] - 0s 13ms/step - loss: 2.0071 - accuracy: 0.3525 - val_loss: 2.0371 - val_accuracy: 0.1887\n",
            "Epoch 5/100\n",
            "4/4 [==============================] - 0s 15ms/step - loss: 1.9694 - accuracy: 0.3852 - val_loss: 2.0122 - val_accuracy: 0.2264\n",
            "Epoch 6/100\n",
            "4/4 [==============================] - 0s 13ms/step - loss: 1.9079 - accuracy: 0.4590 - val_loss: 1.9755 - val_accuracy: 0.2264\n",
            "Epoch 7/100\n",
            "4/4 [==============================] - 0s 14ms/step - loss: 1.8289 - accuracy: 0.4426 - val_loss: 1.9278 - val_accuracy: 0.2453\n",
            "Epoch 8/100\n",
            "4/4 [==============================] - 0s 12ms/step - loss: 1.7199 - accuracy: 0.5000 - val_loss: 1.8716 - val_accuracy: 0.2642\n",
            "Epoch 9/100\n",
            "4/4 [==============================] - 0s 13ms/step - loss: 1.5752 - accuracy: 0.5492 - val_loss: 1.8002 - val_accuracy: 0.2830\n",
            "Epoch 10/100\n",
            "4/4 [==============================] - 0s 12ms/step - loss: 1.4059 - accuracy: 0.6066 - val_loss: 1.7190 - val_accuracy: 0.3396\n",
            "Epoch 11/100\n",
            "4/4 [==============================] - 0s 12ms/step - loss: 1.2067 - accuracy: 0.7213 - val_loss: 1.6157 - val_accuracy: 0.4151\n",
            "Epoch 12/100\n",
            "4/4 [==============================] - 0s 12ms/step - loss: 0.9867 - accuracy: 0.7787 - val_loss: 1.5124 - val_accuracy: 0.5094\n",
            "Epoch 13/100\n",
            "4/4 [==============================] - 0s 13ms/step - loss: 0.7795 - accuracy: 0.8443 - val_loss: 1.3959 - val_accuracy: 0.5660\n",
            "Epoch 14/100\n",
            "4/4 [==============================] - 0s 12ms/step - loss: 0.5731 - accuracy: 0.8852 - val_loss: 1.2995 - val_accuracy: 0.5094\n",
            "Epoch 15/100\n",
            "4/4 [==============================] - 0s 12ms/step - loss: 0.3942 - accuracy: 0.8934 - val_loss: 1.2261 - val_accuracy: 0.5660\n",
            "Epoch 16/100\n",
            "4/4 [==============================] - 0s 14ms/step - loss: 0.2721 - accuracy: 0.9098 - val_loss: 1.1739 - val_accuracy: 0.5849\n",
            "Epoch 17/100\n",
            "4/4 [==============================] - 0s 13ms/step - loss: 0.1813 - accuracy: 0.9672 - val_loss: 1.1328 - val_accuracy: 0.6981\n",
            "Epoch 18/100\n",
            "4/4 [==============================] - 0s 14ms/step - loss: 0.1242 - accuracy: 0.9754 - val_loss: 1.1209 - val_accuracy: 0.6981\n",
            "Epoch 19/100\n",
            "4/4 [==============================] - 0s 12ms/step - loss: 0.0849 - accuracy: 0.9918 - val_loss: 1.1167 - val_accuracy: 0.6792\n",
            "Epoch 20/100\n",
            "4/4 [==============================] - 0s 13ms/step - loss: 0.0538 - accuracy: 0.9918 - val_loss: 1.1420 - val_accuracy: 0.6792\n",
            "Epoch 21/100\n",
            "4/4 [==============================] - 0s 13ms/step - loss: 0.0482 - accuracy: 0.9918 - val_loss: 1.1541 - val_accuracy: 0.6604\n",
            "Epoch 22/100\n",
            "4/4 [==============================] - 0s 13ms/step - loss: 0.0270 - accuracy: 0.9918 - val_loss: 1.1581 - val_accuracy: 0.6604\n",
            "Epoch 23/100\n",
            "4/4 [==============================] - 0s 13ms/step - loss: 0.0299 - accuracy: 0.9918 - val_loss: 1.1703 - val_accuracy: 0.6981\n",
            "Epoch 24/100\n",
            "4/4 [==============================] - 0s 16ms/step - loss: 0.0206 - accuracy: 0.9918 - val_loss: 1.1911 - val_accuracy: 0.6792\n",
            "Epoch 25/100\n",
            "4/4 [==============================] - 0s 14ms/step - loss: 0.0188 - accuracy: 0.9836 - val_loss: 1.1961 - val_accuracy: 0.6981\n",
            "Epoch 26/100\n",
            "4/4 [==============================] - 0s 14ms/step - loss: 0.0204 - accuracy: 0.9918 - val_loss: 1.1977 - val_accuracy: 0.6981\n",
            "Epoch 27/100\n",
            "4/4 [==============================] - 0s 19ms/step - loss: 0.0241 - accuracy: 0.9918 - val_loss: 1.1850 - val_accuracy: 0.6792\n",
            "Epoch 28/100\n",
            "4/4 [==============================] - 0s 13ms/step - loss: 0.0144 - accuracy: 0.9918 - val_loss: 1.2129 - val_accuracy: 0.6792\n",
            "Epoch 29/100\n",
            "4/4 [==============================] - 0s 13ms/step - loss: 0.0253 - accuracy: 0.9918 - val_loss: 1.2719 - val_accuracy: 0.6415\n",
            "Epoch 30/100\n",
            "4/4 [==============================] - 0s 13ms/step - loss: 0.0223 - accuracy: 0.9918 - val_loss: 1.1968 - val_accuracy: 0.6792\n",
            "Epoch 31/100\n",
            "4/4 [==============================] - 0s 13ms/step - loss: 0.0248 - accuracy: 0.9918 - val_loss: 1.2053 - val_accuracy: 0.6604\n",
            "Epoch 32/100\n",
            "4/4 [==============================] - 0s 12ms/step - loss: 0.0088 - accuracy: 1.0000 - val_loss: 1.2505 - val_accuracy: 0.6415\n",
            "Epoch 33/100\n",
            "4/4 [==============================] - 0s 14ms/step - loss: 0.0159 - accuracy: 0.9918 - val_loss: 1.2880 - val_accuracy: 0.6415\n",
            "Epoch 34/100\n",
            "4/4 [==============================] - 0s 13ms/step - loss: 0.0245 - accuracy: 0.9918 - val_loss: 1.2400 - val_accuracy: 0.6792\n",
            "Epoch 35/100\n",
            "4/4 [==============================] - 0s 13ms/step - loss: 0.0122 - accuracy: 0.9918 - val_loss: 1.2050 - val_accuracy: 0.6792\n",
            "Epoch 36/100\n",
            "4/4 [==============================] - 0s 13ms/step - loss: 0.0145 - accuracy: 0.9918 - val_loss: 1.2073 - val_accuracy: 0.6604\n",
            "Epoch 37/100\n",
            "4/4 [==============================] - 0s 16ms/step - loss: 0.0250 - accuracy: 0.9918 - val_loss: 1.2181 - val_accuracy: 0.6415\n",
            "Epoch 38/100\n",
            "4/4 [==============================] - 0s 12ms/step - loss: 0.0129 - accuracy: 0.9918 - val_loss: 1.2626 - val_accuracy: 0.6792\n",
            "Epoch 39/100\n",
            "4/4 [==============================] - 0s 13ms/step - loss: 0.0167 - accuracy: 0.9918 - val_loss: 1.2608 - val_accuracy: 0.6792\n",
            "Epoch 40/100\n",
            "4/4 [==============================] - 0s 12ms/step - loss: 0.0176 - accuracy: 0.9918 - val_loss: 1.2436 - val_accuracy: 0.6981\n",
            "Epoch 41/100\n",
            "4/4 [==============================] - 0s 12ms/step - loss: 0.0138 - accuracy: 0.9836 - val_loss: 1.2276 - val_accuracy: 0.6792\n",
            "Epoch 42/100\n",
            "4/4 [==============================] - 0s 14ms/step - loss: 0.0176 - accuracy: 0.9918 - val_loss: 1.2249 - val_accuracy: 0.6792\n",
            "Epoch 43/100\n",
            "4/4 [==============================] - 0s 13ms/step - loss: 0.0169 - accuracy: 0.9918 - val_loss: 1.2507 - val_accuracy: 0.6981\n",
            "Epoch 44/100\n",
            "4/4 [==============================] - 0s 15ms/step - loss: 0.0140 - accuracy: 0.9918 - val_loss: 1.2460 - val_accuracy: 0.6981\n",
            "Epoch 45/100\n",
            "4/4 [==============================] - 0s 13ms/step - loss: 0.0125 - accuracy: 0.9918 - val_loss: 1.2340 - val_accuracy: 0.6792\n",
            "Epoch 46/100\n",
            "4/4 [==============================] - 0s 13ms/step - loss: 0.0156 - accuracy: 0.9918 - val_loss: 1.2377 - val_accuracy: 0.6792\n",
            "Epoch 47/100\n",
            "4/4 [==============================] - 0s 14ms/step - loss: 0.0135 - accuracy: 0.9918 - val_loss: 1.2726 - val_accuracy: 0.6792\n",
            "Epoch 48/100\n",
            "4/4 [==============================] - 0s 13ms/step - loss: 0.0154 - accuracy: 0.9918 - val_loss: 1.2535 - val_accuracy: 0.6981\n",
            "Epoch 49/100\n",
            "4/4 [==============================] - 0s 12ms/step - loss: 0.0139 - accuracy: 0.9918 - val_loss: 1.2353 - val_accuracy: 0.6981\n",
            "Epoch 50/100\n",
            "4/4 [==============================] - 0s 15ms/step - loss: 0.0128 - accuracy: 0.9918 - val_loss: 1.2265 - val_accuracy: 0.6792\n",
            "Epoch 51/100\n",
            "4/4 [==============================] - 0s 14ms/step - loss: 0.0163 - accuracy: 0.9918 - val_loss: 1.2408 - val_accuracy: 0.6981\n",
            "Epoch 52/100\n",
            "4/4 [==============================] - 0s 14ms/step - loss: 0.0139 - accuracy: 0.9836 - val_loss: 1.2600 - val_accuracy: 0.6981\n",
            "Epoch 53/100\n",
            "4/4 [==============================] - 0s 13ms/step - loss: 0.0140 - accuracy: 0.9918 - val_loss: 1.2640 - val_accuracy: 0.6981\n",
            "Epoch 54/100\n",
            "4/4 [==============================] - 0s 12ms/step - loss: 0.0145 - accuracy: 0.9918 - val_loss: 1.2434 - val_accuracy: 0.6792\n",
            "Epoch 55/100\n",
            "4/4 [==============================] - 0s 12ms/step - loss: 0.0148 - accuracy: 0.9836 - val_loss: 1.2465 - val_accuracy: 0.6792\n",
            "Epoch 56/100\n",
            "4/4 [==============================] - 0s 15ms/step - loss: 0.0168 - accuracy: 0.9918 - val_loss: 1.2482 - val_accuracy: 0.6792\n",
            "Epoch 57/100\n",
            "4/4 [==============================] - 0s 14ms/step - loss: 0.0130 - accuracy: 0.9918 - val_loss: 1.3121 - val_accuracy: 0.6415\n",
            "Epoch 58/100\n",
            "4/4 [==============================] - 0s 13ms/step - loss: 0.0262 - accuracy: 0.9918 - val_loss: 1.3358 - val_accuracy: 0.6415\n",
            "Epoch 59/100\n",
            "4/4 [==============================] - 0s 13ms/step - loss: 0.0113 - accuracy: 0.9918 - val_loss: 1.2528 - val_accuracy: 0.6415\n",
            "Epoch 60/100\n",
            "4/4 [==============================] - 0s 13ms/step - loss: 0.0380 - accuracy: 0.9918 - val_loss: 1.3538 - val_accuracy: 0.6226\n",
            "Epoch 61/100\n",
            "4/4 [==============================] - 0s 14ms/step - loss: 0.0324 - accuracy: 0.9918 - val_loss: 1.2541 - val_accuracy: 0.6981\n",
            "Epoch 62/100\n",
            "4/4 [==============================] - 0s 13ms/step - loss: 0.0173 - accuracy: 0.9918 - val_loss: 1.3155 - val_accuracy: 0.6792\n",
            "Epoch 63/100\n",
            "4/4 [==============================] - 0s 13ms/step - loss: 0.0181 - accuracy: 0.9918 - val_loss: 1.2531 - val_accuracy: 0.6792\n",
            "Epoch 64/100\n",
            "4/4 [==============================] - 0s 16ms/step - loss: 0.0160 - accuracy: 0.9918 - val_loss: 1.2580 - val_accuracy: 0.6792\n",
            "Epoch 65/100\n",
            "4/4 [==============================] - 0s 14ms/step - loss: 0.0190 - accuracy: 0.9836 - val_loss: 1.3000 - val_accuracy: 0.6792\n",
            "Epoch 66/100\n",
            "4/4 [==============================] - 0s 15ms/step - loss: 0.0150 - accuracy: 0.9918 - val_loss: 1.2915 - val_accuracy: 0.6604\n",
            "Epoch 67/100\n",
            "4/4 [==============================] - 0s 15ms/step - loss: 0.0127 - accuracy: 0.9918 - val_loss: 1.2662 - val_accuracy: 0.6792\n",
            "Epoch 68/100\n",
            "4/4 [==============================] - 0s 12ms/step - loss: 0.0132 - accuracy: 0.9918 - val_loss: 1.2672 - val_accuracy: 0.6792\n",
            "Epoch 69/100\n",
            "4/4 [==============================] - 0s 15ms/step - loss: 0.0151 - accuracy: 0.9918 - val_loss: 1.2794 - val_accuracy: 0.6792\n",
            "Epoch 70/100\n",
            "4/4 [==============================] - 0s 12ms/step - loss: 0.0128 - accuracy: 0.9836 - val_loss: 1.2930 - val_accuracy: 0.6792\n",
            "Epoch 71/100\n",
            "4/4 [==============================] - 0s 13ms/step - loss: 0.0124 - accuracy: 0.9918 - val_loss: 1.2943 - val_accuracy: 0.6792\n",
            "Epoch 72/100\n",
            "4/4 [==============================] - 0s 14ms/step - loss: 0.0185 - accuracy: 0.9836 - val_loss: 1.2723 - val_accuracy: 0.6792\n",
            "Epoch 73/100\n",
            "4/4 [==============================] - 0s 12ms/step - loss: 0.0121 - accuracy: 0.9918 - val_loss: 1.3015 - val_accuracy: 0.6792\n",
            "Epoch 74/100\n",
            "4/4 [==============================] - 0s 17ms/step - loss: 0.0160 - accuracy: 0.9918 - val_loss: 1.2887 - val_accuracy: 0.6792\n",
            "Epoch 75/100\n",
            "4/4 [==============================] - 0s 13ms/step - loss: 0.0149 - accuracy: 0.9918 - val_loss: 1.2920 - val_accuracy: 0.6792\n",
            "Epoch 76/100\n",
            "4/4 [==============================] - 0s 14ms/step - loss: 0.0196 - accuracy: 0.9836 - val_loss: 1.2685 - val_accuracy: 0.6604\n",
            "Epoch 77/100\n",
            "4/4 [==============================] - 0s 13ms/step - loss: 0.0142 - accuracy: 0.9918 - val_loss: 1.2690 - val_accuracy: 0.6792\n",
            "Epoch 78/100\n",
            "4/4 [==============================] - 0s 13ms/step - loss: 0.0112 - accuracy: 0.9918 - val_loss: 1.3258 - val_accuracy: 0.6792\n",
            "Epoch 79/100\n",
            "4/4 [==============================] - 0s 13ms/step - loss: 0.0261 - accuracy: 0.9918 - val_loss: 1.3697 - val_accuracy: 0.6792\n",
            "Epoch 80/100\n",
            "4/4 [==============================] - 0s 14ms/step - loss: 0.0136 - accuracy: 0.9918 - val_loss: 1.2721 - val_accuracy: 0.6981\n",
            "Epoch 81/100\n",
            "4/4 [==============================] - 0s 13ms/step - loss: 0.0268 - accuracy: 0.9918 - val_loss: 1.3330 - val_accuracy: 0.6604\n",
            "Epoch 82/100\n",
            "4/4 [==============================] - 0s 15ms/step - loss: 0.0244 - accuracy: 0.9918 - val_loss: 1.2927 - val_accuracy: 0.6604\n",
            "Epoch 83/100\n",
            "4/4 [==============================] - 0s 13ms/step - loss: 0.0247 - accuracy: 0.9836 - val_loss: 1.3746 - val_accuracy: 0.6604\n",
            "Epoch 84/100\n",
            "4/4 [==============================] - 0s 13ms/step - loss: 0.0154 - accuracy: 0.9918 - val_loss: 1.3298 - val_accuracy: 0.6792\n",
            "Epoch 85/100\n",
            "4/4 [==============================] - 0s 14ms/step - loss: 0.0147 - accuracy: 0.9836 - val_loss: 1.3027 - val_accuracy: 0.6604\n",
            "Epoch 86/100\n",
            "4/4 [==============================] - 0s 14ms/step - loss: 0.0156 - accuracy: 0.9918 - val_loss: 1.3017 - val_accuracy: 0.6792\n",
            "Epoch 87/100\n",
            "4/4 [==============================] - 0s 13ms/step - loss: 0.0124 - accuracy: 0.9918 - val_loss: 1.3056 - val_accuracy: 0.6792\n",
            "Epoch 88/100\n",
            "4/4 [==============================] - 0s 13ms/step - loss: 0.0153 - accuracy: 0.9836 - val_loss: 1.3197 - val_accuracy: 0.6604\n",
            "Epoch 89/100\n",
            "4/4 [==============================] - 0s 13ms/step - loss: 0.0140 - accuracy: 0.9918 - val_loss: 1.3094 - val_accuracy: 0.6792\n",
            "Epoch 90/100\n",
            "4/4 [==============================] - 0s 12ms/step - loss: 0.0122 - accuracy: 0.9918 - val_loss: 1.2912 - val_accuracy: 0.6604\n",
            "Epoch 91/100\n",
            "4/4 [==============================] - 0s 13ms/step - loss: 0.0173 - accuracy: 0.9918 - val_loss: 1.2906 - val_accuracy: 0.6604\n",
            "Epoch 92/100\n",
            "4/4 [==============================] - 0s 13ms/step - loss: 0.0153 - accuracy: 0.9918 - val_loss: 1.2938 - val_accuracy: 0.6792\n",
            "Epoch 93/100\n",
            "4/4 [==============================] - 0s 15ms/step - loss: 0.0141 - accuracy: 0.9918 - val_loss: 1.3119 - val_accuracy: 0.6604\n",
            "Epoch 94/100\n",
            "4/4 [==============================] - 0s 17ms/step - loss: 0.0136 - accuracy: 0.9918 - val_loss: 1.2931 - val_accuracy: 0.6604\n",
            "Epoch 95/100\n",
            "4/4 [==============================] - 0s 13ms/step - loss: 0.0121 - accuracy: 0.9918 - val_loss: 1.2756 - val_accuracy: 0.6792\n",
            "Epoch 96/100\n",
            "4/4 [==============================] - 0s 18ms/step - loss: 0.0127 - accuracy: 0.9918 - val_loss: 1.2725 - val_accuracy: 0.6604\n",
            "Epoch 97/100\n",
            "4/4 [==============================] - 0s 15ms/step - loss: 0.0152 - accuracy: 0.9836 - val_loss: 1.2847 - val_accuracy: 0.6792\n",
            "Epoch 98/100\n",
            "4/4 [==============================] - 0s 14ms/step - loss: 0.0144 - accuracy: 0.9836 - val_loss: 1.2776 - val_accuracy: 0.6981\n",
            "Epoch 99/100\n",
            "4/4 [==============================] - 0s 14ms/step - loss: 0.0128 - accuracy: 0.9918 - val_loss: 1.2830 - val_accuracy: 0.6981\n",
            "Epoch 100/100\n",
            "4/4 [==============================] - 0s 15ms/step - loss: 0.0126 - accuracy: 0.9918 - val_loss: 1.2948 - val_accuracy: 0.6792\n"
          ]
        },
        {
          "data": {
            "text/plain": [
              "<keras.callbacks.History at 0x7ffa5656ea90>"
            ]
          },
          "execution_count": 68,
          "metadata": {},
          "output_type": "execute_result"
        }
      ]
    },
    {
      "cell_type": "markdown",
      "metadata": {
        "id": "kSQnvzNs-Mvt"
      },
      "source": [
        "* Neural Network with Stemmed data using SGD optimizer"
      ]
    },
    {
      "cell_type": "code",
      "metadata": {
        "colab": {
          "base_uri": "https://localhost:8080/"
        },
        "id": "jBR-ohEE752R",
        "outputId": "b0543ce8-5363-40e9-80e3-b1012859b14e"
      },
      "source": [
        "NN_s2 = Sequential()\n",
        "NN_s2.add(Dense(200,input_shape=(158,),activation='relu'))\n",
        "NN_s2.add(Dense(150,activation='relu'))\n",
        "NN_s2.add(Dense(100,activation='relu'))\n",
        "NN_s2.add(Dense(50,activation='relu'))\n",
        "NN_s2.add(Dense(25,activation='relu'))\n",
        "NN_s2.add(Dense(8,activation='softmax'))\n",
        "NN_s2.compile(optimizer='sgd',loss='categorical_crossentropy',metrics=['accuracy'])\n",
        "NN_s2.fit(X_train_S_tf1,y_train_tc,epochs=100,validation_data=(X_test_S_tf1,y_test_tc))"
      ],
      "execution_count": null,
      "outputs": [
        {
          "name": "stdout",
          "output_type": "stream",
          "text": [
            "Epoch 1/100\n",
            "4/4 [==============================] - 1s 71ms/step - loss: 2.0818 - accuracy: 0.1066 - val_loss: 2.0814 - val_accuracy: 0.1132\n",
            "Epoch 2/100\n",
            "4/4 [==============================] - 0s 12ms/step - loss: 2.0813 - accuracy: 0.1066 - val_loss: 2.0812 - val_accuracy: 0.1132\n",
            "Epoch 3/100\n",
            "4/4 [==============================] - 0s 12ms/step - loss: 2.0805 - accuracy: 0.1066 - val_loss: 2.0809 - val_accuracy: 0.1509\n",
            "Epoch 4/100\n",
            "4/4 [==============================] - 0s 14ms/step - loss: 2.0799 - accuracy: 0.1230 - val_loss: 2.0807 - val_accuracy: 0.1698\n",
            "Epoch 5/100\n",
            "4/4 [==============================] - 0s 12ms/step - loss: 2.0792 - accuracy: 0.1311 - val_loss: 2.0804 - val_accuracy: 0.1698\n",
            "Epoch 6/100\n",
            "4/4 [==============================] - 0s 13ms/step - loss: 2.0787 - accuracy: 0.1311 - val_loss: 2.0802 - val_accuracy: 0.1698\n",
            "Epoch 7/100\n",
            "4/4 [==============================] - 0s 12ms/step - loss: 2.0780 - accuracy: 0.1721 - val_loss: 2.0800 - val_accuracy: 0.1132\n",
            "Epoch 8/100\n",
            "4/4 [==============================] - 0s 12ms/step - loss: 2.0774 - accuracy: 0.1639 - val_loss: 2.0798 - val_accuracy: 0.1509\n",
            "Epoch 9/100\n",
            "4/4 [==============================] - 0s 17ms/step - loss: 2.0771 - accuracy: 0.1885 - val_loss: 2.0795 - val_accuracy: 0.1698\n",
            "Epoch 10/100\n",
            "4/4 [==============================] - 0s 13ms/step - loss: 2.0764 - accuracy: 0.1803 - val_loss: 2.0793 - val_accuracy: 0.1509\n",
            "Epoch 11/100\n",
            "4/4 [==============================] - 0s 13ms/step - loss: 2.0760 - accuracy: 0.1967 - val_loss: 2.0791 - val_accuracy: 0.1698\n",
            "Epoch 12/100\n",
            "4/4 [==============================] - 0s 13ms/step - loss: 2.0754 - accuracy: 0.2049 - val_loss: 2.0789 - val_accuracy: 0.1698\n",
            "Epoch 13/100\n",
            "4/4 [==============================] - 0s 12ms/step - loss: 2.0749 - accuracy: 0.2049 - val_loss: 2.0788 - val_accuracy: 0.1698\n",
            "Epoch 14/100\n",
            "4/4 [==============================] - 0s 14ms/step - loss: 2.0746 - accuracy: 0.2049 - val_loss: 2.0785 - val_accuracy: 0.1698\n",
            "Epoch 15/100\n",
            "4/4 [==============================] - 0s 15ms/step - loss: 2.0743 - accuracy: 0.2049 - val_loss: 2.0784 - val_accuracy: 0.1698\n",
            "Epoch 16/100\n",
            "4/4 [==============================] - 0s 17ms/step - loss: 2.0738 - accuracy: 0.2049 - val_loss: 2.0783 - val_accuracy: 0.1698\n",
            "Epoch 17/100\n",
            "4/4 [==============================] - 0s 12ms/step - loss: 2.0733 - accuracy: 0.2131 - val_loss: 2.0781 - val_accuracy: 0.1698\n",
            "Epoch 18/100\n",
            "4/4 [==============================] - 0s 12ms/step - loss: 2.0729 - accuracy: 0.2131 - val_loss: 2.0779 - val_accuracy: 0.1698\n",
            "Epoch 19/100\n",
            "4/4 [==============================] - 0s 12ms/step - loss: 2.0726 - accuracy: 0.2131 - val_loss: 2.0778 - val_accuracy: 0.1698\n",
            "Epoch 20/100\n",
            "4/4 [==============================] - 0s 12ms/step - loss: 2.0721 - accuracy: 0.2131 - val_loss: 2.0776 - val_accuracy: 0.1698\n",
            "Epoch 21/100\n",
            "4/4 [==============================] - 0s 12ms/step - loss: 2.0717 - accuracy: 0.2131 - val_loss: 2.0774 - val_accuracy: 0.1698\n",
            "Epoch 22/100\n",
            "4/4 [==============================] - 0s 14ms/step - loss: 2.0714 - accuracy: 0.2131 - val_loss: 2.0772 - val_accuracy: 0.1698\n",
            "Epoch 23/100\n",
            "4/4 [==============================] - 0s 12ms/step - loss: 2.0711 - accuracy: 0.2131 - val_loss: 2.0771 - val_accuracy: 0.1698\n",
            "Epoch 24/100\n",
            "4/4 [==============================] - 0s 17ms/step - loss: 2.0706 - accuracy: 0.2049 - val_loss: 2.0769 - val_accuracy: 0.1698\n",
            "Epoch 25/100\n",
            "4/4 [==============================] - 0s 13ms/step - loss: 2.0702 - accuracy: 0.2049 - val_loss: 2.0768 - val_accuracy: 0.1698\n",
            "Epoch 26/100\n",
            "4/4 [==============================] - 0s 12ms/step - loss: 2.0700 - accuracy: 0.2049 - val_loss: 2.0766 - val_accuracy: 0.1698\n",
            "Epoch 27/100\n",
            "4/4 [==============================] - 0s 12ms/step - loss: 2.0696 - accuracy: 0.1885 - val_loss: 2.0764 - val_accuracy: 0.1698\n",
            "Epoch 28/100\n",
            "4/4 [==============================] - 0s 17ms/step - loss: 2.0693 - accuracy: 0.1967 - val_loss: 2.0763 - val_accuracy: 0.1698\n",
            "Epoch 29/100\n",
            "4/4 [==============================] - 0s 13ms/step - loss: 2.0689 - accuracy: 0.1885 - val_loss: 2.0762 - val_accuracy: 0.1698\n",
            "Epoch 30/100\n",
            "4/4 [==============================] - 0s 14ms/step - loss: 2.0686 - accuracy: 0.1885 - val_loss: 2.0761 - val_accuracy: 0.1698\n",
            "Epoch 31/100\n",
            "4/4 [==============================] - 0s 14ms/step - loss: 2.0681 - accuracy: 0.1885 - val_loss: 2.0760 - val_accuracy: 0.1698\n",
            "Epoch 32/100\n",
            "4/4 [==============================] - 0s 14ms/step - loss: 2.0677 - accuracy: 0.1803 - val_loss: 2.0758 - val_accuracy: 0.1698\n",
            "Epoch 33/100\n",
            "4/4 [==============================] - 0s 12ms/step - loss: 2.0674 - accuracy: 0.1803 - val_loss: 2.0757 - val_accuracy: 0.1698\n",
            "Epoch 34/100\n",
            "4/4 [==============================] - 0s 12ms/step - loss: 2.0670 - accuracy: 0.1803 - val_loss: 2.0755 - val_accuracy: 0.1698\n",
            "Epoch 35/100\n",
            "4/4 [==============================] - 0s 16ms/step - loss: 2.0666 - accuracy: 0.1967 - val_loss: 2.0754 - val_accuracy: 0.1698\n",
            "Epoch 36/100\n",
            "4/4 [==============================] - 0s 12ms/step - loss: 2.0663 - accuracy: 0.1803 - val_loss: 2.0752 - val_accuracy: 0.1698\n",
            "Epoch 37/100\n",
            "4/4 [==============================] - 0s 12ms/step - loss: 2.0661 - accuracy: 0.1803 - val_loss: 2.0751 - val_accuracy: 0.1698\n",
            "Epoch 38/100\n",
            "4/4 [==============================] - 0s 12ms/step - loss: 2.0657 - accuracy: 0.1803 - val_loss: 2.0749 - val_accuracy: 0.1698\n",
            "Epoch 39/100\n",
            "4/4 [==============================] - 0s 12ms/step - loss: 2.0653 - accuracy: 0.1803 - val_loss: 2.0748 - val_accuracy: 0.1698\n",
            "Epoch 40/100\n",
            "4/4 [==============================] - 0s 13ms/step - loss: 2.0649 - accuracy: 0.1803 - val_loss: 2.0746 - val_accuracy: 0.1698\n",
            "Epoch 41/100\n",
            "4/4 [==============================] - 0s 12ms/step - loss: 2.0646 - accuracy: 0.1803 - val_loss: 2.0745 - val_accuracy: 0.1698\n",
            "Epoch 42/100\n",
            "4/4 [==============================] - 0s 13ms/step - loss: 2.0643 - accuracy: 0.1803 - val_loss: 2.0745 - val_accuracy: 0.1698\n",
            "Epoch 43/100\n",
            "4/4 [==============================] - 0s 12ms/step - loss: 2.0638 - accuracy: 0.1803 - val_loss: 2.0743 - val_accuracy: 0.1698\n",
            "Epoch 44/100\n",
            "4/4 [==============================] - 0s 12ms/step - loss: 2.0635 - accuracy: 0.1803 - val_loss: 2.0742 - val_accuracy: 0.1698\n",
            "Epoch 45/100\n",
            "4/4 [==============================] - 0s 12ms/step - loss: 2.0631 - accuracy: 0.1803 - val_loss: 2.0740 - val_accuracy: 0.1698\n",
            "Epoch 46/100\n",
            "4/4 [==============================] - 0s 13ms/step - loss: 2.0628 - accuracy: 0.1803 - val_loss: 2.0739 - val_accuracy: 0.1698\n",
            "Epoch 47/100\n",
            "4/4 [==============================] - 0s 23ms/step - loss: 2.0624 - accuracy: 0.1803 - val_loss: 2.0738 - val_accuracy: 0.1698\n",
            "Epoch 48/100\n",
            "4/4 [==============================] - 0s 14ms/step - loss: 2.0621 - accuracy: 0.1721 - val_loss: 2.0738 - val_accuracy: 0.1698\n",
            "Epoch 49/100\n",
            "4/4 [==============================] - 0s 13ms/step - loss: 2.0617 - accuracy: 0.1803 - val_loss: 2.0737 - val_accuracy: 0.1698\n",
            "Epoch 50/100\n",
            "4/4 [==============================] - 0s 12ms/step - loss: 2.0617 - accuracy: 0.1803 - val_loss: 2.0736 - val_accuracy: 0.1698\n",
            "Epoch 51/100\n",
            "4/4 [==============================] - 0s 13ms/step - loss: 2.0612 - accuracy: 0.1803 - val_loss: 2.0735 - val_accuracy: 0.1698\n",
            "Epoch 52/100\n",
            "4/4 [==============================] - 0s 13ms/step - loss: 2.0607 - accuracy: 0.1885 - val_loss: 2.0735 - val_accuracy: 0.1698\n",
            "Epoch 53/100\n",
            "4/4 [==============================] - 0s 12ms/step - loss: 2.0604 - accuracy: 0.1803 - val_loss: 2.0734 - val_accuracy: 0.1698\n",
            "Epoch 54/100\n",
            "4/4 [==============================] - 0s 14ms/step - loss: 2.0602 - accuracy: 0.1721 - val_loss: 2.0733 - val_accuracy: 0.1698\n",
            "Epoch 55/100\n",
            "4/4 [==============================] - 0s 12ms/step - loss: 2.0600 - accuracy: 0.1803 - val_loss: 2.0732 - val_accuracy: 0.1698\n",
            "Epoch 56/100\n",
            "4/4 [==============================] - 0s 12ms/step - loss: 2.0593 - accuracy: 0.1803 - val_loss: 2.0731 - val_accuracy: 0.1698\n",
            "Epoch 57/100\n",
            "4/4 [==============================] - 0s 12ms/step - loss: 2.0591 - accuracy: 0.1803 - val_loss: 2.0731 - val_accuracy: 0.1698\n",
            "Epoch 58/100\n",
            "4/4 [==============================] - 0s 14ms/step - loss: 2.0588 - accuracy: 0.1803 - val_loss: 2.0730 - val_accuracy: 0.1698\n",
            "Epoch 59/100\n",
            "4/4 [==============================] - 0s 14ms/step - loss: 2.0586 - accuracy: 0.1803 - val_loss: 2.0729 - val_accuracy: 0.1698\n",
            "Epoch 60/100\n",
            "4/4 [==============================] - 0s 14ms/step - loss: 2.0582 - accuracy: 0.1803 - val_loss: 2.0728 - val_accuracy: 0.1698\n",
            "Epoch 61/100\n",
            "4/4 [==============================] - 0s 13ms/step - loss: 2.0580 - accuracy: 0.1803 - val_loss: 2.0728 - val_accuracy: 0.1698\n",
            "Epoch 62/100\n",
            "4/4 [==============================] - 0s 13ms/step - loss: 2.0576 - accuracy: 0.1803 - val_loss: 2.0727 - val_accuracy: 0.1698\n",
            "Epoch 63/100\n",
            "4/4 [==============================] - 0s 13ms/step - loss: 2.0574 - accuracy: 0.1803 - val_loss: 2.0726 - val_accuracy: 0.1698\n",
            "Epoch 64/100\n",
            "4/4 [==============================] - 0s 13ms/step - loss: 2.0570 - accuracy: 0.1721 - val_loss: 2.0726 - val_accuracy: 0.1698\n",
            "Epoch 65/100\n",
            "4/4 [==============================] - 0s 13ms/step - loss: 2.0567 - accuracy: 0.1803 - val_loss: 2.0726 - val_accuracy: 0.1698\n",
            "Epoch 66/100\n",
            "4/4 [==============================] - 0s 13ms/step - loss: 2.0566 - accuracy: 0.1803 - val_loss: 2.0726 - val_accuracy: 0.1698\n",
            "Epoch 67/100\n",
            "4/4 [==============================] - 0s 18ms/step - loss: 2.0562 - accuracy: 0.1803 - val_loss: 2.0725 - val_accuracy: 0.1698\n",
            "Epoch 68/100\n",
            "4/4 [==============================] - 0s 13ms/step - loss: 2.0559 - accuracy: 0.1721 - val_loss: 2.0724 - val_accuracy: 0.1698\n",
            "Epoch 69/100\n",
            "4/4 [==============================] - 0s 12ms/step - loss: 2.0557 - accuracy: 0.1803 - val_loss: 2.0723 - val_accuracy: 0.1698\n",
            "Epoch 70/100\n",
            "4/4 [==============================] - 0s 14ms/step - loss: 2.0554 - accuracy: 0.1803 - val_loss: 2.0723 - val_accuracy: 0.1698\n",
            "Epoch 71/100\n",
            "4/4 [==============================] - 0s 14ms/step - loss: 2.0552 - accuracy: 0.1803 - val_loss: 2.0722 - val_accuracy: 0.1698\n",
            "Epoch 72/100\n",
            "4/4 [==============================] - 0s 14ms/step - loss: 2.0549 - accuracy: 0.1803 - val_loss: 2.0721 - val_accuracy: 0.1698\n",
            "Epoch 73/100\n",
            "4/4 [==============================] - 0s 15ms/step - loss: 2.0545 - accuracy: 0.1721 - val_loss: 2.0720 - val_accuracy: 0.1698\n",
            "Epoch 74/100\n",
            "4/4 [==============================] - 0s 12ms/step - loss: 2.0544 - accuracy: 0.1803 - val_loss: 2.0720 - val_accuracy: 0.1698\n",
            "Epoch 75/100\n",
            "4/4 [==============================] - 0s 13ms/step - loss: 2.0541 - accuracy: 0.1803 - val_loss: 2.0719 - val_accuracy: 0.1698\n",
            "Epoch 76/100\n",
            "4/4 [==============================] - 0s 13ms/step - loss: 2.0536 - accuracy: 0.1803 - val_loss: 2.0718 - val_accuracy: 0.1698\n",
            "Epoch 77/100\n",
            "4/4 [==============================] - 0s 14ms/step - loss: 2.0535 - accuracy: 0.1803 - val_loss: 2.0716 - val_accuracy: 0.1698\n",
            "Epoch 78/100\n",
            "4/4 [==============================] - 0s 12ms/step - loss: 2.0531 - accuracy: 0.1803 - val_loss: 2.0715 - val_accuracy: 0.1698\n",
            "Epoch 79/100\n",
            "4/4 [==============================] - 0s 12ms/step - loss: 2.0527 - accuracy: 0.1803 - val_loss: 2.0715 - val_accuracy: 0.1698\n",
            "Epoch 80/100\n",
            "4/4 [==============================] - 0s 12ms/step - loss: 2.0526 - accuracy: 0.1721 - val_loss: 2.0713 - val_accuracy: 0.1698\n",
            "Epoch 81/100\n",
            "4/4 [==============================] - 0s 13ms/step - loss: 2.0521 - accuracy: 0.1803 - val_loss: 2.0713 - val_accuracy: 0.1698\n",
            "Epoch 82/100\n",
            "4/4 [==============================] - 0s 17ms/step - loss: 2.0518 - accuracy: 0.1803 - val_loss: 2.0712 - val_accuracy: 0.1698\n",
            "Epoch 83/100\n",
            "4/4 [==============================] - 0s 13ms/step - loss: 2.0516 - accuracy: 0.1721 - val_loss: 2.0712 - val_accuracy: 0.1698\n",
            "Epoch 84/100\n",
            "4/4 [==============================] - 0s 14ms/step - loss: 2.0515 - accuracy: 0.1721 - val_loss: 2.0711 - val_accuracy: 0.1698\n",
            "Epoch 85/100\n",
            "4/4 [==============================] - 0s 14ms/step - loss: 2.0509 - accuracy: 0.1803 - val_loss: 2.0710 - val_accuracy: 0.1698\n",
            "Epoch 86/100\n",
            "4/4 [==============================] - 0s 14ms/step - loss: 2.0508 - accuracy: 0.1721 - val_loss: 2.0710 - val_accuracy: 0.1698\n",
            "Epoch 87/100\n",
            "4/4 [==============================] - 0s 14ms/step - loss: 2.0504 - accuracy: 0.1803 - val_loss: 2.0709 - val_accuracy: 0.1698\n",
            "Epoch 88/100\n",
            "4/4 [==============================] - 0s 14ms/step - loss: 2.0501 - accuracy: 0.1803 - val_loss: 2.0709 - val_accuracy: 0.1698\n",
            "Epoch 89/100\n",
            "4/4 [==============================] - 0s 13ms/step - loss: 2.0497 - accuracy: 0.1721 - val_loss: 2.0709 - val_accuracy: 0.1698\n",
            "Epoch 90/100\n",
            "4/4 [==============================] - 0s 16ms/step - loss: 2.0495 - accuracy: 0.1803 - val_loss: 2.0708 - val_accuracy: 0.1698\n",
            "Epoch 91/100\n",
            "4/4 [==============================] - 0s 14ms/step - loss: 2.0492 - accuracy: 0.1721 - val_loss: 2.0707 - val_accuracy: 0.1698\n",
            "Epoch 92/100\n",
            "4/4 [==============================] - 0s 15ms/step - loss: 2.0490 - accuracy: 0.1803 - val_loss: 2.0706 - val_accuracy: 0.1698\n",
            "Epoch 93/100\n",
            "4/4 [==============================] - 0s 13ms/step - loss: 2.0486 - accuracy: 0.1721 - val_loss: 2.0706 - val_accuracy: 0.1698\n",
            "Epoch 94/100\n",
            "4/4 [==============================] - 0s 13ms/step - loss: 2.0484 - accuracy: 0.1721 - val_loss: 2.0705 - val_accuracy: 0.1698\n",
            "Epoch 95/100\n",
            "4/4 [==============================] - 0s 12ms/step - loss: 2.0479 - accuracy: 0.1721 - val_loss: 2.0704 - val_accuracy: 0.1698\n",
            "Epoch 96/100\n",
            "4/4 [==============================] - 0s 13ms/step - loss: 2.0479 - accuracy: 0.1803 - val_loss: 2.0703 - val_accuracy: 0.1698\n",
            "Epoch 97/100\n",
            "4/4 [==============================] - 0s 12ms/step - loss: 2.0473 - accuracy: 0.1721 - val_loss: 2.0703 - val_accuracy: 0.1698\n",
            "Epoch 98/100\n",
            "4/4 [==============================] - 0s 13ms/step - loss: 2.0471 - accuracy: 0.1803 - val_loss: 2.0701 - val_accuracy: 0.1698\n",
            "Epoch 99/100\n",
            "4/4 [==============================] - 0s 13ms/step - loss: 2.0467 - accuracy: 0.1721 - val_loss: 2.0700 - val_accuracy: 0.1698\n",
            "Epoch 100/100\n",
            "4/4 [==============================] - 0s 13ms/step - loss: 2.0465 - accuracy: 0.1803 - val_loss: 2.0699 - val_accuracy: 0.1698\n"
          ]
        },
        {
          "data": {
            "text/plain": [
              "<keras.callbacks.History at 0x7ffa59014890>"
            ]
          },
          "execution_count": 69,
          "metadata": {},
          "output_type": "execute_result"
        }
      ]
    },
    {
      "cell_type": "markdown",
      "metadata": {
        "id": "85z57nSN-V7G"
      },
      "source": [
        "* Neural Network with Stemmed data and RMS prop optimizer"
      ]
    },
    {
      "cell_type": "code",
      "metadata": {
        "colab": {
          "base_uri": "https://localhost:8080/"
        },
        "id": "TKShlSQR8os7",
        "outputId": "c408d1d2-6cd3-45e5-ee68-67219822d23c"
      },
      "source": [
        "NN_s3 = Sequential()\n",
        "NN_s3.add(Dense(200,input_shape=(158,),activation='relu'))\n",
        "NN_s3.add(Dense(150,activation='relu'))\n",
        "NN_s3.add(Dense(100,activation='relu'))\n",
        "NN_s3.add(Dense(50,activation='relu'))\n",
        "NN_s3.add(Dense(25,activation='relu'))\n",
        "NN_s3.add(Dense(8,activation='softmax'))\n",
        "NN_s3.compile(optimizer='rmsprop',loss='categorical_crossentropy',metrics=['accuracy'])\n",
        "NN_s3.fit(X_train_S_tf1,y_train_tc,epochs=100,validation_data=(X_test_S_tf1,y_test_tc))"
      ],
      "execution_count": null,
      "outputs": [
        {
          "name": "stdout",
          "output_type": "stream",
          "text": [
            "Epoch 1/100\n",
            "4/4 [==============================] - 1s 76ms/step - loss: 2.0757 - accuracy: 0.1311 - val_loss: 2.0618 - val_accuracy: 0.2642\n",
            "Epoch 2/100\n",
            "4/4 [==============================] - 0s 15ms/step - loss: 2.0238 - accuracy: 0.3361 - val_loss: 2.0404 - val_accuracy: 0.1698\n",
            "Epoch 3/100\n",
            "4/4 [==============================] - 0s 15ms/step - loss: 1.9493 - accuracy: 0.2869 - val_loss: 2.0046 - val_accuracy: 0.1698\n",
            "Epoch 4/100\n",
            "4/4 [==============================] - 0s 13ms/step - loss: 1.8499 - accuracy: 0.3361 - val_loss: 1.9234 - val_accuracy: 0.3208\n",
            "Epoch 5/100\n",
            "4/4 [==============================] - 0s 13ms/step - loss: 1.7124 - accuracy: 0.4836 - val_loss: 1.8528 - val_accuracy: 0.2830\n",
            "Epoch 6/100\n",
            "4/4 [==============================] - 0s 15ms/step - loss: 1.5431 - accuracy: 0.5328 - val_loss: 1.7429 - val_accuracy: 0.4528\n",
            "Epoch 7/100\n",
            "4/4 [==============================] - 0s 13ms/step - loss: 1.3771 - accuracy: 0.6230 - val_loss: 1.7553 - val_accuracy: 0.2830\n",
            "Epoch 8/100\n",
            "4/4 [==============================] - 0s 13ms/step - loss: 1.2094 - accuracy: 0.6475 - val_loss: 1.6023 - val_accuracy: 0.4340\n",
            "Epoch 9/100\n",
            "4/4 [==============================] - 0s 15ms/step - loss: 1.0314 - accuracy: 0.7213 - val_loss: 1.5228 - val_accuracy: 0.4906\n",
            "Epoch 10/100\n",
            "4/4 [==============================] - 0s 14ms/step - loss: 0.8599 - accuracy: 0.8115 - val_loss: 1.3856 - val_accuracy: 0.5283\n",
            "Epoch 11/100\n",
            "4/4 [==============================] - 0s 16ms/step - loss: 0.7134 - accuracy: 0.8525 - val_loss: 1.3229 - val_accuracy: 0.4340\n",
            "Epoch 12/100\n",
            "4/4 [==============================] - 0s 14ms/step - loss: 0.6046 - accuracy: 0.8443 - val_loss: 1.2625 - val_accuracy: 0.4151\n",
            "Epoch 13/100\n",
            "4/4 [==============================] - 0s 14ms/step - loss: 0.4559 - accuracy: 0.8770 - val_loss: 1.1696 - val_accuracy: 0.5849\n",
            "Epoch 14/100\n",
            "4/4 [==============================] - 0s 13ms/step - loss: 0.3793 - accuracy: 0.9344 - val_loss: 1.1614 - val_accuracy: 0.6038\n",
            "Epoch 15/100\n",
            "4/4 [==============================] - 0s 16ms/step - loss: 0.2958 - accuracy: 0.9508 - val_loss: 1.0952 - val_accuracy: 0.6038\n",
            "Epoch 16/100\n",
            "4/4 [==============================] - 0s 13ms/step - loss: 0.2204 - accuracy: 0.9672 - val_loss: 1.0747 - val_accuracy: 0.6038\n",
            "Epoch 17/100\n",
            "4/4 [==============================] - 0s 13ms/step - loss: 0.1873 - accuracy: 0.9836 - val_loss: 1.0724 - val_accuracy: 0.6226\n",
            "Epoch 18/100\n",
            "4/4 [==============================] - 0s 13ms/step - loss: 0.1241 - accuracy: 0.9918 - val_loss: 1.0205 - val_accuracy: 0.6226\n",
            "Epoch 19/100\n",
            "4/4 [==============================] - 0s 16ms/step - loss: 0.0921 - accuracy: 0.9918 - val_loss: 1.0539 - val_accuracy: 0.6415\n",
            "Epoch 20/100\n",
            "4/4 [==============================] - 0s 14ms/step - loss: 0.0715 - accuracy: 0.9918 - val_loss: 1.0279 - val_accuracy: 0.6226\n",
            "Epoch 21/100\n",
            "4/4 [==============================] - 0s 14ms/step - loss: 0.0774 - accuracy: 0.9836 - val_loss: 1.2406 - val_accuracy: 0.5094\n",
            "Epoch 22/100\n",
            "4/4 [==============================] - 0s 14ms/step - loss: 0.0876 - accuracy: 0.9836 - val_loss: 1.0552 - val_accuracy: 0.6038\n",
            "Epoch 23/100\n",
            "4/4 [==============================] - 0s 14ms/step - loss: 0.0465 - accuracy: 0.9918 - val_loss: 1.3318 - val_accuracy: 0.6038\n",
            "Epoch 24/100\n",
            "4/4 [==============================] - 0s 16ms/step - loss: 0.0562 - accuracy: 0.9836 - val_loss: 1.0533 - val_accuracy: 0.6415\n",
            "Epoch 25/100\n",
            "4/4 [==============================] - 0s 15ms/step - loss: 0.0337 - accuracy: 0.9918 - val_loss: 1.1620 - val_accuracy: 0.5472\n",
            "Epoch 26/100\n",
            "4/4 [==============================] - 0s 14ms/step - loss: 0.0541 - accuracy: 0.9836 - val_loss: 1.0982 - val_accuracy: 0.6226\n",
            "Epoch 27/100\n",
            "4/4 [==============================] - 0s 14ms/step - loss: 0.0463 - accuracy: 0.9836 - val_loss: 1.0583 - val_accuracy: 0.6415\n",
            "Epoch 28/100\n",
            "4/4 [==============================] - 0s 13ms/step - loss: 0.0303 - accuracy: 0.9918 - val_loss: 1.1809 - val_accuracy: 0.6604\n",
            "Epoch 29/100\n",
            "4/4 [==============================] - 0s 14ms/step - loss: 0.0227 - accuracy: 0.9918 - val_loss: 1.0748 - val_accuracy: 0.6415\n",
            "Epoch 30/100\n",
            "4/4 [==============================] - 0s 15ms/step - loss: 0.0284 - accuracy: 0.9918 - val_loss: 1.1694 - val_accuracy: 0.6415\n",
            "Epoch 31/100\n",
            "4/4 [==============================] - 0s 13ms/step - loss: 0.0271 - accuracy: 0.9918 - val_loss: 1.2704 - val_accuracy: 0.6038\n",
            "Epoch 32/100\n",
            "4/4 [==============================] - 0s 14ms/step - loss: 0.0305 - accuracy: 0.9918 - val_loss: 1.4806 - val_accuracy: 0.6226\n",
            "Epoch 33/100\n",
            "4/4 [==============================] - 0s 16ms/step - loss: 0.0272 - accuracy: 0.9918 - val_loss: 1.1205 - val_accuracy: 0.6415\n",
            "Epoch 34/100\n",
            "4/4 [==============================] - 0s 15ms/step - loss: 0.0253 - accuracy: 0.9918 - val_loss: 1.2591 - val_accuracy: 0.6604\n",
            "Epoch 35/100\n",
            "4/4 [==============================] - 0s 14ms/step - loss: 0.0259 - accuracy: 0.9918 - val_loss: 1.2095 - val_accuracy: 0.5849\n",
            "Epoch 36/100\n",
            "4/4 [==============================] - 0s 14ms/step - loss: 0.0397 - accuracy: 0.9836 - val_loss: 1.1353 - val_accuracy: 0.6415\n",
            "Epoch 37/100\n",
            "4/4 [==============================] - 0s 14ms/step - loss: 0.0247 - accuracy: 0.9918 - val_loss: 1.3722 - val_accuracy: 0.6226\n",
            "Epoch 38/100\n",
            "4/4 [==============================] - 0s 15ms/step - loss: 0.0231 - accuracy: 0.9918 - val_loss: 1.1778 - val_accuracy: 0.6038\n",
            "Epoch 39/100\n",
            "4/4 [==============================] - 0s 15ms/step - loss: 0.0241 - accuracy: 0.9918 - val_loss: 1.2268 - val_accuracy: 0.6415\n",
            "Epoch 40/100\n",
            "4/4 [==============================] - 0s 16ms/step - loss: 0.0286 - accuracy: 0.9836 - val_loss: 1.2545 - val_accuracy: 0.6415\n",
            "Epoch 41/100\n",
            "4/4 [==============================] - 0s 13ms/step - loss: 0.0217 - accuracy: 0.9918 - val_loss: 1.2420 - val_accuracy: 0.6038\n",
            "Epoch 42/100\n",
            "4/4 [==============================] - 0s 13ms/step - loss: 0.0226 - accuracy: 0.9918 - val_loss: 1.3155 - val_accuracy: 0.6415\n",
            "Epoch 43/100\n",
            "4/4 [==============================] - 0s 13ms/step - loss: 0.0215 - accuracy: 0.9918 - val_loss: 1.1867 - val_accuracy: 0.6415\n",
            "Epoch 44/100\n",
            "4/4 [==============================] - 0s 18ms/step - loss: 0.0275 - accuracy: 0.9836 - val_loss: 1.2454 - val_accuracy: 0.6038\n",
            "Epoch 45/100\n",
            "4/4 [==============================] - 0s 14ms/step - loss: 0.0190 - accuracy: 0.9918 - val_loss: 1.2606 - val_accuracy: 0.6415\n",
            "Epoch 46/100\n",
            "4/4 [==============================] - 0s 14ms/step - loss: 0.0249 - accuracy: 0.9836 - val_loss: 1.3172 - val_accuracy: 0.6415\n",
            "Epoch 47/100\n",
            "4/4 [==============================] - 0s 16ms/step - loss: 0.0205 - accuracy: 0.9918 - val_loss: 1.2638 - val_accuracy: 0.6226\n",
            "Epoch 48/100\n",
            "4/4 [==============================] - 0s 15ms/step - loss: 0.0144 - accuracy: 0.9918 - val_loss: 1.3005 - val_accuracy: 0.6415\n",
            "Epoch 49/100\n",
            "4/4 [==============================] - 0s 14ms/step - loss: 0.0254 - accuracy: 0.9836 - val_loss: 1.3815 - val_accuracy: 0.6415\n",
            "Epoch 50/100\n",
            "4/4 [==============================] - 0s 18ms/step - loss: 0.0207 - accuracy: 0.9918 - val_loss: 1.3119 - val_accuracy: 0.6415\n",
            "Epoch 51/100\n",
            "4/4 [==============================] - 0s 14ms/step - loss: 0.0237 - accuracy: 0.9836 - val_loss: 1.3611 - val_accuracy: 0.6038\n",
            "Epoch 52/100\n",
            "4/4 [==============================] - 0s 14ms/step - loss: 0.0245 - accuracy: 0.9836 - val_loss: 1.3110 - val_accuracy: 0.6415\n",
            "Epoch 53/100\n",
            "4/4 [==============================] - 0s 14ms/step - loss: 0.0217 - accuracy: 0.9836 - val_loss: 1.3266 - val_accuracy: 0.6415\n",
            "Epoch 54/100\n",
            "4/4 [==============================] - 0s 13ms/step - loss: 0.0211 - accuracy: 0.9836 - val_loss: 1.3862 - val_accuracy: 0.6226\n",
            "Epoch 55/100\n",
            "4/4 [==============================] - 0s 13ms/step - loss: 0.0149 - accuracy: 0.9918 - val_loss: 1.4842 - val_accuracy: 0.6415\n",
            "Epoch 56/100\n",
            "4/4 [==============================] - 0s 13ms/step - loss: 0.0194 - accuracy: 0.9918 - val_loss: 1.3811 - val_accuracy: 0.6226\n",
            "Epoch 57/100\n",
            "4/4 [==============================] - 0s 13ms/step - loss: 0.0200 - accuracy: 0.9836 - val_loss: 1.3975 - val_accuracy: 0.6226\n",
            "Epoch 58/100\n",
            "4/4 [==============================] - 0s 13ms/step - loss: 0.0191 - accuracy: 0.9918 - val_loss: 1.5642 - val_accuracy: 0.6226\n",
            "Epoch 59/100\n",
            "4/4 [==============================] - 0s 15ms/step - loss: 0.0178 - accuracy: 0.9918 - val_loss: 1.4670 - val_accuracy: 0.6038\n",
            "Epoch 60/100\n",
            "4/4 [==============================] - 0s 14ms/step - loss: 0.0186 - accuracy: 0.9836 - val_loss: 1.4858 - val_accuracy: 0.6226\n",
            "Epoch 61/100\n",
            "4/4 [==============================] - 0s 14ms/step - loss: 0.0194 - accuracy: 0.9836 - val_loss: 1.5053 - val_accuracy: 0.6226\n",
            "Epoch 62/100\n",
            "4/4 [==============================] - 0s 13ms/step - loss: 0.0177 - accuracy: 0.9918 - val_loss: 1.6215 - val_accuracy: 0.6415\n",
            "Epoch 63/100\n",
            "4/4 [==============================] - 0s 13ms/step - loss: 0.0176 - accuracy: 0.9836 - val_loss: 1.6609 - val_accuracy: 0.6415\n",
            "Epoch 64/100\n",
            "4/4 [==============================] - 0s 13ms/step - loss: 0.0172 - accuracy: 0.9918 - val_loss: 1.6010 - val_accuracy: 0.6415\n",
            "Epoch 65/100\n",
            "4/4 [==============================] - 0s 15ms/step - loss: 0.0176 - accuracy: 0.9918 - val_loss: 1.6924 - val_accuracy: 0.6415\n",
            "Epoch 66/100\n",
            "4/4 [==============================] - 0s 13ms/step - loss: 0.0170 - accuracy: 0.9836 - val_loss: 1.7077 - val_accuracy: 0.6415\n",
            "Epoch 67/100\n",
            "4/4 [==============================] - 0s 14ms/step - loss: 0.0170 - accuracy: 0.9836 - val_loss: 1.7154 - val_accuracy: 0.6415\n",
            "Epoch 68/100\n",
            "4/4 [==============================] - 0s 16ms/step - loss: 0.0166 - accuracy: 0.9918 - val_loss: 1.7620 - val_accuracy: 0.6604\n",
            "Epoch 69/100\n",
            "4/4 [==============================] - 0s 14ms/step - loss: 0.0166 - accuracy: 0.9918 - val_loss: 1.6880 - val_accuracy: 0.6415\n",
            "Epoch 70/100\n",
            "4/4 [==============================] - 0s 14ms/step - loss: 0.0164 - accuracy: 0.9836 - val_loss: 1.7995 - val_accuracy: 0.6415\n",
            "Epoch 71/100\n",
            "4/4 [==============================] - 0s 13ms/step - loss: 0.0166 - accuracy: 0.9836 - val_loss: 1.8298 - val_accuracy: 0.6415\n",
            "Epoch 72/100\n",
            "4/4 [==============================] - 0s 15ms/step - loss: 0.0164 - accuracy: 0.9918 - val_loss: 1.7271 - val_accuracy: 0.6415\n",
            "Epoch 73/100\n",
            "4/4 [==============================] - 0s 14ms/step - loss: 0.0160 - accuracy: 0.9836 - val_loss: 1.8076 - val_accuracy: 0.6415\n",
            "Epoch 74/100\n",
            "4/4 [==============================] - 0s 13ms/step - loss: 0.0162 - accuracy: 0.9836 - val_loss: 1.8130 - val_accuracy: 0.6415\n",
            "Epoch 75/100\n",
            "4/4 [==============================] - 0s 13ms/step - loss: 0.0121 - accuracy: 0.9918 - val_loss: 1.8270 - val_accuracy: 0.6415\n",
            "Epoch 76/100\n",
            "4/4 [==============================] - 0s 12ms/step - loss: 0.0170 - accuracy: 0.9918 - val_loss: 1.8731 - val_accuracy: 0.6792\n",
            "Epoch 77/100\n",
            "4/4 [==============================] - 0s 13ms/step - loss: 0.0122 - accuracy: 0.9918 - val_loss: 1.8946 - val_accuracy: 0.6415\n",
            "Epoch 78/100\n",
            "4/4 [==============================] - 0s 16ms/step - loss: 0.0163 - accuracy: 0.9836 - val_loss: 1.9378 - val_accuracy: 0.6415\n",
            "Epoch 79/100\n",
            "4/4 [==============================] - 0s 16ms/step - loss: 0.0159 - accuracy: 0.9836 - val_loss: 1.9564 - val_accuracy: 0.6415\n",
            "Epoch 80/100\n",
            "4/4 [==============================] - 0s 14ms/step - loss: 0.0159 - accuracy: 0.9918 - val_loss: 1.8890 - val_accuracy: 0.6792\n",
            "Epoch 81/100\n",
            "4/4 [==============================] - 0s 13ms/step - loss: 0.0117 - accuracy: 0.9918 - val_loss: 1.9239 - val_accuracy: 0.6415\n",
            "Epoch 82/100\n",
            "4/4 [==============================] - 0s 15ms/step - loss: 0.0165 - accuracy: 0.9918 - val_loss: 1.9574 - val_accuracy: 0.6415\n",
            "Epoch 83/100\n",
            "4/4 [==============================] - 0s 14ms/step - loss: 0.0161 - accuracy: 0.9918 - val_loss: 1.9195 - val_accuracy: 0.6792\n",
            "Epoch 84/100\n",
            "4/4 [==============================] - 0s 16ms/step - loss: 0.0154 - accuracy: 0.9918 - val_loss: 1.9674 - val_accuracy: 0.6415\n",
            "Epoch 85/100\n",
            "4/4 [==============================] - 0s 13ms/step - loss: 0.0119 - accuracy: 0.9918 - val_loss: 1.9805 - val_accuracy: 0.6415\n",
            "Epoch 86/100\n",
            "4/4 [==============================] - 0s 15ms/step - loss: 0.0160 - accuracy: 0.9918 - val_loss: 2.0209 - val_accuracy: 0.6792\n",
            "Epoch 87/100\n",
            "4/4 [==============================] - 0s 13ms/step - loss: 0.0151 - accuracy: 0.9918 - val_loss: 2.0067 - val_accuracy: 0.6226\n",
            "Epoch 88/100\n",
            "4/4 [==============================] - 0s 13ms/step - loss: 0.0149 - accuracy: 0.9836 - val_loss: 2.0321 - val_accuracy: 0.6415\n",
            "Epoch 89/100\n",
            "4/4 [==============================] - 0s 13ms/step - loss: 0.0146 - accuracy: 0.9836 - val_loss: 2.0157 - val_accuracy: 0.6415\n",
            "Epoch 90/100\n",
            "4/4 [==============================] - 0s 13ms/step - loss: 0.0147 - accuracy: 0.9918 - val_loss: 2.1007 - val_accuracy: 0.6792\n",
            "Epoch 91/100\n",
            "4/4 [==============================] - 0s 14ms/step - loss: 0.0143 - accuracy: 0.9836 - val_loss: 2.0056 - val_accuracy: 0.6792\n",
            "Epoch 92/100\n",
            "4/4 [==============================] - 0s 13ms/step - loss: 0.0144 - accuracy: 0.9836 - val_loss: 1.9929 - val_accuracy: 0.6792\n",
            "Epoch 93/100\n",
            "4/4 [==============================] - 0s 14ms/step - loss: 0.0145 - accuracy: 0.9918 - val_loss: 2.0467 - val_accuracy: 0.6226\n",
            "Epoch 94/100\n",
            "4/4 [==============================] - 0s 14ms/step - loss: 0.0143 - accuracy: 0.9918 - val_loss: 2.0345 - val_accuracy: 0.6792\n",
            "Epoch 95/100\n",
            "4/4 [==============================] - 0s 14ms/step - loss: 0.0141 - accuracy: 0.9918 - val_loss: 2.0341 - val_accuracy: 0.6415\n",
            "Epoch 96/100\n",
            "4/4 [==============================] - 0s 14ms/step - loss: 0.0143 - accuracy: 0.9836 - val_loss: 2.0520 - val_accuracy: 0.6415\n",
            "Epoch 97/100\n",
            "4/4 [==============================] - 0s 15ms/step - loss: 0.0143 - accuracy: 0.9918 - val_loss: 2.0902 - val_accuracy: 0.6792\n",
            "Epoch 98/100\n",
            "4/4 [==============================] - 0s 15ms/step - loss: 0.0143 - accuracy: 0.9918 - val_loss: 2.0731 - val_accuracy: 0.6226\n",
            "Epoch 99/100\n",
            "4/4 [==============================] - 0s 15ms/step - loss: 0.0144 - accuracy: 0.9918 - val_loss: 2.1163 - val_accuracy: 0.6792\n",
            "Epoch 100/100\n",
            "4/4 [==============================] - 0s 14ms/step - loss: 0.0139 - accuracy: 0.9836 - val_loss: 2.1058 - val_accuracy: 0.6792\n"
          ]
        },
        {
          "data": {
            "text/plain": [
              "<keras.callbacks.History at 0x7ffa58eb6850>"
            ]
          },
          "execution_count": 70,
          "metadata": {},
          "output_type": "execute_result"
        }
      ]
    },
    {
      "cell_type": "markdown",
      "metadata": {
        "id": "DmMha1WS-lA8"
      },
      "source": [
        "* Neural network with stemmed data give same accuracy for RMSprop and Adam but we will choose only Adam as it is considered the best"
      ]
    },
    {
      "cell_type": "markdown",
      "metadata": {
        "id": "hPR3CPUd2VF5"
      },
      "source": [
        "## **Testing the simple chatbot**"
      ]
    },
    {
      "cell_type": "code",
      "metadata": {
        "id": "KL3w5IfINZUR"
      },
      "source": [
        "with open('/content/drive/My Drive/Data Science/NLP/Project1/model_nb_S.pkl', 'rb') as file:\n",
        "  model = pickle.load(file)\n",
        "\n",
        "def preprocess(x):\n",
        "  x = \"\".join([i for i in re.sub(\"<.*>|[\\s]{2,}| [.0-9]+| [.0-9]{2,10}|[^a-zA-Z]\",\" \",x.lower()) if i not in string.punctuation])\n",
        "  x = tf.transform([PS.stem(i) for i in x.split(\" \")])\n",
        "  x = model.predict(x[0])\n",
        "  x = le.inverse_transform([x])\n",
        "  print(x)  "
      ],
      "execution_count": null,
      "outputs": []
    },
    {
      "cell_type": "code",
      "metadata": {
        "id": "NQ_eDstoi_Fu"
      },
      "source": [
        "def preprocess(x):\n",
        "  x = \"\".join([i for i in re.sub(\"<.*>|[\\s]{2,}| [.0-9]+| [.0-9]{2,10}|[^a-zA-Z]\",\" \",x.lower()) if i not in string.punctuation])\n",
        "  x = tfs.transform([PS.stem(i) for i in x.split(\" \")])\n",
        "  x = model.predict(x[0])\n",
        "  x = le.inverse_transform([x])\n",
        "  print(x)"
      ],
      "execution_count": null,
      "outputs": []
    },
    {
      "cell_type": "code",
      "metadata": {
        "colab": {
          "base_uri": "https://localhost:8080/"
        },
        "id": "PAgS9VP7ldo7",
        "outputId": "da3fd910-4d96-416a-c760-127d4093793a"
      },
      "source": [
        "preprocess(\"Hello \")"
      ],
      "execution_count": null,
      "outputs": [
        {
          "output_type": "stream",
          "name": "stdout",
          "text": [
            "['Link: Machine Learning wiki ']\n"
          ]
        }
      ]
    },
    {
      "cell_type": "markdown",
      "metadata": {
        "id": "UfT9dyuCqPw3"
      },
      "source": [
        "* Even though the chatbot's accuracy is good still we see that the classes it predicts is completely imbalanced, F1 score is not good for all the classes.\n",
        "\n",
        "* This leads to not having a certain response pop up eventhough your question is directly related to that.\n",
        "\n",
        "* We further clean up the data and make them little better to handle all the requests\n"
      ]
    },
    {
      "cell_type": "code",
      "metadata": {
        "id": "BkHHm3IDmEWo"
      },
      "source": [
        "df3 = pd.read_csv(\"/content/drive/My Drive/Data Science/NLP/Project1/Bot data.csv\",encoding = \"ISO-8859-1\")\n",
        "\n",
        "#Updated sheet with new comments"
      ],
      "execution_count": 53,
      "outputs": []
    },
    {
      "cell_type": "code",
      "metadata": {
        "colab": {
          "base_uri": "https://localhost:8080/"
        },
        "id": "TEI7Az7RKi6Y",
        "outputId": "94a54c49-1f8f-46ef-f250-4f1abd749d77"
      },
      "source": [
        "le = LabelEncoder()\n",
        "df3['Target'] = le.fit_transform(df3['Responses'])\n",
        "df3['Target'].value_counts()\n",
        "\n",
        "#This is slightly balanced dataset with better inputs"
      ],
      "execution_count": 54,
      "outputs": [
        {
          "output_type": "execute_result",
          "data": {
            "text/plain": [
              "4    41\n",
              "3    40\n",
              "7    37\n",
              "2    36\n",
              "5    35\n",
              "6    33\n",
              "0    33\n",
              "1    31\n",
              "Name: Target, dtype: int64"
            ]
          },
          "metadata": {},
          "execution_count": 54
        }
      ]
    },
    {
      "cell_type": "code",
      "metadata": {
        "id": "Jg02LJae8ejn"
      },
      "source": [
        "# pd.DataFrame(df3.groupby('Responses')['Target'].mean())\n",
        "data_dict = {0:'Hello! how can i help you ?',1:'I am your virtual learning assistant',2:'I hope I was able to assist you, Good Bye',\n",
        "             3:'Link: Machine Learning wiki',4:'Link: Neural Nets wiki',5:'Link: Olympus wiki',6:'Please use respectful words',\n",
        "             7:'Transferring the request to your PM'}\n",
        "\n",
        "def data_dict():\n",
        "  return {0:'Hello! how can i help you ?',1:'I am your virtual learning assistant',2:'I hope I was able to assist you, Good Bye',\n",
        "             3:'Link: Machine Learning wiki',4:'Link: Neural Nets wiki',5:'Link: Olympus wiki',6:'Please use respectful words',\n",
        "             7:'Transferring the request to your PM'}\n",
        "\n",
        "\n",
        "\n",
        "#Collecting data in the form of dictionary to inverse transform in the end             "
      ],
      "execution_count": 113,
      "outputs": []
    },
    {
      "cell_type": "code",
      "metadata": {
        "id": "Upw7lTbJmuDR"
      },
      "source": [
        "cleaned_text1 = [[i for i in nltk.word_tokenize(\"\".join([i for i in re.sub(\"<.*>|[\\s]{2,}| [.0-9]+| [.0-9]{2,10}|[^a-zA-Z]\",\" \",t.lower()) if i not in string.punctuation]))] for t in df3['Pattern']]\n",
        "# cleaned_text1 = [[i for i in nltk.word_tokenize(\"\".join([i for i in re.sub(\"<.*>|[\\s]{2,}| [.0-9]+| [.0-9]{2,10}|[^a-zA-Z]\",\" \",t.lower()) if i not in string.punctuation])) if i not in stopwords.words('english')] for t in df3['Pattern']]"
      ],
      "execution_count": 20,
      "outputs": []
    },
    {
      "cell_type": "code",
      "metadata": {
        "id": "XzCSfPz8n08g"
      },
      "source": [
        "PS = PorterStemmer()\n",
        "WNL = WordNetLemmatizer()\n",
        "X_train, X_test, y_train, y_test = train_test_split(cleaned_text1, df3['Target'], test_size=0.3, random_state=11)\n",
        "\n",
        "X_train_L = []\n",
        "for i in X_train:\n",
        "  m = []\n",
        "  for j in i:\n",
        "    m.append(WNL.lemmatize(j,pos='v'))\n",
        "  X_train_L.append(m)\n",
        "\n",
        "\n",
        "X_test_L = []\n",
        "for i in X_test:\n",
        "  m = []\n",
        "  for j in i:\n",
        "    m.append(WNL.lemmatize(j,pos='v'))\n",
        "  X_test_L.append(m)\n",
        "\n",
        "#Using Lemmatization\n",
        "\n",
        "X_train_S = []\n",
        "for i in X_train:\n",
        "  m = []\n",
        "  for j in i:\n",
        "    m.append(PS.stem(j))\n",
        "  X_train_S.append(m)\n",
        "\n",
        "\n",
        "X_test_S = []\n",
        "for i in X_test:\n",
        "  m = []\n",
        "  for j in i:\n",
        "    m.append(PS.stem(j))\n",
        "  X_test_S.append(m)\n",
        "\n",
        "#Using Stemmer\n",
        "\n",
        "X_train_S = [\" \".join(i) for i in X_train_S]\n",
        "X_test_S = [\" \".join(i) for i in X_test_S]\n",
        "\n",
        "\n",
        "tfs = TfidfVectorizer()\n",
        "X_train_S_tf = tfs.fit_transform(X_train_S)\n",
        "X_test_S_tf = tfs.transform(X_test_S)\n",
        "\n",
        "\n",
        "X_train_L = [\" \".join(i) for i in X_train_L]\n",
        "X_test_L = [\" \".join(i) for i in X_test_L]\n",
        "tfL = TfidfVectorizer()\n",
        "X_train_L_tf = tfL.fit_transform(X_train_L)\n",
        "X_test_L_tf = tfL.transform(X_test_L)"
      ],
      "execution_count": 21,
      "outputs": []
    },
    {
      "cell_type": "markdown",
      "metadata": {
        "id": "tpy4RuMhg9z3"
      },
      "source": [
        "# We use Pipe operator as this is the best model with 71% accuracy"
      ]
    },
    {
      "cell_type": "code",
      "metadata": {
        "id": "GnGfkce6KaAI"
      },
      "source": [
        "model_nb = MultinomialNB(alpha=0.2)\n",
        "pipe = Pipeline([(\"Lemmatizingvectorizer\",tfL),\n",
        "                 (\"Model\",model_nb)])\n",
        "#using LEmma data"
      ],
      "execution_count": null,
      "outputs": []
    },
    {
      "cell_type": "code",
      "metadata": {
        "colab": {
          "base_uri": "https://localhost:8080/"
        },
        "id": "9X7Jr2eAgZy-",
        "outputId": "cce38b4f-2e9c-42dd-af8d-8e58440a4fe4"
      },
      "source": [
        "pipe.fit(X_train_L,y_train)"
      ],
      "execution_count": null,
      "outputs": [
        {
          "output_type": "execute_result",
          "data": {
            "text/plain": [
              "Pipeline(memory=None,\n",
              "         steps=[('Lemmatizingvectorizer',\n",
              "                 TfidfVectorizer(analyzer='word', binary=False,\n",
              "                                 decode_error='strict',\n",
              "                                 dtype=<class 'numpy.float64'>,\n",
              "                                 encoding='utf-8', input='content',\n",
              "                                 lowercase=True, max_df=1.0, max_features=None,\n",
              "                                 min_df=1, ngram_range=(1, 1), norm='l2',\n",
              "                                 preprocessor=None, smooth_idf=True,\n",
              "                                 stop_words=None, strip_accents=None,\n",
              "                                 sublinear_tf=False,\n",
              "                                 token_pattern='(?u)\\\\b\\\\w\\\\w+\\\\b',\n",
              "                                 tokenizer=None, use_idf=True,\n",
              "                                 vocabulary=None)),\n",
              "                ('Model',\n",
              "                 MultinomialNB(alpha=0.2, class_prior=None, fit_prior=True))],\n",
              "         verbose=False)"
            ]
          },
          "metadata": {},
          "execution_count": 213
        }
      ]
    },
    {
      "cell_type": "code",
      "metadata": {
        "id": "vM55ZoLDgzKR"
      },
      "source": [
        "pred_L_tf = pipe.predict(X_test_L)"
      ],
      "execution_count": null,
      "outputs": []
    },
    {
      "cell_type": "code",
      "metadata": {
        "colab": {
          "base_uri": "https://localhost:8080/"
        },
        "id": "xtCNftYSLMIT",
        "outputId": "534abf75-f813-4a70-f3d3-d8431a3de7e9"
      },
      "source": [
        "print(classification_report(y_test,pred_L_tf))\n",
        "\n",
        "#Even though the accuracy is bad, we can see that the F1 score is almost balanced on all classes"
      ],
      "execution_count": null,
      "outputs": [
        {
          "output_type": "stream",
          "name": "stdout",
          "text": [
            "              precision    recall  f1-score   support\n",
            "\n",
            "           0       0.83      0.36      0.50        14\n",
            "           1       1.00      0.91      0.95        11\n",
            "           2       1.00      0.60      0.75        10\n",
            "           3       0.44      1.00      0.61        11\n",
            "           4       1.00      0.64      0.78        14\n",
            "           5       0.77      1.00      0.87        10\n",
            "           6       0.67      0.40      0.50         5\n",
            "           7       0.57      0.73      0.64        11\n",
            "\n",
            "    accuracy                           0.71        86\n",
            "   macro avg       0.79      0.70      0.70        86\n",
            "weighted avg       0.80      0.71      0.71        86\n",
            "\n"
          ]
        }
      ]
    },
    {
      "cell_type": "code",
      "metadata": {
        "id": "RM7O3-FxLnYS"
      },
      "source": [
        "model_nb_S = MultinomialNB(alpha=0.5)\n",
        "model_nb_S.fit(X_train_S_tf,y_train)\n",
        "pred_S_tf = model_nb_S.predict(X_test_S_tf)\n",
        "\n",
        "#using Stem data - Better accuracy"
      ],
      "execution_count": 52,
      "outputs": []
    },
    {
      "cell_type": "code",
      "metadata": {
        "colab": {
          "base_uri": "https://localhost:8080/"
        },
        "id": "UaYaHLxXLxeI",
        "outputId": "31b33d97-72c0-4e98-c805-25331d5a90e7"
      },
      "source": [
        "print(classification_report(y_test,pred_S_tf))"
      ],
      "execution_count": null,
      "outputs": [
        {
          "output_type": "stream",
          "name": "stdout",
          "text": [
            "              precision    recall  f1-score   support\n",
            "\n",
            "           0       1.00      0.36      0.53        14\n",
            "           1       0.90      0.82      0.86        11\n",
            "           2       1.00      0.60      0.75        10\n",
            "           3       0.42      1.00      0.59        11\n",
            "           4       1.00      0.57      0.73        14\n",
            "           5       0.77      1.00      0.87        10\n",
            "           6       0.50      0.40      0.44         5\n",
            "           7       0.57      0.73      0.64        11\n",
            "\n",
            "    accuracy                           0.69        86\n",
            "   macro avg       0.77      0.68      0.68        86\n",
            "weighted avg       0.80      0.69      0.69        86\n",
            "\n"
          ]
        }
      ]
    },
    {
      "cell_type": "code",
      "metadata": {
        "id": "LR2tJe4_Lzll"
      },
      "source": [
        "DTC = DecisionTreeClassifier(max_depth=33)\n",
        "DTC.fit(X_train_L_tf,y_train)\n",
        "pred_L_tf_DTC = model_nb.predict(X_test_L_tf)"
      ],
      "execution_count": null,
      "outputs": []
    },
    {
      "cell_type": "code",
      "metadata": {
        "colab": {
          "base_uri": "https://localhost:8080/"
        },
        "id": "gSOVHWIgMW5y",
        "outputId": "11d3e771-de83-47e1-e1bc-952d6ef98401"
      },
      "source": [
        "print(classification_report(y_test,pred_L_tf_DTC))"
      ],
      "execution_count": null,
      "outputs": [
        {
          "output_type": "stream",
          "name": "stdout",
          "text": [
            "              precision    recall  f1-score   support\n",
            "\n",
            "           0       0.83      0.36      0.50        14\n",
            "           1       1.00      0.91      0.95        11\n",
            "           2       1.00      0.60      0.75        10\n",
            "           3       0.44      1.00      0.61        11\n",
            "           4       1.00      0.64      0.78        14\n",
            "           5       0.77      1.00      0.87        10\n",
            "           6       0.67      0.40      0.50         5\n",
            "           7       0.57      0.73      0.64        11\n",
            "\n",
            "    accuracy                           0.71        86\n",
            "   macro avg       0.79      0.70      0.70        86\n",
            "weighted avg       0.80      0.71      0.71        86\n",
            "\n"
          ]
        }
      ]
    },
    {
      "cell_type": "code",
      "metadata": {
        "id": "ip0qkpoXNBx9"
      },
      "source": [
        "RFC1 = RandomForestClassifier()\n",
        "param_grid = {\"n_estimators\":[50,100,150,200,250,300,350,400,450,500],\"criterion\":['gini','entropy']}\n",
        "GSCV1 = GridSearchCV(estimator=RFC1,param_grid=param_grid)\n",
        "GSCV1.fit(X_train_S_tf,y_train)\n",
        "pred_S_tf_RFC = GSCV1.predict(X_test_S_tf)"
      ],
      "execution_count": null,
      "outputs": []
    },
    {
      "cell_type": "code",
      "metadata": {
        "colab": {
          "base_uri": "https://localhost:8080/"
        },
        "id": "ggNlDztxNdwp",
        "outputId": "a8cab25a-9abf-4a6d-bfbf-48f24d95dd53"
      },
      "source": [
        "print(classification_report(y_test,pred_S_tf_RFC))"
      ],
      "execution_count": null,
      "outputs": [
        {
          "output_type": "stream",
          "name": "stdout",
          "text": [
            "              precision    recall  f1-score   support\n",
            "\n",
            "           0       0.55      0.43      0.48        14\n",
            "           1       0.89      0.73      0.80        11\n",
            "           2       1.00      0.20      0.33        10\n",
            "           3       0.50      0.55      0.52        11\n",
            "           4       0.48      0.79      0.59        14\n",
            "           5       0.83      1.00      0.91        10\n",
            "           6       0.40      0.40      0.40         5\n",
            "           7       0.67      0.73      0.70        11\n",
            "\n",
            "    accuracy                           0.62        86\n",
            "   macro avg       0.66      0.60      0.59        86\n",
            "weighted avg       0.67      0.62      0.60        86\n",
            "\n"
          ]
        }
      ]
    },
    {
      "cell_type": "markdown",
      "metadata": {
        "id": "d3AWLzQarPIG"
      },
      "source": [
        "## We pickup the pipelined Naive bayes model that takes in lemmatized vector"
      ]
    },
    {
      "cell_type": "code",
      "metadata": {
        "id": "aEdBwuGbQVUB"
      },
      "source": [
        "pk_du = pickle.dump(pipe,open('/content/drive/My Drive/Data Science/NLP/Project1/pipe.pkl','wb'))"
      ],
      "execution_count": null,
      "outputs": []
    },
    {
      "cell_type": "code",
      "metadata": {
        "id": "KJ8PVwevV7b1"
      },
      "source": [
        "with open('/content/drive/My Drive/Data Science/NLP/Project1/pipe.pkl', 'rb') as file:\n",
        "  model = pickle.load(file)"
      ],
      "execution_count": 71,
      "outputs": []
    },
    {
      "cell_type": "code",
      "metadata": {
        "colab": {
          "base_uri": "https://localhost:8080/"
        },
        "id": "tMhXcgq0kkpq",
        "outputId": "10118887-1309-4139-b257-bfab2e90086c"
      },
      "source": [
        "model"
      ],
      "execution_count": 72,
      "outputs": [
        {
          "output_type": "execute_result",
          "data": {
            "text/plain": [
              "Pipeline(memory=None,\n",
              "         steps=[('Lemmatizingvectorizer',\n",
              "                 TfidfVectorizer(analyzer='word', binary=False,\n",
              "                                 decode_error='strict',\n",
              "                                 dtype=<class 'numpy.float64'>,\n",
              "                                 encoding='utf-8', input='content',\n",
              "                                 lowercase=True, max_df=1.0, max_features=None,\n",
              "                                 min_df=1, ngram_range=(1, 1), norm='l2',\n",
              "                                 preprocessor=None, smooth_idf=True,\n",
              "                                 stop_words=None, strip_accents=None,\n",
              "                                 sublinear_tf=False,\n",
              "                                 token_pattern='(?u)\\\\b\\\\w\\\\w+\\\\b',\n",
              "                                 tokenizer=None, use_idf=True,\n",
              "                                 vocabulary=None)),\n",
              "                ('Model',\n",
              "                 MultinomialNB(alpha=0.2, class_prior=None, fit_prior=True))],\n",
              "         verbose=False)"
            ]
          },
          "metadata": {},
          "execution_count": 72
        }
      ]
    },
    {
      "cell_type": "code",
      "metadata": {
        "id": "bpxcKAkCTBig"
      },
      "source": [
        "# def preprocess(x):\n",
        "#   x = \"\".join([i for i in re.sub(\"<.*>|[\\s]{2,}| [.0-9]+| [.0-9]{2,10}|[^a-zA-Z]\",\" \",x.lower()) if i not in string.punctuation])\n",
        "#   x = [WNL.lemmatize(i) for i in x.split(\" \")]\n",
        "#   x = [\" \".join(x)]\n",
        "#   pred = model.predict(x)\n",
        "#   x = le.inverse_transform([pred])\n",
        "#   return x[0],pred\n",
        "\n",
        "\n",
        "le = LabelEncoder()"
      ],
      "execution_count": 73,
      "outputs": []
    },
    {
      "cell_type": "markdown",
      "metadata": {
        "id": "fvty6QgGrdQ7"
      },
      "source": [
        "## The Great Learning Chat bot!!\n",
        "\n",
        "* This bot not only takes End or Quit as input to quit the conversation, it also takes any response like **\"thanks for the help\"**  and  **\"Transferring the request to your PM\"**\n",
        "to end the conversation\n",
        "\n",
        "* The model's accuracy is 71% and it gives a comparitively good prediction than the previous dataset. The more we add data the better we can expect responses"
      ]
    },
    {
      "cell_type": "code",
      "metadata": {
        "id": "mVRXPkYbmZ8W"
      },
      "source": [
        "def preprocess(x):\n",
        "  WNL = WordNetLemmatizer()\n",
        "  data = data_dict()\n",
        "  pred = model.predict([\" \".join([WNL.lemmatize(i) for i in \"\".join([i for i in re.sub(\"<.*>|[\\s]{2,}| [.0-9]+| [.0-9]{2,10}|[^a-zA-Z]\",\" \",x.lower()) if i not in string.punctuation]).split(\" \")])])\n",
        "  x = data[pred[0]]\n",
        "  return x,pred"
      ],
      "execution_count": 120,
      "outputs": []
    },
    {
      "cell_type": "code",
      "metadata": {
        "id": "L831Yrf5dLT1"
      },
      "source": [
        "def bot():\n",
        "  print(\"To start, say 'Hello' and to end say 'Quit' or 'End' \\n\")\n",
        "  i = input(\"You: \").lower()\n",
        "  if (i== 'end' or i=='quit'):\n",
        "    print(\"\\nThanks for connecting\")\n",
        "  else:\n",
        "    x,y = preprocess(i)\n",
        "    if y == 2 or y == 7:\n",
        "      print(\"\\n\"+\"Bot: \"+x+\"\\n\")\n",
        "    else:\n",
        "      print(\"\\n\"+ \"Bot: \" +x+\"\\n\")\n",
        "      bot()"
      ],
      "execution_count": 121,
      "outputs": []
    },
    {
      "cell_type": "code",
      "metadata": {
        "colab": {
          "base_uri": "https://localhost:8080/"
        },
        "id": "P1zp-oJjhCZj",
        "outputId": "e293eb36-9747-4002-fdf6-797d9ad307a6"
      },
      "source": [
        "bot()"
      ],
      "execution_count": null,
      "outputs": [
        {
          "output_type": "stream",
          "name": "stdout",
          "text": [
            "To start, say 'Hello' and to end say 'Quit' or 'End' \n",
            "\n",
            "You: Hello there\n",
            "\n",
            "Bot: Hello! how can i help you ?\n",
            "\n",
            "To start, say 'Hello' and to end say 'Quit' or 'End' \n",
            "\n",
            "You: What is the course fee?\n",
            "\n",
            "Bot: Link: Olympus wiki\n",
            "\n",
            "To start, say 'Hello' and to end say 'Quit' or 'End' \n",
            "\n",
            "You: stupid bitch\n",
            "\n",
            "Bot: Please use respectful words\n",
            "\n",
            "To start, say 'Hello' and to end say 'Quit' or 'End' \n",
            "\n",
            "You: Can i talk to a human??\n",
            "\n",
            "Bot: Transferring the request to your PM\n",
            "\n"
          ]
        }
      ]
    }
  ]
}